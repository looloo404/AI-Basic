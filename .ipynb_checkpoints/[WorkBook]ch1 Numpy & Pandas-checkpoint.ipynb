{
 "cells": [
  {
   "cell_type": "markdown",
   "metadata": {
    "id": "k4zYsf3Qzyo3"
   },
   "source": [
    "# [KDT] ch1 데이타분석용 파이썬 이해"
   ]
  },
  {
   "cell_type": "code",
   "execution_count": null,
   "metadata": {
    "id": "Jn4muvF6fYW-",
    "outputId": "d6dd4a00-e7c1-44b4-db9a-215d6ff1d6a7"
   },
   "outputs": [],
   "source": [
    "import os\n",
    "os.getcwd()"
   ]
  },
  {
   "cell_type": "code",
   "execution_count": null,
   "metadata": {
    "id": "FzscBurRzyo6"
   },
   "outputs": [],
   "source": [
    "import pandas as pd\n",
    "import numpy as np\n",
    "import warnings\n",
    "warnings.filterwarnings('ignore')"
   ]
  },
  {
   "cell_type": "code",
   "execution_count": null,
   "metadata": {
    "id": "RgXhNucwzyo7"
   },
   "outputs": [],
   "source": [
    "pd.__version__"
   ]
  },
  {
   "cell_type": "markdown",
   "metadata": {
    "id": "MQHG6qF9gnyl"
   },
   "source": [
    "# 1. Numpy"
   ]
  },
  {
   "cell_type": "code",
   "execution_count": null,
   "metadata": {
    "id": "b33-j2Frgnyq"
   },
   "outputs": [],
   "source": [
    "#import numpy \n"
   ]
  },
  {
   "cell_type": "code",
   "execution_count": null,
   "metadata": {
    "colab": {
     "base_uri": "https://localhost:8080/"
    },
    "executionInfo": {
     "elapsed": 7,
     "status": "ok",
     "timestamp": 1672369492989,
     "user": {
      "displayName": "jinyang park",
      "userId": "06576046992691541404"
     },
     "user_tz": -540
    },
    "id": "aW5wIu4sgnyu",
    "outputId": "aa98ca11-51e3-4924-acb6-8dfe4ea1c886",
    "scrolled": true
   },
   "outputs": [],
   "source": [
    "# nd array 1차원\n"
   ]
  },
  {
   "cell_type": "code",
   "execution_count": null,
   "metadata": {
    "colab": {
     "base_uri": "https://localhost:8080/"
    },
    "executionInfo": {
     "elapsed": 240,
     "status": "ok",
     "timestamp": 1672370394872,
     "user": {
      "displayName": "jinyang park",
      "userId": "06576046992691541404"
     },
     "user_tz": -540
    },
    "id": "f_zyo_5Ugnyy",
    "outputId": "9d1dad04-d520-45e9-c5d8-c86cb5dfb796"
   },
   "outputs": [],
   "source": [
    "# nd array 2차원\n"
   ]
  },
  {
   "cell_type": "code",
   "execution_count": null,
   "metadata": {
    "colab": {
     "base_uri": "https://localhost:8080/"
    },
    "executionInfo": {
     "elapsed": 4,
     "status": "ok",
     "timestamp": 1672370395962,
     "user": {
      "displayName": "jinyang park",
      "userId": "06576046992691541404"
     },
     "user_tz": -540
    },
    "id": "MMj33MsHgny1",
    "outputId": "d9fc5025-daa5-44d3-b421-977d7cc11a9e"
   },
   "outputs": [],
   "source": [
    "# nd array 3차원\n"
   ]
  },
  {
   "cell_type": "markdown",
   "metadata": {
    "id": "QspHZJnRgny8"
   },
   "source": [
    "### 1_1. ndarray의 데이터 타입"
   ]
  },
  {
   "cell_type": "code",
   "execution_count": null,
   "metadata": {},
   "outputs": [],
   "source": [
    "# int type\n"
   ]
  },
  {
   "cell_type": "code",
   "execution_count": null,
   "metadata": {},
   "outputs": [],
   "source": [
    "# int type + object\n",
    "\n",
    "# int type + float\n"
   ]
  },
  {
   "cell_type": "code",
   "execution_count": null,
   "metadata": {},
   "outputs": [],
   "source": [
    "# type 변환, astype('float'), astype('int')\n"
   ]
  },
  {
   "cell_type": "markdown",
   "metadata": {
    "id": "2g4oyFqcgny_"
   },
   "source": [
    "### 1_2. ndarray를 편리하게 생성하기 - arange, zeros, ones"
   ]
  },
  {
   "cell_type": "code",
   "execution_count": null,
   "metadata": {
    "colab": {
     "base_uri": "https://localhost:8080/"
    },
    "executionInfo": {
     "elapsed": 309,
     "status": "ok",
     "timestamp": 1672370529702,
     "user": {
      "displayName": "jinyang park",
      "userId": "06576046992691541404"
     },
     "user_tz": -540
    },
    "id": "n6d-qN9Xgny_",
    "outputId": "f9a5bca6-c2ee-4b4b-a268-e03b7b15e4bc"
   },
   "outputs": [],
   "source": [
    "# np.arange\n"
   ]
  },
  {
   "cell_type": "code",
   "execution_count": null,
   "metadata": {
    "colab": {
     "base_uri": "https://localhost:8080/"
    },
    "executionInfo": {
     "elapsed": 248,
     "status": "ok",
     "timestamp": 1672370554080,
     "user": {
      "displayName": "jinyang park",
      "userId": "06576046992691541404"
     },
     "user_tz": -540
    },
    "id": "7gnWcUv5gnzA",
    "outputId": "51c3172c-f66a-42da-b0f6-9f32b6b1bf80"
   },
   "outputs": [],
   "source": [
    "#(3, 2) shape을 가지는 모든 원소가 0, dtype은 int32 인 ndarray 생성. \n",
    "\n",
    "\n",
    "#(3, 2) shape을 가지는 모든 원소가 1인 ndarray 생성.\n"
   ]
  },
  {
   "cell_type": "markdown",
   "metadata": {
    "id": "vwdC1ch7gnzA"
   },
   "source": [
    "### 1_3. ndarray reshape"
   ]
  },
  {
   "cell_type": "code",
   "execution_count": null,
   "metadata": {
    "colab": {
     "base_uri": "https://localhost:8080/"
    },
    "executionInfo": {
     "elapsed": 315,
     "status": "ok",
     "timestamp": 1672370622072,
     "user": {
      "displayName": "jinyang park",
      "userId": "06576046992691541404"
     },
     "user_tz": -540
    },
    "id": "dlCEKDxIgnzB",
    "outputId": "38ac0b2e-2e79-4462-89b5-239f05ac9e6d"
   },
   "outputs": [],
   "source": [
    "# reshape\n",
    "\n",
    "# (2, 5) shape으로 변환\n",
    "\n",
    "#(5, 2) shape으로 변환\n"
   ]
  },
  {
   "cell_type": "code",
   "execution_count": null,
   "metadata": {
    "colab": {
     "base_uri": "https://localhost:8080/",
     "height": 172
    },
    "executionInfo": {
     "elapsed": 257,
     "status": "error",
     "timestamp": 1672370631666,
     "user": {
      "displayName": "jinyang park",
      "userId": "06576046992691541404"
     },
     "user_tz": -540
    },
    "id": "ujqn-PGXgnzB",
    "outputId": "359637cf-25a8-4b92-ff84-5a24acdc708d"
   },
   "outputs": [],
   "source": [
    "# reshape (X)\n"
   ]
  },
  {
   "cell_type": "code",
   "execution_count": null,
   "metadata": {
    "colab": {
     "base_uri": "https://localhost:8080/"
    },
    "executionInfo": {
     "elapsed": 257,
     "status": "ok",
     "timestamp": 1672370645213,
     "user": {
      "displayName": "jinyang park",
      "userId": "06576046992691541404"
     },
     "user_tz": -540
    },
    "id": "BToiIwkHgnzC",
    "outputId": "7654e568-25bc-4f3e-a755-2a17e208a70a"
   },
   "outputs": [],
   "source": [
    "# reshape(-1)\n"
   ]
  },
  {
   "cell_type": "code",
   "execution_count": null,
   "metadata": {
    "colab": {
     "base_uri": "https://localhost:8080/",
     "height": 190
    },
    "executionInfo": {
     "elapsed": 281,
     "status": "error",
     "timestamp": 1672370652761,
     "user": {
      "displayName": "jinyang park",
      "userId": "06576046992691541404"
     },
     "user_tz": -540
    },
    "id": "ScbKYyghgnzC",
    "outputId": "ce63cfd9-1048-4d95-cbe5-5719a819cd2d"
   },
   "outputs": [],
   "source": [
    "# reshape (X)\n"
   ]
  },
  {
   "cell_type": "code",
   "execution_count": null,
   "metadata": {
    "colab": {
     "base_uri": "https://localhost:8080/"
    },
    "executionInfo": {
     "elapsed": 484,
     "status": "ok",
     "timestamp": 1672370659861,
     "user": {
      "displayName": "jinyang park",
      "userId": "06576046992691541404"
     },
     "user_tz": -540
    },
    "id": "Lz1r6OFqgnzD",
    "outputId": "5afbe71a-b12c-41e3-eb59-6986c65090c7"
   },
   "outputs": [],
   "source": [
    "# reshape (ndarray 차원변환) \n",
    "\n",
    "# 1차원 ndarray를 3차원 ndarray로 변환 \n",
    "\n",
    "# 3차원 ndarray를 2차원 ndarray로 변환하되 칼럼갯수는 1 \n",
    "\n",
    "# 1차원 ndarray를 2차원 ndarray로 변환화되 칼럼 갯수는 1 \n",
    "\n",
    "# 3차원 ndarray를 1차원으로 변환 "
   ]
  },
  {
   "cell_type": "markdown",
   "metadata": {
    "id": "nrYmBXXFgnzE"
   },
   "source": [
    "### 1_4. ndarray indexing"
   ]
  },
  {
   "cell_type": "markdown",
   "metadata": {
    "id": "EdJ6_-0zgnzE"
   },
   "source": [
    "* 단일 값 추출 (1d array)"
   ]
  },
  {
   "cell_type": "code",
   "execution_count": null,
   "metadata": {
    "colab": {
     "base_uri": "https://localhost:8080/"
    },
    "executionInfo": {
     "elapsed": 345,
     "status": "ok",
     "timestamp": 1664428844819,
     "user": {
      "displayName": "jinyang park",
      "userId": "06576046992691541404"
     },
     "user_tz": -540
    },
    "id": "8RbAjk8XgnzF",
    "outputId": "2ce21c61-40b1-4cca-e0a2-f4c39fb008c8"
   },
   "outputs": [],
   "source": [
    "# 1에서 부터 12 까지의 1차원 ndarray 생성 "
   ]
  },
  {
   "cell_type": "code",
   "execution_count": null,
   "metadata": {
    "colab": {
     "base_uri": "https://localhost:8080/"
    },
    "executionInfo": {
     "elapsed": 347,
     "status": "ok",
     "timestamp": 1664428854881,
     "user": {
      "displayName": "jinyang park",
      "userId": "06576046992691541404"
     },
     "user_tz": -540
    },
    "id": "UvhTU2HognzF",
    "outputId": "13ff0585-d763-4721-af31-ecb8bc7eb5eb"
   },
   "outputs": [],
   "source": [
    "# array[-1] 맨 뒤값"
   ]
  },
  {
   "cell_type": "markdown",
   "metadata": {
    "id": "3JIJwBdkskl4"
   },
   "source": [
    "단일 값 추출 (2d array)"
   ]
  },
  {
   "cell_type": "code",
   "execution_count": null,
   "metadata": {
    "colab": {
     "base_uri": "https://localhost:8080/"
    },
    "executionInfo": {
     "elapsed": 518,
     "status": "ok",
     "timestamp": 1664430573738,
     "user": {
      "displayName": "jinyang park",
      "userId": "06576046992691541404"
     },
     "user_tz": -540
    },
    "id": "DfrUL2awgnzH",
    "outputId": "49020849-189f-44d7-e4b8-80bea2d14797"
   },
   "outputs": [],
   "source": [
    "# 실습 array 생성\n"
   ]
  },
  {
   "cell_type": "code",
   "execution_count": null,
   "metadata": {
    "colab": {
     "base_uri": "https://localhost:8080/"
    },
    "executionInfo": {
     "elapsed": 335,
     "status": "ok",
     "timestamp": 1664429924380,
     "user": {
      "displayName": "jinyang park",
      "userId": "06576046992691541404"
     },
     "user_tz": -540
    },
    "id": "OVD2uugMs3vm",
    "outputId": "a0fea038-9545-4409-9f8c-57b1397721c1"
   },
   "outputs": [],
   "source": [
    "# ndarray indexing\n"
   ]
  },
  {
   "cell_type": "markdown",
   "metadata": {
    "id": "rLaglLtxgnzH"
   },
   "source": [
    "* 슬라이싱 - 연속된 인덱스상의 값을 추출하는 방식"
   ]
  },
  {
   "cell_type": "code",
   "execution_count": null,
   "metadata": {
    "colab": {
     "base_uri": "https://localhost:8080/"
    },
    "executionInfo": {
     "elapsed": 527,
     "status": "ok",
     "timestamp": 1664433199986,
     "user": {
      "displayName": "jinyang park",
      "userId": "06576046992691541404"
     },
     "user_tz": -540
    },
    "id": "I9l5lHBHyc_z",
    "outputId": "7a9cd89d-713e-4bb5-d668-47303231f4d1"
   },
   "outputs": [],
   "source": [
    "# 실습 array 생성\n"
   ]
  },
  {
   "cell_type": "code",
   "execution_count": null,
   "metadata": {
    "colab": {
     "base_uri": "https://localhost:8080/"
    },
    "executionInfo": {
     "elapsed": 1118,
     "status": "ok",
     "timestamp": 1664436184190,
     "user": {
      "displayName": "jinyang park",
      "userId": "06576046992691541404"
     },
     "user_tz": -540
    },
    "id": "nVz-hSBNgnzI",
    "outputId": "2c694457-cef7-4a61-8d7c-07713d47ddce"
   },
   "outputs": [],
   "source": [
    "# 슬라이싱 1d\n"
   ]
  },
  {
   "cell_type": "code",
   "execution_count": null,
   "metadata": {
    "colab": {
     "base_uri": "https://localhost:8080/"
    },
    "executionInfo": {
     "elapsed": 4,
     "status": "ok",
     "timestamp": 1664436171390,
     "user": {
      "displayName": "jinyang park",
      "userId": "06576046992691541404"
     },
     "user_tz": -540
    },
    "id": "5cxYM6-9zueT",
    "outputId": "559f38f9-0c6f-4f59-e484-f3b11ebe3d4f"
   },
   "outputs": [],
   "source": [
    "# 슬라이싱 2d"
   ]
  },
  {
   "cell_type": "markdown",
   "metadata": {
    "id": "xsPz5_w7gnzK"
   },
   "source": [
    "* 팬시 인덱싱 - 리스트나 ndarray로 인덱스 집합을 지정하는 방식"
   ]
  },
  {
   "cell_type": "code",
   "execution_count": null,
   "metadata": {
    "colab": {
     "base_uri": "https://localhost:8080/"
    },
    "executionInfo": {
     "elapsed": 864,
     "status": "ok",
     "timestamp": 1664433225939,
     "user": {
      "displayName": "jinyang park",
      "userId": "06576046992691541404"
     },
     "user_tz": -540
    },
    "id": "US9Ev7Us81ZY",
    "outputId": "8ed25900-9c5b-4ea8-e7ce-1cb66efcb631"
   },
   "outputs": [],
   "source": [
    "# 실습 array 생성\n",
    "arr_12 = np.arange(12)\n",
    "print('arr_12\\n', arr_12)\n",
    "arr_26 = arr_12.reshape(2,6)\n",
    "print('arr_26\\n', arr_26)\n",
    "arr_34 = arr_12.reshape(3,-1)\n",
    "print('arr_34\\n', arr_34)"
   ]
  },
  {
   "cell_type": "code",
   "execution_count": null,
   "metadata": {
    "colab": {
     "base_uri": "https://localhost:8080/"
    },
    "executionInfo": {
     "elapsed": 924,
     "status": "ok",
     "timestamp": 1664436202733,
     "user": {
      "displayName": "jinyang park",
      "userId": "06576046992691541404"
     },
     "user_tz": -540
    },
    "id": "FxyKyLZt9BFX",
    "outputId": "9629b6c9-1585-47d3-d120-c303cc9102d2"
   },
   "outputs": [],
   "source": [
    "# 팬시 인덱싱\n"
   ]
  },
  {
   "cell_type": "markdown",
   "metadata": {
    "id": "C2HU1FmMgnzL"
   },
   "source": [
    "* 불린 인덱싱- True, False 조건으로 인덱스 집합을 지정하는 방식"
   ]
  },
  {
   "cell_type": "code",
   "execution_count": null,
   "metadata": {
    "colab": {
     "base_uri": "https://localhost:8080/"
    },
    "executionInfo": {
     "elapsed": 463,
     "status": "ok",
     "timestamp": 1664437251513,
     "user": {
      "displayName": "jinyang park",
      "userId": "06576046992691541404"
     },
     "user_tz": -540
    },
    "id": "m8xlQwC1MNZb",
    "outputId": "27159b9a-b939-408c-fff7-19c9b31e2142"
   },
   "outputs": [],
   "source": [
    "# 실습 array 생성\n",
    "arr_12 = np.arange(12)\n",
    "print('arr_12\\n', arr_12)"
   ]
  },
  {
   "cell_type": "code",
   "execution_count": null,
   "metadata": {
    "colab": {
     "base_uri": "https://localhost:8080/"
    },
    "executionInfo": {
     "elapsed": 1640,
     "status": "ok",
     "timestamp": 1664437998559,
     "user": {
      "displayName": "jinyang park",
      "userId": "06576046992691541404"
     },
     "user_tz": -540
    },
    "id": "YsOwHzVgMNfF",
    "outputId": "62d610a8-0e55-4831-b3a9-aa02c01bc0aa"
   },
   "outputs": [],
   "source": [
    "# 불린 인덱싱\n"
   ]
  },
  {
   "cell_type": "code",
   "execution_count": null,
   "metadata": {
    "colab": {
     "base_uri": "https://localhost:8080/"
    },
    "executionInfo": {
     "elapsed": 582,
     "status": "ok",
     "timestamp": 1664439053529,
     "user": {
      "displayName": "jinyang park",
      "userId": "06576046992691541404"
     },
     "user_tz": -540
    },
    "id": "lTMkOTjCgnzM",
    "outputId": "c6702f33-c90f-41c9-ad01-8aceb5e85d46"
   },
   "outputs": [],
   "source": [
    "# 불린 인덱싱, boolean_indexes => boolean_indexes는 필터링에 활용\n"
   ]
  },
  {
   "cell_type": "code",
   "execution_count": null,
   "metadata": {
    "colab": {
     "base_uri": "https://localhost:8080/"
    },
    "executionInfo": {
     "elapsed": 2,
     "status": "ok",
     "timestamp": 1664439429722,
     "user": {
      "displayName": "jinyang park",
      "userId": "06576046992691541404"
     },
     "user_tz": -540
    },
    "id": "RRZ8_YyDTNHG",
    "outputId": "2ef4e092-ec3f-4da1-d63d-4cacd7ae3535"
   },
   "outputs": [],
   "source": [
    "# arr_12를 2로 나눈 나머지가 짝수인가\n"
   ]
  },
  {
   "cell_type": "code",
   "execution_count": null,
   "metadata": {
    "colab": {
     "base_uri": "https://localhost:8080/"
    },
    "executionInfo": {
     "elapsed": 10,
     "status": "ok",
     "timestamp": 1664439638848,
     "user": {
      "displayName": "jinyang park",
      "userId": "06576046992691541404"
     },
     "user_tz": -540
    },
    "id": "72aocvWHVFvg",
    "outputId": "88190fdb-c204-4d8b-a14c-ab4aadd7b3e1"
   },
   "outputs": [],
   "source": [
    "# arr_12에서 홀수만 추출(필터링)\n"
   ]
  },
  {
   "cell_type": "markdown",
   "metadata": {
    "id": "xS0xNRlUVn0v"
   },
   "source": [
    "연습문제 풀이"
   ]
  },
  {
   "cell_type": "markdown",
   "metadata": {
    "id": "-JBIPHpwlCWk"
   },
   "source": [
    "# 2. Pandas"
   ]
  },
  {
   "cell_type": "markdown",
   "metadata": {
    "id": "QlfJD_lqzypG"
   },
   "source": [
    "### 2_1. DataFrames 생성\n",
    "\n",
    "* pd.DataFrame() "
   ]
  },
  {
   "cell_type": "code",
   "execution_count": null,
   "metadata": {
    "colab": {
     "base_uri": "https://localhost:8080/",
     "height": 112
    },
    "executionInfo": {
     "elapsed": 23,
     "status": "ok",
     "timestamp": 1672370984012,
     "user": {
      "displayName": "jinyang park",
      "userId": "06576046992691541404"
     },
     "user_tz": -540
    },
    "id": "K_8-UxBxFdJD",
    "outputId": "0ac48387-43a5-44ca-c537-c120a4710326"
   },
   "outputs": [],
   "source": [
    "# list로 생성\n"
   ]
  },
  {
   "cell_type": "code",
   "execution_count": null,
   "metadata": {
    "colab": {
     "base_uri": "https://localhost:8080/",
     "height": 112
    },
    "executionInfo": {
     "elapsed": 551,
     "status": "ok",
     "timestamp": 1672370994433,
     "user": {
      "displayName": "jinyang park",
      "userId": "06576046992691541404"
     },
     "user_tz": -540
    },
    "id": "peEcmDOoeO7v",
    "outputId": "1e63311e-0119-49b4-a6d3-73b0b9c5d2ab"
   },
   "outputs": [],
   "source": [
    "# list로 생성, columnlumn 추가\n"
   ]
  },
  {
   "cell_type": "code",
   "execution_count": null,
   "metadata": {
    "colab": {
     "base_uri": "https://localhost:8080/",
     "height": 112
    },
    "executionInfo": {
     "elapsed": 541,
     "status": "ok",
     "timestamp": 1672371008456,
     "user": {
      "displayName": "jinyang park",
      "userId": "06576046992691541404"
     },
     "user_tz": -540
    },
    "id": "eMhzKu92ef5r",
    "outputId": "f6691f3f-1e0b-414e-c30e-70202d2f80d5"
   },
   "outputs": [],
   "source": [
    "# list로 생성, column 추가, indexex 추가\n"
   ]
  },
  {
   "cell_type": "code",
   "execution_count": null,
   "metadata": {
    "colab": {
     "base_uri": "https://localhost:8080/",
     "height": 143
    },
    "executionInfo": {
     "elapsed": 424,
     "status": "ok",
     "timestamp": 1672371013968,
     "user": {
      "displayName": "jinyang park",
      "userId": "06576046992691541404"
     },
     "user_tz": -540
    },
    "id": "uLkTfK17cHFb",
    "outputId": "2d3cb2f9-0bf6-4e65-c463-6aab6a6c178c"
   },
   "outputs": [],
   "source": [
    "# array로 생성\n"
   ]
  },
  {
   "cell_type": "code",
   "execution_count": null,
   "metadata": {
    "colab": {
     "base_uri": "https://localhost:8080/",
     "height": 143
    },
    "executionInfo": {
     "elapsed": 422,
     "status": "ok",
     "timestamp": 1672371023795,
     "user": {
      "displayName": "jinyang park",
      "userId": "06576046992691541404"
     },
     "user_tz": -540
    },
    "id": "mTSHLXFoeumV",
    "outputId": "2376a67f-617e-4aa2-edc5-f044c2477bd3"
   },
   "outputs": [],
   "source": [
    "# array로 생성, column추가, index 추가\n"
   ]
  },
  {
   "cell_type": "code",
   "execution_count": null,
   "metadata": {
    "colab": {
     "base_uri": "https://localhost:8080/",
     "height": 143
    },
    "executionInfo": {
     "elapsed": 385,
     "status": "ok",
     "timestamp": 1672371129898,
     "user": {
      "displayName": "jinyang park",
      "userId": "06576046992691541404"
     },
     "user_tz": -540
    },
    "id": "IXVkS7dlXYC0",
    "outputId": "d9a0a71a-69c5-4612-e21a-50ac708f05d2"
   },
   "outputs": [],
   "source": [
    "# 딕셔너리로 생성\n"
   ]
  },
  {
   "cell_type": "code",
   "execution_count": null,
   "metadata": {
    "colab": {
     "base_uri": "https://localhost:8080/",
     "height": 143
    },
    "executionInfo": {
     "elapsed": 385,
     "status": "ok",
     "timestamp": 1672371037498,
     "user": {
      "displayName": "jinyang park",
      "userId": "06576046992691541404"
     },
     "user_tz": -540
    },
    "id": "701atieTfddQ",
    "outputId": "0399a17a-da7b-4b0d-8745-f4e6f30e25da"
   },
   "outputs": [],
   "source": [
    "# 딕셔너리로 생성, index 추가\n"
   ]
  },
  {
   "cell_type": "markdown",
   "metadata": {
    "id": "RXG9uGp2zypK"
   },
   "source": [
    "* DataFrame을 넘파이 ndarray, list, 딕셔너리로 변환하기"
   ]
  },
  {
   "cell_type": "code",
   "execution_count": null,
   "metadata": {
    "colab": {
     "base_uri": "https://localhost:8080/",
     "height": 143
    },
    "executionInfo": {
     "elapsed": 374,
     "status": "ok",
     "timestamp": 1672371069606,
     "user": {
      "displayName": "jinyang park",
      "userId": "06576046992691541404"
     },
     "user_tz": -540
    },
    "id": "CDdNrbq4bIZB",
    "outputId": "dd751855-a636-494a-89a1-7d7614915023"
   },
   "outputs": [],
   "source": [
    "# DataFrame 생성\n"
   ]
  },
  {
   "cell_type": "code",
   "execution_count": null,
   "metadata": {
    "colab": {
     "base_uri": "https://localhost:8080/"
    },
    "executionInfo": {
     "elapsed": 357,
     "status": "ok",
     "timestamp": 1672371077519,
     "user": {
      "displayName": "jinyang park",
      "userId": "06576046992691541404"
     },
     "user_tz": -540
    },
    "id": "iC6ilAYEzypL",
    "outputId": "b995cc90-2fb0-424b-ae90-d25acc5f079c"
   },
   "outputs": [],
   "source": [
    "# DataFrame을 딕셔너리로 변환\n"
   ]
  },
  {
   "cell_type": "code",
   "execution_count": null,
   "metadata": {
    "colab": {
     "base_uri": "https://localhost:8080/"
    },
    "executionInfo": {
     "elapsed": 368,
     "status": "ok",
     "timestamp": 1672371277110,
     "user": {
      "displayName": "jinyang park",
      "userId": "06576046992691541404"
     },
     "user_tz": -540
    },
    "id": "8d8kNKDwa1v2",
    "outputId": "8768098e-1b72-4002-ad85-c2ed2421cc3f"
   },
   "outputs": [],
   "source": [
    "# DataFrame을 ndarray로 변환\n"
   ]
  },
  {
   "cell_type": "code",
   "execution_count": null,
   "metadata": {
    "colab": {
     "base_uri": "https://localhost:8080/"
    },
    "executionInfo": {
     "elapsed": 354,
     "status": "ok",
     "timestamp": 1664944332887,
     "user": {
      "displayName": "jinyang park",
      "userId": "06576046992691541404"
     },
     "user_tz": -540
    },
    "id": "QJ2l_ybxZ-gY",
    "outputId": "9ee10d81-30ec-4dd1-aa99-c16be87500b5",
    "scrolled": true
   },
   "outputs": [],
   "source": [
    "# DataFrame을 list로 변환\n"
   ]
  },
  {
   "cell_type": "markdown",
   "metadata": {
    "id": "ibr-kCZkfYXC"
   },
   "source": [
    "## Quiz 1\n",
    "\n",
    "1) 아래 DataFrame을 딕셔너리로 생성하시오"
   ]
  },
  {
   "cell_type": "code",
   "execution_count": null,
   "metadata": {
    "id": "Rb8NsglSD39k",
    "scrolled": true
   },
   "outputs": [],
   "source": [
    "# pd.DataFrame({ })"
   ]
  },
  {
   "cell_type": "markdown",
   "metadata": {
    "id": "kjUomMkFzyo8"
   },
   "source": [
    "### 2_2. Data Frame 읽기\n",
    "* read_csv()** csv, txt, Excel Data 가능\n",
    "\n",
    "\n",
    "* 데이터 읽어오기 pd.read_csv('file_name.csv')\n",
    "- [데이터 읽어오기 참고(csv,txt,xlsx,UTF-8 인코딩)]\n",
    "- df = pd.read_csv('file_name.csv')\n",
    "- txt: 텍스트 파일. 특정 구분자로 구분되어있다면 sep 인자에 명시(탭(tab)은 sep='\\t', '|' 는 sep='|'\n",
    "- df = pd.read_csv('file_name.csv', encoding='cp949') - 한글파일 인코딩 에러시\n",
    "- df = pd.read_csv('file_name.csv', sep='\\t') - 구분자: Tab일때\n",
    "                                        \n",
    "- xlsx: 엑셀 파일. 특정 시트(sheet)의 데이터만 읽어올 경우 sheet_name 인자에 시트명 또는 순번을 입력해준다.\n",
    "- df = pd.read_excel('file.xlsx')\n",
    "- df = pd.read_excel('file.xlsx', sheet_name = 'first_sheet')"
   ]
  },
  {
   "cell_type": "code",
   "execution_count": null,
   "metadata": {
    "id": "Jn4muvF6fYW-",
    "outputId": "d6dd4a00-e7c1-44b4-db9a-215d6ff1d6a7"
   },
   "outputs": [],
   "source": [
    "import os\n",
    "os.getcwd()"
   ]
  },
  {
   "cell_type": "code",
   "execution_count": null,
   "metadata": {
    "id": "FijCqDSazyo9"
   },
   "outputs": [],
   "source": [
    "# 파일 로딩 (hk_221206.csv), 절대경로/상대경로 (.\\\\, ..\\\\)\n",
    "# df_hk = pd.read_csv('.\\\\data\\\\hk_221206.csv') # df_hk 라는 dataFrame명을 생성"
   ]
  },
  {
   "cell_type": "code",
   "execution_count": null,
   "metadata": {
    "colab": {
     "base_uri": "https://localhost:8080/",
     "height": 423
    },
    "executionInfo": {
     "elapsed": 5,
     "status": "ok",
     "timestamp": 1665614472085,
     "user": {
      "displayName": "jinyang park",
      "userId": "06576046992691541404"
     },
     "user_tz": -540
    },
    "id": "xeHfuteOzyo-",
    "outputId": "de39f167-c6f2-41ca-c983-efa017afb5e7"
   },
   "outputs": [],
   "source": [
    "# df_hk"
   ]
  },
  {
   "cell_type": "code",
   "execution_count": null,
   "metadata": {},
   "outputs": [],
   "source": []
  },
  {
   "cell_type": "markdown",
   "metadata": {
    "id": "PY4vAw5IzypC"
   },
   "source": [
    "**head()와 tail()**\n",
    "\n",
    "head()는 맨 앞부터 데이터 추출 (기본5개),    \n",
    "tail()은 맨 뒤부터 데이터 추출 (기본5개)  "
   ]
  },
  {
   "cell_type": "code",
   "execution_count": null,
   "metadata": {
    "id": "m_sOrHBCzypC",
    "outputId": "b7e6b113-041d-49e5-f558-42d138f39c89",
    "scrolled": true
   },
   "outputs": [],
   "source": []
  },
  {
   "cell_type": "markdown",
   "metadata": {
    "id": "5O7W_e50zypD"
   },
   "source": [
    "**DataFrame 출력 시 option**\n",
    "* max_rows, max_columns, max_colwidth 설정\n"
   ]
  },
  {
   "cell_type": "code",
   "execution_count": null,
   "metadata": {
    "id": "LW5hEekWzypF",
    "scrolled": true
   },
   "outputs": [],
   "source": []
  },
  {
   "cell_type": "markdown",
   "metadata": {
    "id": "K0tl4EZ1fYXF"
   },
   "source": [
    "## Quiz 2\n",
    "\n",
    "1) bike.csv를 읽고 column이 몇 개 인지 기술 하시오\n",
    "\n",
    "2) iris.cvs를 읽고 row가 몇 개 인지 기술 하시오 \n",
    "\n",
    "3) Online2.txt를 읽고 3번째 column이 무엇인지 기술 하시오 "
   ]
  },
  {
   "cell_type": "code",
   "execution_count": null,
   "metadata": {
    "id": "B6pBmD9pfYXF"
   },
   "outputs": [],
   "source": [
    "# df_bike = \n",
    "# df_iris = \n",
    "# df_Online2 = "
   ]
  },
  {
   "cell_type": "markdown",
   "metadata": {
    "id": "3K5LDPvZdVKG"
   },
   "source": [
    "### 2_3. DataFrame 속성(attribute)\n",
    "* df.ndim: 객체의 차원\n",
    "* df.shape: 각 차원의 길이\n",
    "* df.dtypes: 데이터 타입 dtype와 구별, 복수형이라야 함\n",
    "* df.info(): 데이터 타입 정보 요약, 결측치 정보\n",
    "* df.columns: column명\n",
    "* df.describe(): 수치형 데이터 요약 정보"
   ]
  },
  {
   "cell_type": "code",
   "execution_count": null,
   "metadata": {
    "colab": {
     "base_uri": "https://localhost:8080/"
    },
    "executionInfo": {
     "elapsed": 354,
     "status": "ok",
     "timestamp": 1664861399574,
     "user": {
      "displayName": "jinyang park",
      "userId": "06576046992691541404"
     },
     "user_tz": -540
    },
    "id": "aEcsETHLzypA",
    "outputId": "61f647ca-a6aa-4d25-c29c-8f22cce7d30d"
   },
   "outputs": [],
   "source": [
    "# df.ndim: 객체의 차원\n"
   ]
  },
  {
   "cell_type": "code",
   "execution_count": null,
   "metadata": {
    "colab": {
     "base_uri": "https://localhost:8080/"
    },
    "executionInfo": {
     "elapsed": 808,
     "status": "ok",
     "timestamp": 1664848861458,
     "user": {
      "displayName": "jinyang park",
      "userId": "06576046992691541404"
     },
     "user_tz": -540
    },
    "id": "vo-P63iluQVS",
    "outputId": "bb3b4157-dc05-4656-c0bb-c6b1e66cbcdb"
   },
   "outputs": [],
   "source": [
    "# df.shape: 각 차원의 길이\n"
   ]
  },
  {
   "cell_type": "code",
   "execution_count": null,
   "metadata": {
    "colab": {
     "base_uri": "https://localhost:8080/"
    },
    "executionInfo": {
     "elapsed": 370,
     "status": "ok",
     "timestamp": 1664867439597,
     "user": {
      "displayName": "jinyang park",
      "userId": "06576046992691541404"
     },
     "user_tz": -540
    },
    "id": "y1dEAM0Cua5I",
    "outputId": "46d54048-5383-4b1e-d133-1dcae3d107c2"
   },
   "outputs": [],
   "source": [
    "# df.dtypes: 데이터 타입 dtype와 구별, 복수형이라야 함\n"
   ]
  },
  {
   "cell_type": "code",
   "execution_count": null,
   "metadata": {
    "colab": {
     "base_uri": "https://localhost:8080/"
    },
    "executionInfo": {
     "elapsed": 349,
     "status": "ok",
     "timestamp": 1664880698699,
     "user": {
      "displayName": "jinyang park",
      "userId": "06576046992691541404"
     },
     "user_tz": -540
    },
    "id": "zFbH4Yux1MXx",
    "outputId": "1746a7f7-be3d-4a07-8862-98e74ac1c61f"
   },
   "outputs": [],
   "source": [
    "# df.info(): 데이터 타입 정보 요약, 결측치 정보\n"
   ]
  },
  {
   "cell_type": "code",
   "execution_count": null,
   "metadata": {
    "colab": {
     "base_uri": "https://localhost:8080/"
    },
    "executionInfo": {
     "elapsed": 4,
     "status": "ok",
     "timestamp": 1664880802021,
     "user": {
      "displayName": "jinyang park",
      "userId": "06576046992691541404"
     },
     "user_tz": -540
    },
    "id": "Aq1FdVLlzyo_",
    "outputId": "48575d80-19d5-49e2-fd43-ec21a001627f"
   },
   "outputs": [],
   "source": [
    "# df.columns: column명\n"
   ]
  },
  {
   "cell_type": "code",
   "execution_count": null,
   "metadata": {
    "colab": {
     "base_uri": "https://localhost:8080/",
     "height": 300
    },
    "executionInfo": {
     "elapsed": 656,
     "status": "ok",
     "timestamp": 1664882819258,
     "user": {
      "displayName": "jinyang park",
      "userId": "06576046992691541404"
     },
     "user_tz": -540
    },
    "id": "2bHov1qkzypB",
    "outputId": "591dc98f-677a-4fab-be51-8d5ddcaec0dd"
   },
   "outputs": [],
   "source": [
    "# df.describe(): 수치형 데이터 요약 정보\n"
   ]
  },
  {
   "cell_type": "code",
   "execution_count": null,
   "metadata": {
    "colab": {
     "base_uri": "https://localhost:8080/",
     "height": 394
    },
    "executionInfo": {
     "elapsed": 622,
     "status": "ok",
     "timestamp": 1664867933584,
     "user": {
      "displayName": "jinyang park",
      "userId": "06576046992691541404"
     },
     "user_tz": -540
    },
    "id": "QkqncW_d2D20",
    "outputId": "88525af3-bea8-45c5-f955-779671d0f79a"
   },
   "outputs": [],
   "source": [
    "# df.describe(): all 데이터 요약 정보\n"
   ]
  },
  {
   "cell_type": "markdown",
   "metadata": {
    "id": "tQgaErchzypN"
   },
   "source": [
    "### 2_4. Index와 Column 객체"
   ]
  },
  {
   "cell_type": "code",
   "execution_count": null,
   "metadata": {
    "id": "4AEN5cDVzypN"
   },
   "outputs": [],
   "source": [
    "# 파일 로딩 \n"
   ]
  },
  {
   "cell_type": "code",
   "execution_count": null,
   "metadata": {
    "colab": {
     "base_uri": "https://localhost:8080/",
     "height": 206
    },
    "executionInfo": {
     "elapsed": 304,
     "status": "ok",
     "timestamp": 1664945778312,
     "user": {
      "displayName": "jinyang park",
      "userId": "06576046992691541404"
     },
     "user_tz": -540
    },
    "id": "BUER_QfGf_Fi",
    "outputId": "acea04c4-07f1-4075-e133-fbef1945d769"
   },
   "outputs": [],
   "source": [
    "# Index, column 보기\n"
   ]
  },
  {
   "cell_type": "code",
   "execution_count": null,
   "metadata": {
    "colab": {
     "base_uri": "https://localhost:8080/"
    },
    "executionInfo": {
     "elapsed": 300,
     "status": "ok",
     "timestamp": 1664945842025,
     "user": {
      "displayName": "jinyang park",
      "userId": "06576046992691541404"
     },
     "user_tz": -540
    },
    "id": "mEhVJyFGf785",
    "outputId": "e0ab1a19-fe10-41b8-b691-3097007747dc"
   },
   "outputs": [],
   "source": [
    "# Index 객체 추출\n"
   ]
  },
  {
   "cell_type": "code",
   "execution_count": null,
   "metadata": {
    "colab": {
     "base_uri": "https://localhost:8080/"
    },
    "executionInfo": {
     "elapsed": 545,
     "status": "ok",
     "timestamp": 1665648087958,
     "user": {
      "displayName": "jinyang park",
      "userId": "06576046992691541404"
     },
     "user_tz": -540
    },
    "id": "SEf1GiUmgS_Q",
    "outputId": "7f350a3f-9f5e-4986-a263-cc582918c51b"
   },
   "outputs": [],
   "source": [
    "# Index 객체 추출 (전체)\n"
   ]
  },
  {
   "cell_type": "code",
   "execution_count": null,
   "metadata": {
    "colab": {
     "base_uri": "https://localhost:8080/"
    },
    "executionInfo": {
     "elapsed": 364,
     "status": "ok",
     "timestamp": 1664946198786,
     "user": {
      "displayName": "jinyang park",
      "userId": "06576046992691541404"
     },
     "user_tz": -540
    },
    "id": "zfQ8vGcDhYXu",
    "outputId": "76a76216-fdaf-415e-8559-e5a8144b9744"
   },
   "outputs": [],
   "source": [
    "# Index 객체 추출 (일부)\n"
   ]
  },
  {
   "cell_type": "code",
   "execution_count": null,
   "metadata": {
    "colab": {
     "base_uri": "https://localhost:8080/"
    },
    "executionInfo": {
     "elapsed": 326,
     "status": "ok",
     "timestamp": 1664946081329,
     "user": {
      "displayName": "jinyang park",
      "userId": "06576046992691541404"
     },
     "user_tz": -540
    },
    "id": "setBfmx0g2AQ",
    "outputId": "d6f99f72-92fc-4875-b037-4838ddc14548"
   },
   "outputs": [],
   "source": [
    "# column 객체 추출\n"
   ]
  },
  {
   "cell_type": "code",
   "execution_count": null,
   "metadata": {
    "colab": {
     "base_uri": "https://localhost:8080/"
    },
    "executionInfo": {
     "elapsed": 365,
     "status": "ok",
     "timestamp": 1664946251007,
     "user": {
      "displayName": "jinyang park",
      "userId": "06576046992691541404"
     },
     "user_tz": -540
    },
    "id": "j3G2FfWChxJE",
    "outputId": "656aaaa2-3828-4666-ce17-995a49247b5e"
   },
   "outputs": [],
   "source": [
    "# column 객체 추출 (일부)\n"
   ]
  },
  {
   "cell_type": "code",
   "execution_count": null,
   "metadata": {
    "colab": {
     "base_uri": "https://localhost:8080/"
    },
    "executionInfo": {
     "elapsed": 369,
     "status": "ok",
     "timestamp": 1664947040845,
     "user": {
      "displayName": "jinyang park",
      "userId": "06576046992691541404"
     },
     "user_tz": -540
    },
    "id": "z3sfAAtZiYzR",
    "outputId": "aef90776-b24c-421d-ec1e-df48d8b2c4fd"
   },
   "outputs": [],
   "source": [
    "# column 내용 추출 (1개)\n"
   ]
  },
  {
   "cell_type": "code",
   "execution_count": null,
   "metadata": {
    "colab": {
     "base_uri": "https://localhost:8080/",
     "height": 423
    },
    "executionInfo": {
     "elapsed": 366,
     "status": "ok",
     "timestamp": 1664947358640,
     "user": {
      "displayName": "jinyang park",
      "userId": "06576046992691541404"
     },
     "user_tz": -540
    },
    "id": "fUouhRDAkytS",
    "outputId": "aae6d963-4cd8-4838-f4d5-aba5d1704804"
   },
   "outputs": [],
   "source": [
    "# column 내용 추출 (2개 이상)\n"
   ]
  },
  {
   "cell_type": "markdown",
   "metadata": {
    "id": "S07Dho4HfYXH"
   },
   "source": [
    "## Quiz 3\n",
    "\n",
    "1) bike.csv의 column을 전부 기술 하시오\n",
    "\n",
    "2) iris.cvs의 정수형 변수는 몇 개 인지 기술 하시오"
   ]
  },
  {
   "cell_type": "code",
   "execution_count": null,
   "metadata": {
    "id": "WiTlYWlzfYXH"
   },
   "outputs": [],
   "source": []
  },
  {
   "cell_type": "markdown",
   "metadata": {
    "id": "w-YNI0R9szp0"
   },
   "source": [
    "### 2_5. 함수 및 메소드\n",
    "* df['age'].mean(): 평균값\n",
    "* df['age'].median(): 중앙값\n",
    "* df['age'].min(): 최소값\n",
    "* df['age'].max(): 최대값\n",
    "* df['age'].var(): 분산\n",
    "* df['age'].std(): 표준편차\n",
    "* df['age'].skew(): 왜도\n",
    "* df['age'].kurt(): 첨도\n",
    "* df['age'].count(): 개체수\n",
    "* df['age'].quantile(q = 0.25) : 1사분위수"
   ]
  },
  {
   "cell_type": "code",
   "execution_count": null,
   "metadata": {
    "colab": {
     "base_uri": "https://localhost:8080/"
    },
    "executionInfo": {
     "elapsed": 880,
     "status": "ok",
     "timestamp": 1664945513331,
     "user": {
      "displayName": "jinyang park",
      "userId": "06576046992691541404"
     },
     "user_tz": -540
    },
    "id": "txsMy4rIvr-g",
    "outputId": "50c63d01-3cfe-4d98-f38a-51c27a20a155"
   },
   "outputs": [],
   "source": [
    "# 수치형변수 함수 및 메소드\n",
    "print( \"df_hk['age'].min() : \", df_hk['age'].min())\n",
    "print( \"df_hk['age'].max() : \", df_hk['age'].max())\n",
    "print( \"df_hk['age'].var() : \", df_hk['age'].var())\n",
    "print( \"df_hk['age'].std() : \", df_hk['age'].std())\n",
    "print( \"df_hk['age'].skew() : \", df_hk['age'].skew())\n",
    "print( \"df_hk['age'].kurt() : \", df_hk['age'].kurt())"
   ]
  },
  {
   "cell_type": "markdown",
   "metadata": {
    "id": "_TtL3O8IzypH"
   },
   "source": [
    "* df['blood_type'].nunique(): Column내 개별 데이터값 갯수\n",
    "* df['blood_type'].unique(): Column내 개별 데이터값 내용\n",
    "* df['blood_type'].value_counts(): Column내 개별 데이터값의 분포\n",
    "\n",
    "  주의) default는 Null 값 제외, Null값 포함하려면 dropna를 True로 세팅"
   ]
  },
  {
   "cell_type": "code",
   "execution_count": null,
   "metadata": {
    "colab": {
     "base_uri": "https://localhost:8080/"
    },
    "executionInfo": {
     "elapsed": 333,
     "status": "ok",
     "timestamp": 1664951101856,
     "user": {
      "displayName": "jinyang park",
      "userId": "06576046992691541404"
     },
     "user_tz": -540
    },
    "id": "Y-Tv-GMz0UVs",
    "outputId": "aa34e98a-212d-43e2-c806-7c05ba82af86"
   },
   "outputs": [],
   "source": [
    "# 명목형변수 함수 및 메소드\n"
   ]
  },
  {
   "cell_type": "markdown",
   "metadata": {
    "id": "qE2ymRWJfYXI"
   },
   "source": [
    "## Quiz 4\n",
    "\n",
    "1) iris.cvs의 column('species')의 value_counts()를 구하시오\n",
    "\n",
    "2) Online2.txt의 column('Country')의 unique()를 구하시오"
   ]
  },
  {
   "cell_type": "code",
   "execution_count": null,
   "metadata": {
    "id": "jV14tKXAfYXI"
   },
   "outputs": [],
   "source": []
  },
  {
   "cell_type": "markdown",
   "metadata": {
    "id": "n2YHJwLJzypL"
   },
   "source": [
    "### 2_6. column 생성, 수정, 삭제\n"
   ]
  },
  {
   "cell_type": "code",
   "execution_count": null,
   "metadata": {
    "colab": {
     "base_uri": "https://localhost:8080/",
     "height": 143
    },
    "executionInfo": {
     "elapsed": 413,
     "status": "ok",
     "timestamp": 1664948225632,
     "user": {
      "displayName": "jinyang park",
      "userId": "06576046992691541404"
     },
     "user_tz": -540
    },
    "id": "DW-XZ071zypL",
    "outputId": "60c4813b-fc03-4bd1-bb5e-bdffa8ffe4e5"
   },
   "outputs": [],
   "source": [
    "# column 생성\n"
   ]
  },
  {
   "cell_type": "code",
   "execution_count": null,
   "metadata": {
    "colab": {
     "base_uri": "https://localhost:8080/",
     "height": 112
    },
    "executionInfo": {
     "elapsed": 311,
     "status": "ok",
     "timestamp": 1664948250873,
     "user": {
      "displayName": "jinyang park",
      "userId": "06576046992691541404"
     },
     "user_tz": -540
    },
    "id": "aJ2GF644pBGH",
    "outputId": "667db9d2-9276-471f-e121-8166188aecac"
   },
   "outputs": [],
   "source": [
    "# column 수정"
   ]
  },
  {
   "cell_type": "markdown",
   "metadata": {
    "id": "uuPPSvp3zypM"
   },
   "source": [
    "**axis에 따른 삭제**\n",
    "\n",
    "axis=1 일 경우 drop()은 column 방향으로 삭제"
   ]
  },
  {
   "cell_type": "code",
   "execution_count": null,
   "metadata": {
    "colab": {
     "base_uri": "https://localhost:8080/",
     "height": 143
    },
    "executionInfo": {
     "elapsed": 388,
     "status": "ok",
     "timestamp": 1664948977613,
     "user": {
      "displayName": "jinyang park",
      "userId": "06576046992691541404"
     },
     "user_tz": -540
    },
    "id": "AKdVHG6wzypM",
    "outputId": "4586abb8-d858-4770-b627-e541d3ce21ac"
   },
   "outputs": [],
   "source": [
    "# 1개 column 삭제\n"
   ]
  },
  {
   "cell_type": "code",
   "execution_count": null,
   "metadata": {
    "colab": {
     "base_uri": "https://localhost:8080/",
     "height": 143
    },
    "executionInfo": {
     "elapsed": 281,
     "status": "ok",
     "timestamp": 1664949287281,
     "user": {
      "displayName": "jinyang park",
      "userId": "06576046992691541404"
     },
     "user_tz": -540
    },
    "id": "3uYrPMG4zypM",
    "outputId": "40f38123-f71d-4462-dc96-49ab0351f7ee"
   },
   "outputs": [],
   "source": [
    "# 2개 이상 column 삭제는 list로 입력. inplace=True일 경우 호출을 한 DataFrame에 drop결과가 직접 반영 \n"
   ]
  },
  {
   "cell_type": "markdown",
   "metadata": {
    "id": "jp3FyUY6zypM"
   },
   "source": [
    "axis=0 일 경우 drop()은 row 방향으로 삭제 "
   ]
  },
  {
   "cell_type": "code",
   "execution_count": null,
   "metadata": {
    "colab": {
     "base_uri": "https://localhost:8080/",
     "height": 143
    },
    "executionInfo": {
     "elapsed": 296,
     "status": "ok",
     "timestamp": 1664949669594,
     "user": {
      "displayName": "jinyang park",
      "userId": "06576046992691541404"
     },
     "user_tz": -540
    },
    "id": "q27_84RDuHab",
    "outputId": "858ce658-eea7-49e2-e58a-16831af3a0cc"
   },
   "outputs": [],
   "source": [
    "# 1개 row 삭제\n"
   ]
  },
  {
   "cell_type": "code",
   "execution_count": null,
   "metadata": {
    "colab": {
     "base_uri": "https://localhost:8080/",
     "height": 143
    },
    "executionInfo": {
     "elapsed": 311,
     "status": "ok",
     "timestamp": 1664949681781,
     "user": {
      "displayName": "jinyang park",
      "userId": "06576046992691541404"
     },
     "user_tz": -540
    },
    "id": "MXwtdUGPuqf0",
    "outputId": "4e94af64-8838-4e9b-a2be-7dc633e9598c"
   },
   "outputs": [],
   "source": [
    "# 2개 이상 row 삭제\n"
   ]
  },
  {
   "cell_type": "markdown",
   "metadata": {
    "id": "ZXbO-9Oh_abf"
   },
   "source": [
    "column명 변경"
   ]
  },
  {
   "cell_type": "code",
   "execution_count": null,
   "metadata": {
    "colab": {
     "base_uri": "https://localhost:8080/",
     "height": 423
    },
    "executionInfo": {
     "elapsed": 812,
     "status": "ok",
     "timestamp": 1665626982528,
     "user": {
      "displayName": "jinyang park",
      "userId": "06576046992691541404"
     },
     "user_tz": -540
    },
    "id": "o1eQuPf7_Zsb",
    "outputId": "a8373057-3ede-4d9d-deea-e5e03edd63a5"
   },
   "outputs": [],
   "source": [
    "# rename\n"
   ]
  },
  {
   "cell_type": "code",
   "execution_count": null,
   "metadata": {
    "colab": {
     "base_uri": "https://localhost:8080/"
    },
    "executionInfo": {
     "elapsed": 589,
     "status": "ok",
     "timestamp": 1665648250823,
     "user": {
      "displayName": "jinyang park",
      "userId": "06576046992691541404"
     },
     "user_tz": -540
    },
    "id": "Q14Dm8ejGvC7",
    "outputId": "4376b4f7-1652-452f-eb95-93d3700c7b93"
   },
   "outputs": [],
   "source": [
    "# df.columns\n"
   ]
  },
  {
   "cell_type": "markdown",
   "metadata": {
    "id": "cccNCu99fYXK"
   },
   "source": [
    "## Quiz 5\n",
    "\n",
    "1) iris.cvs의 column('sepal_length' , 'sepal_width')의 숫자 합을  파생변수 'sepal'로 생성하시오"
   ]
  },
  {
   "cell_type": "code",
   "execution_count": null,
   "metadata": {
    "id": "GQXXiTbnfYXL"
   },
   "outputs": [],
   "source": []
  },
  {
   "cell_type": "markdown",
   "metadata": {
    "id": "oNMitHI6zypP"
   },
   "source": [
    "### 2_7. 인덱싱 및 필터링"
   ]
  },
  {
   "cell_type": "markdown",
   "metadata": {
    "id": "WFsO_LsEzypP"
   },
   "source": [
    "* DataFrame [ ] 로 row와 column을 인덱싱"
   ]
  },
  {
   "cell_type": "code",
   "execution_count": null,
   "metadata": {
    "id": "hTrhQmfOH45R"
   },
   "outputs": [],
   "source": [
    "# 파일 로딩 \n"
   ]
  },
  {
   "cell_type": "code",
   "execution_count": null,
   "metadata": {
    "colab": {
     "base_uri": "https://localhost:8080/"
    },
    "executionInfo": {
     "elapsed": 304,
     "status": "ok",
     "timestamp": 1665627168966,
     "user": {
      "displayName": "jinyang park",
      "userId": "06576046992691541404"
     },
     "user_tz": -540
    },
    "id": "BpkD19tRzypP",
    "outputId": "f519592f-ecf4-4ff5-a09b-103705b5c9c9"
   },
   "outputs": [],
   "source": [
    "# []에 한개의 column만 입력하면 Series 객체를 반환  \n"
   ]
  },
  {
   "cell_type": "code",
   "execution_count": null,
   "metadata": {
    "colab": {
     "base_uri": "https://localhost:8080/",
     "height": 206
    },
    "executionInfo": {
     "elapsed": 394,
     "status": "ok",
     "timestamp": 1672371737566,
     "user": {
      "displayName": "jinyang park",
      "userId": "06576046992691541404"
     },
     "user_tz": -540
    },
    "id": "uZTp6UO13omF",
    "outputId": "a0e245a8-3624-457e-ca5d-25e6436680dc"
   },
   "outputs": [],
   "source": [
    "# []에 여러개 column을 list로 입력하면 column들로 구성된 DataFrame을 반환  \n"
   ]
  },
  {
   "cell_type": "code",
   "execution_count": null,
   "metadata": {
    "colab": {
     "base_uri": "https://localhost:8080/",
     "height": 112
    },
    "executionInfo": {
     "elapsed": 890,
     "status": "ok",
     "timestamp": 1672371746444,
     "user": {
      "displayName": "jinyang park",
      "userId": "06576046992691541404"
     },
     "user_tz": -540
    },
    "id": "KOU2ICxG3ovA",
    "outputId": "683719cb-0f93-423a-ea8d-188a263d17d4"
   },
   "outputs": [],
   "source": [
    "# []에 한개 index 정보를 입력하면 DataFrame을 반환  \n"
   ]
  },
  {
   "cell_type": "code",
   "execution_count": null,
   "metadata": {
    "colab": {
     "base_uri": "https://localhost:8080/",
     "height": 143
    },
    "executionInfo": {
     "elapsed": 419,
     "status": "ok",
     "timestamp": 1672371753294,
     "user": {
      "displayName": "jinyang park",
      "userId": "06576046992691541404"
     },
     "user_tz": -540
    },
    "id": "LxzLDK6R7PJS",
    "outputId": "c28d1750-4760-4586-e1ca-8858ec18f1cc"
   },
   "outputs": [],
   "source": [
    "# []에 한개 index 정보를 입력하면 DataFrame을 반환  \n"
   ]
  },
  {
   "cell_type": "code",
   "execution_count": null,
   "metadata": {
    "id": "NPowc0M060D_"
   },
   "outputs": [],
   "source": [
    "# []에 index 정보입력 오류\n"
   ]
  },
  {
   "cell_type": "markdown",
   "metadata": {
    "id": "gZm3FDyHzypQ"
   },
   "source": [
    "* iloc[ ] integer location : 위치기반 indexing\n",
    "\n",
    "   [row정보, column정보] row, column 정보는 integer"
   ]
  },
  {
   "cell_type": "code",
   "execution_count": null,
   "metadata": {
    "colab": {
     "base_uri": "https://localhost:8080/",
     "height": 143
    },
    "executionInfo": {
     "elapsed": 10,
     "status": "ok",
     "timestamp": 1672371761813,
     "user": {
      "displayName": "jinyang park",
      "userId": "06576046992691541404"
     },
     "user_tz": -540
    },
    "id": "H2y6gA80zypQ",
    "outputId": "8aac5c5b-df4c-4902-9354-bc7682d0d2b3"
   },
   "outputs": [],
   "source": [
    "# iloc\n"
   ]
  },
  {
   "cell_type": "markdown",
   "metadata": {
    "id": "LKRY3RVt5Aix"
   },
   "source": [
    "* loc[ ] location : 명칭기반 indexing (slice indexing)\n",
    "\n",
    "   [row정보, column정보] column 정보는 column명"
   ]
  },
  {
   "cell_type": "code",
   "execution_count": null,
   "metadata": {
    "colab": {
     "base_uri": "https://localhost:8080/",
     "height": 175
    },
    "executionInfo": {
     "elapsed": 468,
     "status": "ok",
     "timestamp": 1672372057857,
     "user": {
      "displayName": "jinyang park",
      "userId": "06576046992691541404"
     },
     "user_tz": -540
    },
    "id": "Tn6WJ7KgzypR",
    "outputId": "560b12b0-f03d-476a-afb1-9869b723297f"
   },
   "outputs": [],
   "source": [
    "# loc"
   ]
  },
  {
   "cell_type": "markdown",
   "metadata": {
    "id": "mfbX29pjBfpS"
   },
   "source": [
    "* boolean indexing"
   ]
  },
  {
   "cell_type": "code",
   "execution_count": null,
   "metadata": {
    "colab": {
     "base_uri": "https://localhost:8080/",
     "height": 206
    },
    "executionInfo": {
     "elapsed": 330,
     "status": "ok",
     "timestamp": 1665627252041,
     "user": {
      "displayName": "jinyang park",
      "userId": "06576046992691541404"
     },
     "user_tz": -540
    },
    "id": "rQQnIdNXB851",
    "outputId": "5035719d-16d8-4952-8f07-e031bd402e8e",
    "scrolled": true
   },
   "outputs": [],
   "source": []
  },
  {
   "cell_type": "markdown",
   "metadata": {
    "id": "r-QFjdQ5fYXO"
   },
   "source": [
    "## Quiz 6\n",
    "\n",
    "1) iris.cvs의 column('petal_width') 값이 1.0보다 큰 것은 몇개인지 구하시오\n",
    "\n",
    "2) bike.cvs의 column dtype이 'int64' 인것만 추출하고 DataFrame명을 'df_bike_int64'로 저장 하시오 "
   ]
  },
  {
   "cell_type": "code",
   "execution_count": null,
   "metadata": {
    "id": "rlAD9zOJfYXO"
   },
   "outputs": [],
   "source": []
  },
  {
   "cell_type": "markdown",
   "metadata": {
    "id": "aL04SB9PfYXO"
   },
   "source": [
    "## Quiz 7\n",
    "\n",
    "(실습문제 유형1을 사용하여, : indian_food2.csv (구분자: 쉼표(,), 255 행, 10 컬럼)\n",
    "\n",
    "1) 단계 1-1. 지역(state) 컬럼을 제거하시오.\n",
    "\n",
    "2) 단계 1-2. 조리 시간(cook_time)과 재료 준비 시간(prep_time)이 양수(>0)인 데이터만 추출하시오."
   ]
  },
  {
   "cell_type": "code",
   "execution_count": null,
   "metadata": {
    "id": "E6BOdAcYfYXO"
   },
   "outputs": [],
   "source": []
  },
  {
   "cell_type": "markdown",
   "metadata": {
    "id": "WPVhXxAlzypY"
   },
   "source": [
    "### 2_8. 결손 데이터 처리하기\n",
    "* isna(), dropna(), fillna()"
   ]
  },
  {
   "cell_type": "code",
   "execution_count": null,
   "metadata": {
    "id": "y1DdI6cGXOYP"
   },
   "outputs": [],
   "source": [
    "# 파일 로딩 (hk_221206_na.csv)\n"
   ]
  },
  {
   "cell_type": "code",
   "execution_count": null,
   "metadata": {
    "colab": {
     "base_uri": "https://localhost:8080/"
    },
    "executionInfo": {
     "elapsed": 583,
     "status": "ok",
     "timestamp": 1665614532711,
     "user": {
      "displayName": "jinyang park",
      "userId": "06576046992691541404"
     },
     "user_tz": -540
    },
    "id": "jemfpQZDzypY",
    "outputId": "ff8b197f-1dbd-449f-e974-91754d090278"
   },
   "outputs": [],
   "source": [
    "# isna()\n"
   ]
  },
  {
   "cell_type": "code",
   "execution_count": null,
   "metadata": {
    "colab": {
     "base_uri": "https://localhost:8080/",
     "height": 206
    },
    "executionInfo": {
     "elapsed": 554,
     "status": "ok",
     "timestamp": 1665648331364,
     "user": {
      "displayName": "jinyang park",
      "userId": "06576046992691541404"
     },
     "user_tz": -540
    },
    "id": "Ui8CkiWezypY",
    "outputId": "e73cf063-e5fd-455f-d4ab-504e73a18bf9"
   },
   "outputs": [],
   "source": [
    "# dropna()\n"
   ]
  },
  {
   "cell_type": "code",
   "execution_count": null,
   "metadata": {
    "colab": {
     "base_uri": "https://localhost:8080/"
    },
    "executionInfo": {
     "elapsed": 10,
     "status": "ok",
     "timestamp": 1665614532715,
     "user": {
      "displayName": "jinyang park",
      "userId": "06576046992691541404"
     },
     "user_tz": -540
    },
    "id": "Zt8vyxyFNRaN",
    "outputId": "5f92b5ee-e1f3-4f7d-f241-eb31c19f6111"
   },
   "outputs": [],
   "source": [
    "# fillna()\n"
   ]
  },
  {
   "cell_type": "markdown",
   "metadata": {
    "id": "qAO6UNRNfYXR"
   },
   "source": [
    "## Quiz 8\n",
    "\n",
    "(실습문제 유형5을 사용하여, : phone.csv (구분자:  “,” , 105,828 Rows, 10 Columns)\n",
    "\n",
    "1) 단계 1-1. 데이터 중 테스트 결과(TestResult)가 SUCCESS이고 신호 강도(Signal) 값이 결측치(null, N/A 등)가 아닌 데이터만 추출"
   ]
  },
  {
   "cell_type": "code",
   "execution_count": null,
   "metadata": {
    "id": "5z0wz_CVfYXS"
   },
   "outputs": [],
   "source": []
  },
  {
   "cell_type": "markdown",
   "metadata": {
    "id": "ESN62nhDzypT"
   },
   "source": [
    "### 2_9. sort, aggregation함수, groupby \n",
    "\n",
    "* sort_values()\n"
   ]
  },
  {
   "cell_type": "code",
   "execution_count": null,
   "metadata": {
    "id": "G1RPwp8dXpfO"
   },
   "outputs": [],
   "source": [
    "# 파일 로딩\n"
   ]
  },
  {
   "cell_type": "code",
   "execution_count": null,
   "metadata": {
    "colab": {
     "base_uri": "https://localhost:8080/",
     "height": 206
    },
    "executionInfo": {
     "elapsed": 5,
     "status": "ok",
     "timestamp": 1665614878368,
     "user": {
      "displayName": "jinyang park",
      "userId": "06576046992691541404"
     },
     "user_tz": -540
    },
    "id": "78QYYjOYPSe0",
    "outputId": "e1b50e81-7616-4287-dfaf-8a3587c7c635"
   },
   "outputs": [],
   "source": [
    "# sort_values, 1개 column 정렬"
   ]
  },
  {
   "cell_type": "code",
   "execution_count": null,
   "metadata": {
    "colab": {
     "base_uri": "https://localhost:8080/",
     "height": 423
    },
    "executionInfo": {
     "elapsed": 6,
     "status": "ok",
     "timestamp": 1665614927998,
     "user": {
      "displayName": "jinyang park",
      "userId": "06576046992691541404"
     },
     "user_tz": -540
    },
    "id": "fhXGKmL-a2ya",
    "outputId": "9eed9962-b84b-437a-f744-1dd9a1783935",
    "scrolled": false
   },
   "outputs": [],
   "source": [
    "# n개 column 정렬  ['blood_type', 'age']\n"
   ]
  },
  {
   "cell_type": "code",
   "execution_count": null,
   "metadata": {
    "colab": {
     "base_uri": "https://localhost:8080/",
     "height": 423
    },
    "executionInfo": {
     "elapsed": 347,
     "status": "ok",
     "timestamp": 1665614936831,
     "user": {
      "displayName": "jinyang park",
      "userId": "06576046992691541404"
     },
     "user_tz": -540
    },
    "id": "sNqD2Lbebawr",
    "outputId": "7ad27c26-083f-4d31-bbf4-cc3cc4ec6f43"
   },
   "outputs": [],
   "source": [
    "# n개 column 정렬, ascending(True/False) 적용\n"
   ]
  },
  {
   "cell_type": "markdown",
   "metadata": {
    "id": "9t8KdYmQzypU"
   },
   "source": [
    "* aggregation (집계함수)"
   ]
  },
  {
   "cell_type": "code",
   "execution_count": null,
   "metadata": {
    "colab": {
     "base_uri": "https://localhost:8080/"
    },
    "executionInfo": {
     "elapsed": 346,
     "status": "ok",
     "timestamp": 1665614988900,
     "user": {
      "displayName": "jinyang park",
      "userId": "06576046992691541404"
     },
     "user_tz": -540
    },
    "id": "1AJh23TczypU",
    "outputId": "dad9e16c-419a-453b-b8fe-82dd33737e79"
   },
   "outputs": [],
   "source": [
    "# 1개 column 에 대한 aggregation\n"
   ]
  },
  {
   "cell_type": "code",
   "execution_count": null,
   "metadata": {
    "colab": {
     "base_uri": "https://localhost:8080/"
    },
    "executionInfo": {
     "elapsed": 3,
     "status": "ok",
     "timestamp": 1665615073996,
     "user": {
      "displayName": "jinyang park",
      "userId": "06576046992691541404"
     },
     "user_tz": -540
    },
    "id": "asKcTZxSceIH",
    "outputId": "fbfe6c70-ea2f-4574-8636-31ecbbdb4fce"
   },
   "outputs": [],
   "source": [
    "# n개 column 에 대한 aggregation\n"
   ]
  },
  {
   "cell_type": "code",
   "execution_count": null,
   "metadata": {
    "colab": {
     "base_uri": "https://localhost:8080/",
     "height": 206
    },
    "executionInfo": {
     "elapsed": 316,
     "status": "ok",
     "timestamp": 1665615194416,
     "user": {
      "displayName": "jinyang park",
      "userId": "06576046992691541404"
     },
     "user_tz": -540
    },
    "id": "UeBsXPX1djQW",
    "outputId": "95913b89-eeb2-4045-937b-df8b91454451"
   },
   "outputs": [],
   "source": [
    "# n개 column 에 대한 n개 aggregation\n"
   ]
  },
  {
   "cell_type": "code",
   "execution_count": null,
   "metadata": {
    "colab": {
     "base_uri": "https://localhost:8080/"
    },
    "executionInfo": {
     "elapsed": 321,
     "status": "ok",
     "timestamp": 1665615213845,
     "user": {
      "displayName": "jinyang park",
      "userId": "06576046992691541404"
     },
     "user_tz": -540
    },
    "id": "DYT-72xoeZZG",
    "outputId": "5faec497-2472-4f31-ed93-b3652cf82c97"
   },
   "outputs": [],
   "source": [
    "# n개 column 에 대한 column별 aggregation (dict형태로 입력)\n"
   ]
  },
  {
   "cell_type": "code",
   "execution_count": null,
   "metadata": {
    "colab": {
     "base_uri": "https://localhost:8080/"
    },
    "executionInfo": {
     "elapsed": 330,
     "status": "ok",
     "timestamp": 1665615414973,
     "user": {
      "displayName": "jinyang park",
      "userId": "06576046992691541404"
     },
     "user_tz": -540
    },
    "id": "MljsEXOpZ95R",
    "outputId": "50d3945d-47fe-4669-baa4-13d8c1ccb514"
   },
   "outputs": [],
   "source": [
    "# 1개 column에 2개 이상 aggregation을 적용하면 마지막 aggregation이 적용\n"
   ]
  },
  {
   "cell_type": "code",
   "execution_count": null,
   "metadata": {
    "colab": {
     "base_uri": "https://localhost:8080/",
     "height": 143
    },
    "executionInfo": {
     "elapsed": 330,
     "status": "ok",
     "timestamp": 1665620807150,
     "user": {
      "displayName": "jinyang park",
      "userId": "06576046992691541404"
     },
     "user_tz": -540
    },
    "id": "y-Qjnu_qaq5a",
    "outputId": "12367994-c483-4189-9771-afaee9c42fd1"
   },
   "outputs": [],
   "source": [
    "# 1개 column에 2개 이상 aggregation 적용 방법\n"
   ]
  },
  {
   "cell_type": "markdown",
   "metadata": {
    "id": "KZd12h7JzypW"
   },
   "source": [
    "* groupby()"
   ]
  },
  {
   "cell_type": "code",
   "execution_count": null,
   "metadata": {
    "colab": {
     "base_uri": "https://localhost:8080/"
    },
    "executionInfo": {
     "elapsed": 395,
     "status": "ok",
     "timestamp": 1665620839766,
     "user": {
      "displayName": "jinyang park",
      "userId": "06576046992691541404"
     },
     "user_tz": -540
    },
    "id": "akeuIkjmIji8",
    "outputId": "fe41053d-bc70-4497-c048-50bf921b6690"
   },
   "outputs": [],
   "source": [
    "# 1개 column 에 대한 groupby\n"
   ]
  },
  {
   "cell_type": "code",
   "execution_count": null,
   "metadata": {
    "colab": {
     "base_uri": "https://localhost:8080/",
     "height": 425
    },
    "executionInfo": {
     "elapsed": 556,
     "status": "ok",
     "timestamp": 1665620877798,
     "user": {
      "displayName": "jinyang park",
      "userId": "06576046992691541404"
     },
     "user_tz": -540
    },
    "id": "g0IlETmSzypW",
    "outputId": "b20daf34-77c8-4aa5-8247-afb3e63d6b5f"
   },
   "outputs": [],
   "source": [
    "# n개 column 에 대한 groupby \n"
   ]
  },
  {
   "cell_type": "markdown",
   "metadata": {
    "id": "G_9t1VbKlE7q"
   },
   "source": [
    "* groupby() + aggregation"
   ]
  },
  {
   "cell_type": "code",
   "execution_count": null,
   "metadata": {
    "colab": {
     "base_uri": "https://localhost:8080/",
     "height": 425
    },
    "executionInfo": {
     "elapsed": 315,
     "status": "ok",
     "timestamp": 1665620961949,
     "user": {
      "displayName": "jinyang park",
      "userId": "06576046992691541404"
     },
     "user_tz": -540
    },
    "id": "R9VynY97ITE6",
    "outputId": "463d3b71-aef6-4cd3-e408-909dae08bc88"
   },
   "outputs": [],
   "source": [
    "# groupby\n"
   ]
  },
  {
   "cell_type": "code",
   "execution_count": null,
   "metadata": {
    "colab": {
     "base_uri": "https://localhost:8080/",
     "height": 457
    },
    "executionInfo": {
     "elapsed": 9,
     "status": "ok",
     "timestamp": 1665620977291,
     "user": {
      "displayName": "jinyang park",
      "userId": "06576046992691541404"
     },
     "user_tz": -540
    },
    "id": "wFvv4rYCk1x3",
    "outputId": "059c8358-cd98-4891-d8d2-94785d15d130"
   },
   "outputs": [],
   "source": [
    "# n개 groupby + n개 aggregation(1개 column)\n"
   ]
  },
  {
   "cell_type": "code",
   "execution_count": null,
   "metadata": {
    "colab": {
     "base_uri": "https://localhost:8080/",
     "height": 488
    },
    "executionInfo": {
     "elapsed": 333,
     "status": "ok",
     "timestamp": 1665621014020,
     "user": {
      "displayName": "jinyang park",
      "userId": "06576046992691541404"
     },
     "user_tz": -540
    },
    "id": "ShZz-O6ok7Wy",
    "outputId": "6503525e-068b-4fc1-fe97-fb1ad7f5a31f"
   },
   "outputs": [],
   "source": [
    "# n개 groupby + n개 aggregation(column별 동일 aggregation)\n"
   ]
  },
  {
   "cell_type": "code",
   "execution_count": null,
   "metadata": {
    "colab": {
     "base_uri": "https://localhost:8080/",
     "height": 457
    },
    "executionInfo": {
     "elapsed": 311,
     "status": "ok",
     "timestamp": 1665621029387,
     "user": {
      "displayName": "jinyang park",
      "userId": "06576046992691541404"
     },
     "user_tz": -540
    },
    "id": "ZbZWD3WTlUYC",
    "outputId": "1a9cbb7a-c8f5-4f2e-b1ab-5b4c8c22875b"
   },
   "outputs": [],
   "source": [
    "# n개 groupby + n개 aggregation(column별 다른 aggregation)\n"
   ]
  },
  {
   "cell_type": "markdown",
   "metadata": {
    "id": "bUUlOFlzfYXV"
   },
   "source": [
    "## Quiz 9\n",
    "\n",
    "1) iris.cvs의 column('species')별로 'sepal_length' , 'sepal_width')의 평균, 중앙값, 최대값을 구하시오"
   ]
  },
  {
   "cell_type": "code",
   "execution_count": null,
   "metadata": {
    "id": "Zb0gz-NWfYXV"
   },
   "outputs": [],
   "source": []
  },
  {
   "cell_type": "markdown",
   "metadata": {
    "id": "4j9vbi3HzypZ"
   },
   "source": [
    "### 2_10. DataFrame의 병합 (join)\n",
    "* concat"
   ]
  },
  {
   "cell_type": "code",
   "execution_count": null,
   "metadata": {
    "colab": {
     "base_uri": "https://localhost:8080/",
     "height": 112
    },
    "executionInfo": {
     "elapsed": 345,
     "status": "ok",
     "timestamp": 1665623438369,
     "user": {
      "displayName": "jinyang park",
      "userId": "06576046992691541404"
     },
     "user_tz": -540
    },
    "id": "oTLxIp_vXuqy",
    "outputId": "93dbd877-8d2d-4081-d2a6-0a640fd983a3"
   },
   "outputs": [],
   "source": [
    "# 파일 로딩\n"
   ]
  },
  {
   "cell_type": "code",
   "execution_count": null,
   "metadata": {
    "id": "48CChtalzypZ",
    "scrolled": true
   },
   "outputs": [],
   "source": [
    "# concat 실습 파일 생성\n"
   ]
  },
  {
   "cell_type": "code",
   "execution_count": null,
   "metadata": {
    "colab": {
     "base_uri": "https://localhost:8080/",
     "height": 206
    },
    "executionInfo": {
     "elapsed": 320,
     "status": "ok",
     "timestamp": 1665624025301,
     "user": {
      "displayName": "jinyang park",
      "userId": "06576046992691541404"
     },
     "user_tz": -540
    },
    "id": "d9AMjAvCzypZ",
    "outputId": "b0583311-e7fc-48e3-88fa-8a334eef5f25"
   },
   "outputs": [],
   "source": []
  },
  {
   "cell_type": "code",
   "execution_count": null,
   "metadata": {
    "colab": {
     "base_uri": "https://localhost:8080/",
     "height": 363
    },
    "executionInfo": {
     "elapsed": 4,
     "status": "ok",
     "timestamp": 1665624026302,
     "user": {
      "displayName": "jinyang park",
      "userId": "06576046992691541404"
     },
     "user_tz": -540
    },
    "id": "w3p5JKAI6Pwc",
    "outputId": "3fc1209a-785e-4887-f176-6703baf4c477"
   },
   "outputs": [],
   "source": [
    "# concat (row), axis = 0 default \n"
   ]
  },
  {
   "cell_type": "code",
   "execution_count": null,
   "metadata": {
    "colab": {
     "base_uri": "https://localhost:8080/",
     "height": 237
    },
    "executionInfo": {
     "elapsed": 621,
     "status": "ok",
     "timestamp": 1665624081139,
     "user": {
      "displayName": "jinyang park",
      "userId": "06576046992691541404"
     },
     "user_tz": -540
    },
    "id": "0m-1Dyht6-9X",
    "outputId": "c89ea086-af3c-476f-8082-42f58b09dd9a"
   },
   "outputs": [],
   "source": [
    "# concat (column)  axis = 1\n"
   ]
  },
  {
   "cell_type": "markdown",
   "metadata": {
    "id": "W0LJmiBQ7KcG"
   },
   "source": [
    "* merge"
   ]
  },
  {
   "cell_type": "code",
   "execution_count": null,
   "metadata": {
    "id": "lnClk6E-70UQ"
   },
   "outputs": [],
   "source": [
    "# merge 실습 파일 생성\n"
   ]
  },
  {
   "cell_type": "code",
   "execution_count": null,
   "metadata": {
    "colab": {
     "base_uri": "https://localhost:8080/",
     "height": 112
    },
    "executionInfo": {
     "elapsed": 692,
     "status": "ok",
     "timestamp": 1665624734249,
     "user": {
      "displayName": "jinyang park",
      "userId": "06576046992691541404"
     },
     "user_tz": -540
    },
    "id": "rTwzy_JI9L_v",
    "outputId": "e3fdcdeb-5ba9-40d9-bb70-63c1397f6511"
   },
   "outputs": [],
   "source": [
    "# merge  (inner join default)\n"
   ]
  },
  {
   "cell_type": "code",
   "execution_count": null,
   "metadata": {
    "colab": {
     "base_uri": "https://localhost:8080/",
     "height": 206
    },
    "executionInfo": {
     "elapsed": 540,
     "status": "ok",
     "timestamp": 1665624833357,
     "user": {
      "displayName": "jinyang park",
      "userId": "06576046992691541404"
     },
     "user_tz": -540
    },
    "id": "hf6wbReW-P3-",
    "outputId": "018a808e-f0e4-4b08-cd7f-44ba2fefb1c5"
   },
   "outputs": [],
   "source": [
    "# merge   (left join)\n"
   ]
  },
  {
   "cell_type": "code",
   "execution_count": null,
   "metadata": {
    "colab": {
     "base_uri": "https://localhost:8080/",
     "height": 269
    },
    "executionInfo": {
     "elapsed": 603,
     "status": "ok",
     "timestamp": 1665624879207,
     "user": {
      "displayName": "jinyang park",
      "userId": "06576046992691541404"
     },
     "user_tz": -540
    },
    "id": "akTUTATn-nYL",
    "outputId": "3a245078-0fc6-4a3d-b830-b95d084609db"
   },
   "outputs": [],
   "source": [
    "# merge   (outer join)\n"
   ]
  },
  {
   "cell_type": "markdown",
   "metadata": {
    "id": "TeG7iEDPzypZ"
   },
   "source": [
    "### 2_11. column내 값 변경\n",
    "* replace\n",
    "* map"
   ]
  },
  {
   "cell_type": "code",
   "execution_count": null,
   "metadata": {
    "colab": {
     "base_uri": "https://localhost:8080/",
     "height": 112
    },
    "executionInfo": {
     "elapsed": 5,
     "status": "ok",
     "timestamp": 1665640952458,
     "user": {
      "displayName": "jinyang park",
      "userId": "06576046992691541404"
     },
     "user_tz": -540
    },
    "id": "X7O1unmw7724",
    "outputId": "925c4905-5917-467a-d6f1-d359724cab45"
   },
   "outputs": [],
   "source": [
    "# 파일로딩"
   ]
  },
  {
   "cell_type": "code",
   "execution_count": null,
   "metadata": {
    "colab": {
     "base_uri": "https://localhost:8080/"
    },
    "executionInfo": {
     "elapsed": 3,
     "status": "ok",
     "timestamp": 1665641157516,
     "user": {
      "displayName": "jinyang park",
      "userId": "06576046992691541404"
     },
     "user_tz": -540
    },
    "id": "yQkWx_RJzypa",
    "outputId": "959f7e6e-7db9-49dd-ec5a-aa339d13c25f"
   },
   "outputs": [],
   "source": [
    "# replace (1개 값 변경)\n"
   ]
  },
  {
   "cell_type": "code",
   "execution_count": null,
   "metadata": {
    "colab": {
     "base_uri": "https://localhost:8080/"
    },
    "executionInfo": {
     "elapsed": 2,
     "status": "ok",
     "timestamp": 1665641269809,
     "user": {
      "displayName": "jinyang park",
      "userId": "06576046992691541404"
     },
     "user_tz": -540
    },
    "id": "jDKgoltP84Cp",
    "outputId": "cf7a2d23-2f43-4584-e0bc-1a52ed6cc321"
   },
   "outputs": [],
   "source": [
    "# replace (n개 값 변경)\n"
   ]
  },
  {
   "cell_type": "code",
   "execution_count": null,
   "metadata": {
    "colab": {
     "base_uri": "https://localhost:8080/"
    },
    "executionInfo": {
     "elapsed": 450,
     "status": "ok",
     "timestamp": 1665641400194,
     "user": {
      "displayName": "jinyang park",
      "userId": "06576046992691541404"
     },
     "user_tz": -540
    },
    "id": "GYUlh8sK9WLe",
    "outputId": "fe9735f4-781d-4478-a0e3-3103d2968541"
   },
   "outputs": [],
   "source": [
    "# map (n개 값 변경)\n"
   ]
  },
  {
   "cell_type": "markdown",
   "metadata": {
    "id": "iY0qGcDvzypa"
   },
   "source": [
    "### 2_12. apply lambda 식으로 데이터 가공"
   ]
  },
  {
   "cell_type": "code",
   "execution_count": null,
   "metadata": {
    "colab": {
     "base_uri": "https://localhost:8080/",
     "height": 112
    },
    "executionInfo": {
     "elapsed": 354,
     "status": "ok",
     "timestamp": 1665643536210,
     "user": {
      "displayName": "jinyang park",
      "userId": "06576046992691541404"
     },
     "user_tz": -540
    },
    "id": "ke89G0lHF03B",
    "outputId": "cde7cf07-3c68-49e2-9d8d-cbfce5d93c5f"
   },
   "outputs": [],
   "source": [
    "# 파일 로딩 \n"
   ]
  },
  {
   "cell_type": "code",
   "execution_count": null,
   "metadata": {
    "colab": {
     "base_uri": "https://localhost:8080/"
    },
    "executionInfo": {
     "elapsed": 2,
     "status": "ok",
     "timestamp": 1665643544152,
     "user": {
      "displayName": "jinyang park",
      "userId": "06576046992691541404"
     },
     "user_tz": -540
    },
    "id": "wPk1jF-uzypb",
    "outputId": "9cea293c-3719-45a5-f03c-fd7d7b9235bb"
   },
   "outputs": [],
   "source": [
    "# apply lambda\n"
   ]
  },
  {
   "cell_type": "markdown",
   "metadata": {
    "id": "G56CuaBFRFXF"
   },
   "source": [
    "### 2_13. 값 등급화, 분류\n",
    "* np.where\n",
    "* cut"
   ]
  },
  {
   "cell_type": "code",
   "execution_count": null,
   "metadata": {
    "colab": {
     "base_uri": "https://localhost:8080/"
    },
    "executionInfo": {
     "elapsed": 363,
     "status": "ok",
     "timestamp": 1665646954238,
     "user": {
      "displayName": "jinyang park",
      "userId": "06576046992691541404"
     },
     "user_tz": -540
    },
    "id": "ZCcYXlLYDyAb",
    "outputId": "3db8ac4f-9148-41e9-f20b-cd6a2549caef"
   },
   "outputs": [],
   "source": [
    "# np.where 2개\n",
    "# np.where(조건, True, False)\n"
   ]
  },
  {
   "cell_type": "code",
   "execution_count": null,
   "metadata": {
    "id": "wBBsBVWifYXa",
    "outputId": "16b4e94c-d44e-4f79-993c-0fb4c4012956"
   },
   "outputs": [],
   "source": [
    "# np.where 3개\n",
    "# np.where(조건1, True, False)\n",
    "# np.where(조건1, True, \n",
    "#                 np.where(조건2, True, False)\n"
   ]
  },
  {
   "cell_type": "code",
   "execution_count": null,
   "metadata": {
    "colab": {
     "base_uri": "https://localhost:8080/"
    },
    "executionInfo": {
     "elapsed": 558,
     "status": "ok",
     "timestamp": 1665647552691,
     "user": {
      "displayName": "jinyang park",
      "userId": "06576046992691541404"
     },
     "user_tz": -540
    },
    "id": "hnG65FacUR9Y",
    "outputId": "f99a5ce5-aa99-47ba-bdcc-256764b5cdf3"
   },
   "outputs": [],
   "source": [
    "# cut\n",
    "pd.cut(x = df_hk['age'], bins = [0,20,30,40,100], labels = ['10대', '20대', '30대', '40대이상'])"
   ]
  },
  {
   "cell_type": "code",
   "execution_count": null,
   "metadata": {
    "id": "ORiCIQ5tzypc"
   },
   "outputs": [],
   "source": []
  },
  {
   "cell_type": "markdown",
   "metadata": {
    "id": "qpVLviso-Hzp"
   },
   "source": [
    "### 2_14. 날짜 변수 처리 (datetime)"
   ]
  },
  {
   "cell_type": "code",
   "execution_count": null,
   "metadata": {
    "id": "MPTdFHZPEJmd"
   },
   "outputs": [],
   "source": [
    "import datetime"
   ]
  },
  {
   "cell_type": "code",
   "execution_count": null,
   "metadata": {
    "colab": {
     "base_uri": "https://localhost:8080/",
     "height": 206
    },
    "executionInfo": {
     "elapsed": 308,
     "status": "ok",
     "timestamp": 1665644352675,
     "user": {
      "displayName": "jinyang park",
      "userId": "06576046992691541404"
     },
     "user_tz": -540
    },
    "id": "QmA2Iaw19E4a",
    "outputId": "1eee2ffa-49b7-4841-80dc-798a17743b7d"
   },
   "outputs": [],
   "source": []
  },
  {
   "cell_type": "code",
   "execution_count": null,
   "metadata": {
    "colab": {
     "base_uri": "https://localhost:8080/"
    },
    "executionInfo": {
     "elapsed": 836,
     "status": "ok",
     "timestamp": 1665644375549,
     "user": {
      "displayName": "jinyang park",
      "userId": "06576046992691541404"
     },
     "user_tz": -540
    },
    "id": "NNufUjo9-3bl",
    "outputId": "a9e2af8c-d6f5-43fc-8e45-f329c5f0bd98"
   },
   "outputs": [],
   "source": [
    "# pd.to_datetime\n"
   ]
  },
  {
   "cell_type": "code",
   "execution_count": null,
   "metadata": {
    "colab": {
     "base_uri": "https://localhost:8080/"
    },
    "executionInfo": {
     "elapsed": 336,
     "status": "ok",
     "timestamp": 1665644299215,
     "user": {
      "displayName": "jinyang park",
      "userId": "06576046992691541404"
     },
     "user_tz": -540
    },
    "id": "VofWCPNZHbCn",
    "outputId": "64f737d3-6c9d-41a7-a106-531f2e7a0b2f"
   },
   "outputs": [],
   "source": [
    "# astype('datetime64')\n"
   ]
  },
  {
   "cell_type": "code",
   "execution_count": null,
   "metadata": {
    "colab": {
     "base_uri": "https://localhost:8080/"
    },
    "executionInfo": {
     "elapsed": 713,
     "status": "ok",
     "timestamp": 1665643350976,
     "user": {
      "displayName": "jinyang park",
      "userId": "06576046992691541404"
     },
     "user_tz": -540
    },
    "id": "Wfy0_RX0D6wn",
    "outputId": "83c9ac82-df28-476b-ea77-11fb9dd3e566"
   },
   "outputs": [],
   "source": [
    "# datetime.datetime.strptime\n",
    "df_hk['jumin7'].apply(lambda x : x[0:6]).apply(lambda x : datetime.datetime.strptime(x, '%y%m%d'))"
   ]
  },
  {
   "cell_type": "code",
   "execution_count": null,
   "metadata": {
    "colab": {
     "base_uri": "https://localhost:8080/"
    },
    "executionInfo": {
     "elapsed": 4,
     "status": "ok",
     "timestamp": 1665642149115,
     "user": {
      "displayName": "jinyang park",
      "userId": "06576046992691541404"
     },
     "user_tz": -540
    },
    "id": "J9yrDFnp-3kY",
    "outputId": "c2b5d3a7-7ce3-47fd-a312-5fab2fd8b753"
   },
   "outputs": [],
   "source": [
    "# datetime 활용\n"
   ]
  },
  {
   "cell_type": "markdown",
   "metadata": {
    "id": "Rl7mAGRQfYXb"
   },
   "source": [
    "Quiz 7 (실습문제 유형5을 사용하여, : phone.csv (구분자: “,” , 105,828 Rows, 10 Columns)\n",
    "\n",
    "1) 단계 1-1. 데이터 중 테스트 결과(TestResult)가 SUCCESS이고 신호 강도(Signal) 값이 결측치(null, N/A 등)가 아닌 데이터만 추출"
   ]
  },
  {
   "cell_type": "code",
   "execution_count": null,
   "metadata": {
    "id": "v2YNM-LrfYXb",
    "outputId": "d50314d9-68bf-4e38-edc2-875049d5783b"
   },
   "outputs": [],
   "source": [
    "# 파일 로딩\n"
   ]
  },
  {
   "cell_type": "code",
   "execution_count": null,
   "metadata": {
    "id": "3yd4sfeBfYXc"
   },
   "outputs": [],
   "source": [
    "# 단계 1-1. 데이터 중 테스트 결과(TestResult)가 SUCCESS\n"
   ]
  },
  {
   "cell_type": "code",
   "execution_count": null,
   "metadata": {
    "id": "TslJr_Q9fYXc"
   },
   "outputs": [],
   "source": [
    "# 신호 강도(Signal) 값이 결측치(null, N/A 등)가 아닌 데이터만 추출\n"
   ]
  },
  {
   "cell_type": "code",
   "execution_count": null,
   "metadata": {
    "id": "4nBaeDW2fYXc",
    "outputId": "6962ac7b-52bc-401f-8709-c6d4a9bd6a7b",
    "scrolled": true
   },
   "outputs": [],
   "source": [
    "\n"
   ]
  },
  {
   "cell_type": "code",
   "execution_count": null,
   "metadata": {},
   "outputs": [],
   "source": []
  }
 ],
 "metadata": {
  "colab": {
   "provenance": [
    {
     "file_id": "1xHKHcroSB8NmtcADFVfAWeGXkRR1OXjM",
     "timestamp": 1666834708786
    },
    {
     "file_id": "15ce8XzI9VPdTBVZ4NXssMiQJzvbx3x9e",
     "timestamp": 1664519074221
    }
   ],
   "toc_visible": true
  },
  "kernelspec": {
   "display_name": "Python 3 (ipykernel)",
   "language": "python",
   "name": "python3"
  },
  "language_info": {
   "codemirror_mode": {
    "name": "ipython",
    "version": 3
   },
   "file_extension": ".py",
   "mimetype": "text/x-python",
   "name": "python",
   "nbconvert_exporter": "python",
   "pygments_lexer": "ipython3",
   "version": "3.9.13"
  }
 },
 "nbformat": 4,
 "nbformat_minor": 1
}
