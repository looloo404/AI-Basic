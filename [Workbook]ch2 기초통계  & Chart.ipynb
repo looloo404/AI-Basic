{
 "cells": [
  {
   "cell_type": "markdown",
   "id": "LHdZK9XdZKYd",
   "metadata": {
    "id": "LHdZK9XdZKYd"
   },
   "source": [
    "# [KDT] ch2 기초 통계"
   ]
  },
  {
   "cell_type": "code",
   "execution_count": null,
   "id": "659ed5d3",
   "metadata": {},
   "outputs": [],
   "source": [
    "# !pip install seaborn\n",
    "# !pip install matplotlib\n",
    "# !pip install sklearn"
   ]
  },
  {
   "cell_type": "code",
   "execution_count": null,
   "id": "hUdbGv2JYynV",
   "metadata": {
    "id": "hUdbGv2JYynV"
   },
   "outputs": [],
   "source": [
    "import pandas as pd\n",
    "import numpy as np\n",
    "import datetime\n",
    "import seaborn as sns\n",
    "import matplotlib.pyplot as plt\n",
    "\n",
    "import warnings\n",
    "warnings.filterwarnings('ignore')"
   ]
  },
  {
   "cell_type": "code",
   "execution_count": null,
   "id": "syEh_JSsY9Gd",
   "metadata": {
    "colab": {
     "base_uri": "https://localhost:8080/",
     "height": 35
    },
    "executionInfo": {
     "elapsed": 392,
     "status": "ok",
     "timestamp": 1671690958870,
     "user": {
      "displayName": "jinyang park",
      "userId": "06576046992691541404"
     },
     "user_tz": -540
    },
    "id": "syEh_JSsY9Gd",
    "outputId": "fdfaff2e-038d-4ade-eed3-06d500c322bb"
   },
   "outputs": [],
   "source": [
    "pd.__version__"
   ]
  },
  {
   "cell_type": "markdown",
   "id": "MZ8Q3hUmtb1N",
   "metadata": {
    "id": "MZ8Q3hUmtb1N"
   },
   "source": [
    "## 통계량"
   ]
  },
  {
   "cell_type": "code",
   "execution_count": null,
   "id": "uR9_zvLAivod",
   "metadata": {
    "colab": {
     "base_uri": "https://localhost:8080/"
    },
    "executionInfo": {
     "elapsed": 6,
     "status": "ok",
     "timestamp": 1671692064255,
     "user": {
      "displayName": "jinyang park",
      "userId": "06576046992691541404"
     },
     "user_tz": -540
    },
    "id": "uR9_zvLAivod",
    "outputId": "991d5534-7d62-455a-b4b5-c5cdfc505a0d"
   },
   "outputs": [],
   "source": [
    "# np.arange(10)\n"
   ]
  },
  {
   "cell_type": "code",
   "execution_count": null,
   "id": "Vvw8HkJWjpUs",
   "metadata": {
    "colab": {
     "base_uri": "https://localhost:8080/"
    },
    "executionInfo": {
     "elapsed": 384,
     "status": "ok",
     "timestamp": 1671692087953,
     "user": {
      "displayName": "jinyang park",
      "userId": "06576046992691541404"
     },
     "user_tz": -540
    },
    "id": "Vvw8HkJWjpUs",
    "outputId": "8d40ab84-ff00-417e-e508-8943f6057314"
   },
   "outputs": [],
   "source": [
    "# mean\n"
   ]
  },
  {
   "cell_type": "code",
   "execution_count": null,
   "id": "RwgNup9WnT4-",
   "metadata": {
    "colab": {
     "base_uri": "https://localhost:8080/"
    },
    "executionInfo": {
     "elapsed": 6,
     "status": "ok",
     "timestamp": 1671692154696,
     "user": {
      "displayName": "jinyang park",
      "userId": "06576046992691541404"
     },
     "user_tz": -540
    },
    "id": "RwgNup9WnT4-",
    "outputId": "1e8e8228-462a-4949-f6c7-8ec714379a30"
   },
   "outputs": [],
   "source": [
    "# array [8,8,8,8,8,8,8,8,8] \n"
   ]
  },
  {
   "cell_type": "code",
   "execution_count": null,
   "id": "hw23Uvmwjw4G",
   "metadata": {
    "colab": {
     "base_uri": "https://localhost:8080/"
    },
    "executionInfo": {
     "elapsed": 264,
     "status": "ok",
     "timestamp": 1671692169538,
     "user": {
      "displayName": "jinyang park",
      "userId": "06576046992691541404"
     },
     "user_tz": -540
    },
    "id": "hw23Uvmwjw4G",
    "outputId": "6d4e52b0-71a0-4783-8c8f-576a7061236e"
   },
   "outputs": [],
   "source": [
    "# np.arange(10)통계량\n"
   ]
  },
  {
   "cell_type": "code",
   "execution_count": null,
   "id": "mORMfSygyFAv",
   "metadata": {
    "colab": {
     "base_uri": "https://localhost:8080/"
    },
    "executionInfo": {
     "elapsed": 292,
     "status": "ok",
     "timestamp": 1671694989214,
     "user": {
      "displayName": "jinyang park",
      "userId": "06576046992691541404"
     },
     "user_tz": -540
    },
    "id": "mORMfSygyFAv",
    "outputId": "82b2822a-f4c9-4961-914e-56e8f429e500"
   },
   "outputs": [],
   "source": [
    "# array [8,8,8,8,8,8,8,8,8]  통계량\n"
   ]
  },
  {
   "cell_type": "code",
   "execution_count": null,
   "id": "xcwazqTln89z",
   "metadata": {
    "colab": {
     "base_uri": "https://localhost:8080/"
    },
    "executionInfo": {
     "elapsed": 452,
     "status": "ok",
     "timestamp": 1671692299595,
     "user": {
      "displayName": "jinyang park",
      "userId": "06576046992691541404"
     },
     "user_tz": -540
    },
    "id": "xcwazqTln89z",
    "outputId": "1177a460-6d10-4348-92c2-b44fdc726035"
   },
   "outputs": [],
   "source": [
    "# mod\n"
   ]
  },
  {
   "cell_type": "code",
   "execution_count": null,
   "id": "p2vsgN9GyYr_",
   "metadata": {
    "colab": {
     "base_uri": "https://localhost:8080/"
    },
    "executionInfo": {
     "elapsed": 308,
     "status": "ok",
     "timestamp": 1671695017092,
     "user": {
      "displayName": "jinyang park",
      "userId": "06576046992691541404"
     },
     "user_tz": -540
    },
    "id": "p2vsgN9GyYr_",
    "outputId": "499772e0-23fb-46dc-93c3-744a1c95da73"
   },
   "outputs": [],
   "source": [
    "from scipy.stats import mode\n"
   ]
  },
  {
   "cell_type": "code",
   "execution_count": null,
   "id": "4ee_wgugjgde",
   "metadata": {
    "id": "4ee_wgugjgde",
    "outputId": "c3e0c6c2-2f77-40de-c931-8a581ab36d52"
   },
   "outputs": [],
   "source": [
    "# 데이터 값(sclae)이 커질때 평균과 분산의 변화\n"
   ]
  },
  {
   "cell_type": "code",
   "execution_count": null,
   "id": "Nd3wB1bdn1X6",
   "metadata": {
    "id": "Nd3wB1bdn1X6",
    "outputId": "599cc9ab-51a7-4ae9-ef96-d71851cd9274"
   },
   "outputs": [],
   "source": [
    "# arr2 * 10\n"
   ]
  },
  {
   "cell_type": "markdown",
   "id": "ykZ5wr87Znl8",
   "metadata": {
    "id": "ykZ5wr87Znl8"
   },
   "source": [
    "## Quiz\n",
    "\n",
    "data(hk_221206.csv)를 읽고 \n",
    "\n",
    "1) height column에 대한\n",
    "- 평균 (mean)\n",
    "- 중앙값 (mean)\n",
    "- 최빈값 (mode)\n",
    "- 1사분위수, 2사분위수, 3사분위수, IQR\n",
    "- 첨도\n",
    "- 왜도를 구하시오\n",
    "\n",
    "2) age column에 대한\n",
    "- 평균 (mean)\n",
    "- 중앙값 (mean)\n",
    "- 최대값 (max)를 구하시오"
   ]
  },
  {
   "cell_type": "code",
   "execution_count": null,
   "id": "dkCC3Fn4Y9nT",
   "metadata": {
    "colab": {
     "base_uri": "https://localhost:8080/"
    },
    "executionInfo": {
     "elapsed": 1236,
     "status": "ok",
     "timestamp": 1670293400558,
     "user": {
      "displayName": "jinyang park",
      "userId": "06576046992691541404"
     },
     "user_tz": -540
    },
    "id": "dkCC3Fn4Y9nT",
    "outputId": "20a7be86-33e0-45ca-e604-b00784650296",
    "scrolled": true
   },
   "outputs": [],
   "source": [
    "# 파일 로딩 \n"
   ]
  },
  {
   "cell_type": "code",
   "execution_count": null,
   "id": "SqEMJF39n1X7",
   "metadata": {
    "id": "SqEMJF39n1X7",
    "outputId": "40782762-dd17-4097-ceb2-63a4162e6a1c"
   },
   "outputs": [],
   "source": [
    "# 변수 type 확인\n"
   ]
  },
  {
   "cell_type": "code",
   "execution_count": null,
   "id": "nvaMG0S9Zjpr",
   "metadata": {
    "colab": {
     "base_uri": "https://localhost:8080/"
    },
    "executionInfo": {
     "elapsed": 33,
     "status": "ok",
     "timestamp": 1670293400560,
     "user": {
      "displayName": "jinyang park",
      "userId": "06576046992691541404"
     },
     "user_tz": -540
    },
    "id": "nvaMG0S9Zjpr",
    "outputId": "35521381-f316-4fd2-a803-6f226ccafd2b"
   },
   "outputs": [],
   "source": [
    "# 1) height column에 대한 통계량\n"
   ]
  },
  {
   "cell_type": "code",
   "execution_count": null,
   "id": "9nKKrHnrasbc",
   "metadata": {
    "colab": {
     "base_uri": "https://localhost:8080/"
    },
    "executionInfo": {
     "elapsed": 39,
     "status": "ok",
     "timestamp": 1670293401447,
     "user": {
      "displayName": "jinyang park",
      "userId": "06576046992691541404"
     },
     "user_tz": -540
    },
    "id": "9nKKrHnrasbc",
    "outputId": "12ff1047-0e1e-49a7-a6b0-1d1432a3862f"
   },
   "outputs": [],
   "source": [
    "# 2) age column에 대한\n"
   ]
  },
  {
   "cell_type": "code",
   "execution_count": null,
   "id": "6P0c8FfydWZz",
   "metadata": {
    "colab": {
     "base_uri": "https://localhost:8080/",
     "height": 390
    },
    "executionInfo": {
     "elapsed": 30,
     "status": "ok",
     "timestamp": 1670293400562,
     "user": {
      "displayName": "jinyang park",
      "userId": "06576046992691541404"
     },
     "user_tz": -540
    },
    "id": "6P0c8FfydWZz",
    "outputId": "62441956-671b-4f06-db96-f4d186fb374b"
   },
   "outputs": [],
   "source": [
    "# 그래프 (분포)\n"
   ]
  },
  {
   "cell_type": "code",
   "execution_count": null,
   "id": "V_IbeEXHd7FN",
   "metadata": {
    "colab": {
     "base_uri": "https://localhost:8080/",
     "height": 270
    },
    "executionInfo": {
     "elapsed": 49,
     "status": "ok",
     "timestamp": 1670293401444,
     "user": {
      "displayName": "jinyang park",
      "userId": "06576046992691541404"
     },
     "user_tz": -540
    },
    "id": "V_IbeEXHd7FN",
    "outputId": "51cdadc1-11bc-4480-8c78-e0eb44a82193"
   },
   "outputs": [],
   "source": [
    "# Grouped boxplots by seaborn\n"
   ]
  },
  {
   "cell_type": "code",
   "execution_count": null,
   "id": "IiuIQ7zfheEU",
   "metadata": {
    "colab": {
     "base_uri": "https://localhost:8080/",
     "height": 297
    },
    "executionInfo": {
     "elapsed": 43,
     "status": "ok",
     "timestamp": 1670293401446,
     "user": {
      "displayName": "jinyang park",
      "userId": "06576046992691541404"
     },
     "user_tz": -540
    },
    "id": "IiuIQ7zfheEU",
    "outputId": "40997593-c58c-4c9d-aa01-7a5e1ddd0bb5",
    "scrolled": false
   },
   "outputs": [],
   "source": [
    "# Grouped boxplots by seaborn\n",
    "sns.boxplot(x='company', \n",
    "            y='height', \n",
    "            data=df_hk)"
   ]
  },
  {
   "cell_type": "code",
   "execution_count": null,
   "id": "4EHwiLbZb3K7",
   "metadata": {
    "id": "4EHwiLbZb3K7"
   },
   "outputs": [],
   "source": []
  },
  {
   "cell_type": "markdown",
   "id": "oFOyy7RpWeun",
   "metadata": {
    "id": "oFOyy7RpWeun"
   },
   "source": [
    "## 조건부확률"
   ]
  },
  {
   "cell_type": "markdown",
   "id": "jieiCA5yTxpO",
   "metadata": {
    "id": "jieiCA5yTxpO"
   },
   "source": [
    "df_hk에서 \n",
    "\n",
    "1) 1명을 선택했을때 Gender 가 Female 이었다. company가 'A'일 확률은 ?"
   ]
  },
  {
   "cell_type": "code",
   "execution_count": null,
   "id": "AlbwTaRaWhPw",
   "metadata": {
    "colab": {
     "base_uri": "https://localhost:8080/"
    },
    "executionInfo": {
     "elapsed": 34,
     "status": "ok",
     "timestamp": 1670293401449,
     "user": {
      "displayName": "jinyang park",
      "userId": "06576046992691541404"
     },
     "user_tz": -540
    },
    "id": "AlbwTaRaWhPw",
    "outputId": "29c2fd5f-4f79-4fff-a148-7f76d4dbf72d"
   },
   "outputs": [],
   "source": [
    "# 파일 로딩\n"
   ]
  },
  {
   "cell_type": "code",
   "execution_count": null,
   "id": "m0yJ1SSuWuyI",
   "metadata": {
    "colab": {
     "base_uri": "https://localhost:8080/",
     "height": 143
    },
    "executionInfo": {
     "elapsed": 5,
     "status": "ok",
     "timestamp": 1670294394532,
     "user": {
      "displayName": "jinyang park",
      "userId": "06576046992691541404"
     },
     "user_tz": -540
    },
    "id": "m0yJ1SSuWuyI",
    "outputId": "177d416f-df59-4ced-9f2f-8ca3f999f963",
    "scrolled": true
   },
   "outputs": [],
   "source": [
    "# crosstab \n"
   ]
  },
  {
   "cell_type": "code",
   "execution_count": null,
   "id": "xvjQigy1n1X-",
   "metadata": {
    "id": "xvjQigy1n1X-",
    "outputId": "2bc53a15-aee1-4d87-fc15-c9c2b019e663"
   },
   "outputs": [],
   "source": [
    "# 조건부 확률\n"
   ]
  },
  {
   "cell_type": "markdown",
   "id": "vKR18ePxWXlM",
   "metadata": {
    "id": "vKR18ePxWXlM"
   },
   "source": [
    "## 중심극한정리"
   ]
  },
  {
   "cell_type": "code",
   "execution_count": null,
   "id": "GEP34qQUQFIK",
   "metadata": {
    "colab": {
     "base_uri": "https://localhost:8080/",
     "height": 265
    },
    "executionInfo": {
     "elapsed": 1349,
     "status": "ok",
     "timestamp": 1670305330042,
     "user": {
      "displayName": "jinyang park",
      "userId": "06576046992691541404"
     },
     "user_tz": -540
    },
    "id": "GEP34qQUQFIK",
    "outputId": "fbf70fa1-908c-410a-e561-d54f1912ddaf"
   },
   "outputs": [],
   "source": [
    "import matplotlib.pyplot as plt\n",
    "import numpy as np\n",
    "import random\n",
    "\n",
    "avg_values = []\n",
    "for i in range (1,30): # 횟수를 증가시키면 정규분포로 변화\n",
    "  random_sample = random.sample(range(1, 1000),100)\n",
    "  x = np.mean(random_sample)\n",
    "  avg_values.append(x)\n",
    "\n",
    "plt.hist(avg_values, bins = 100)\n",
    "plt.show()"
   ]
  },
  {
   "cell_type": "code",
   "execution_count": null,
   "id": "3TP3LmxlVOkc",
   "metadata": {
    "id": "3TP3LmxlVOkc"
   },
   "outputs": [],
   "source": []
  },
  {
   "cell_type": "markdown",
   "id": "Ti5nRHrZg5KI",
   "metadata": {
    "id": "Ti5nRHrZg5KI"
   },
   "source": [
    "# Chart 기본"
   ]
  },
  {
   "cell_type": "code",
   "execution_count": null,
   "id": "yEYVEwuKhIEd",
   "metadata": {
    "id": "yEYVEwuKhIEd"
   },
   "outputs": [],
   "source": [
    "import pandas as pd\n",
    "import numpy as np\n",
    "import matplotlib.pyplot as plt\n",
    "import seaborn as sns\n",
    "# import warnings\n",
    "# warnings.filterwarnings('ignore')"
   ]
  },
  {
   "cell_type": "code",
   "execution_count": null,
   "id": "fxZHnB7aigbN",
   "metadata": {
    "colab": {
     "base_uri": "https://localhost:8080/",
     "height": 265
    },
    "executionInfo": {
     "elapsed": 35,
     "status": "ok",
     "timestamp": 1670743920413,
     "user": {
      "displayName": "jinyang park",
      "userId": "06576046992691541404"
     },
     "user_tz": -540
    },
    "id": "fxZHnB7aigbN",
    "outputId": "7a2dab24-b0a4-4c83-a6ff-944a746199a1"
   },
   "outputs": [],
   "source": [
    "# matplotlib inline\n"
   ]
  },
  {
   "cell_type": "code",
   "execution_count": null,
   "id": "6827cea9",
   "metadata": {
    "colab": {
     "base_uri": "https://localhost:8080/",
     "height": 265
    },
    "executionInfo": {
     "elapsed": 615,
     "status": "ok",
     "timestamp": 1670743920997,
     "user": {
      "displayName": "jinyang park",
      "userId": "06576046992691541404"
     },
     "user_tz": -540
    },
    "id": "6827cea9",
    "outputId": "e1d200c0-a28e-4bdd-a0d1-e5c9a9c1dd6a"
   },
   "outputs": [],
   "source": [
    "# x, y값 변경\n"
   ]
  },
  {
   "cell_type": "markdown",
   "id": "5f0e57a0",
   "metadata": {
    "id": "5f0e57a0"
   },
   "source": [
    "## Figure와 Axes "
   ]
  },
  {
   "cell_type": "code",
   "execution_count": null,
   "id": "hMrnLKEij211",
   "metadata": {
    "colab": {
     "base_uri": "https://localhost:8080/",
     "height": 265
    },
    "executionInfo": {
     "elapsed": 24,
     "status": "ok",
     "timestamp": 1670743920998,
     "user": {
      "displayName": "jinyang park",
      "userId": "06576046992691541404"
     },
     "user_tz": -540
    },
    "id": "hMrnLKEij211",
    "outputId": "88be0d84-276c-4d64-f27e-91c549b17232"
   },
   "outputs": [],
   "source": [
    "# plt.figure()는 figure의 속성을 정의, figure는 canvas 역할\n"
   ]
  },
  {
   "cell_type": "code",
   "execution_count": null,
   "id": "06737ffa",
   "metadata": {
    "colab": {
     "base_uri": "https://localhost:8080/",
     "height": 53
    },
    "executionInfo": {
     "elapsed": 23,
     "status": "ok",
     "timestamp": 1670743920999,
     "user": {
      "displayName": "jinyang park",
      "userId": "06576046992691541404"
     },
     "user_tz": -540
    },
    "id": "06737ffa",
    "outputId": "ea201a35-0bae-4bc0-ac32-267fb9701170"
   },
   "outputs": [],
   "source": [
    "figure = plt.figure(figsize=(10, 4))\n"
   ]
  },
  {
   "cell_type": "code",
   "execution_count": null,
   "id": "ded4c3db",
   "metadata": {
    "colab": {
     "base_uri": "https://localhost:8080/",
     "height": 265
    },
    "executionInfo": {
     "elapsed": 366,
     "status": "ok",
     "timestamp": 1670743921344,
     "user": {
      "displayName": "jinyang park",
      "userId": "06576046992691541404"
     },
     "user_tz": -540
    },
    "id": "ded4c3db",
    "outputId": "7ce025db-78ab-4ce6-ef3f-4b709c3afb53",
    "scrolled": false
   },
   "outputs": [],
   "source": [
    "# figure 속성으로 figure 바탕 색상 지정 \n"
   ]
  },
  {
   "cell_type": "code",
   "execution_count": null,
   "id": "kEpAyNoCBsBQ",
   "metadata": {
    "colab": {
     "base_uri": "https://localhost:8080/",
     "height": 295
    },
    "executionInfo": {
     "elapsed": 375,
     "status": "ok",
     "timestamp": 1670743921709,
     "user": {
      "displayName": "jinyang park",
      "userId": "06576046992691541404"
     },
     "user_tz": -540
    },
    "id": "kEpAyNoCBsBQ",
    "outputId": "10e88e4d-7b0f-4aa4-c3d8-e53d44c89c0f"
   },
   "outputs": [],
   "source": [
    "# axes 속성으로 x축, y축 lable, title을 지정\n"
   ]
  },
  {
   "cell_type": "code",
   "execution_count": null,
   "id": "JxleQDx9C2bD",
   "metadata": {
    "colab": {
     "base_uri": "https://localhost:8080/",
     "height": 295
    },
    "executionInfo": {
     "elapsed": 12,
     "status": "ok",
     "timestamp": 1670743921710,
     "user": {
      "displayName": "jinyang park",
      "userId": "06576046992691541404"
     },
     "user_tz": -540
    },
    "id": "JxleQDx9C2bD",
    "outputId": "880ff78e-bac9-4b73-b165-fda6567987dc",
    "scrolled": false
   },
   "outputs": [],
   "source": [
    "# 다양한 속성 적용이 가능, https://matplotlib.org/stable/api/markers_api.html\n"
   ]
  },
  {
   "cell_type": "code",
   "execution_count": null,
   "id": "tMK7SNh2EdoO",
   "metadata": {
    "colab": {
     "base_uri": "https://localhost:8080/",
     "height": 295
    },
    "executionInfo": {
     "elapsed": 358,
     "status": "ok",
     "timestamp": 1670743922058,
     "user": {
      "displayName": "jinyang park",
      "userId": "06576046992691541404"
     },
     "user_tz": -540
    },
    "id": "tMK7SNh2EdoO",
    "outputId": "e26f1645-2371-4d23-c9ba-6f0774dc476d",
    "scrolled": false
   },
   "outputs": [],
   "source": [
    "# 범례 적용, 두개 이상의 차트를 한 axes내에 표시\n"
   ]
  },
  {
   "cell_type": "markdown",
   "id": "157b171f",
   "metadata": {
    "id": "157b171f"
   },
   "source": [
    "\n",
    "## 시각화 matplotlib, seaborn"
   ]
  },
  {
   "cell_type": "code",
   "execution_count": null,
   "id": "e1e6bb56",
   "metadata": {
    "colab": {
     "base_uri": "https://localhost:8080/",
     "height": 206
    },
    "executionInfo": {
     "elapsed": 2217,
     "status": "ok",
     "timestamp": 1670758528296,
     "user": {
      "displayName": "jinyang park",
      "userId": "06576046992691541404"
     },
     "user_tz": -540
    },
    "id": "e1e6bb56",
    "outputId": "ac5fdfac-517b-4b4e-dfe5-799141960828"
   },
   "outputs": [],
   "source": [
    "# 파일 로딩 \n"
   ]
  },
  {
   "cell_type": "code",
   "execution_count": null,
   "id": "yvXLZvub_PBT",
   "metadata": {
    "colab": {
     "base_uri": "https://localhost:8080/"
    },
    "executionInfo": {
     "elapsed": 8,
     "status": "ok",
     "timestamp": 1670758863969,
     "user": {
      "displayName": "jinyang park",
      "userId": "06576046992691541404"
     },
     "user_tz": -540
    },
    "id": "yvXLZvub_PBT",
    "outputId": "6c8272bd-ec9a-4ce3-d2b3-11a82da8f9e2"
   },
   "outputs": [],
   "source": [
    "# Data type을 살펴보고 EDA를 수행 \n"
   ]
  },
  {
   "cell_type": "markdown",
   "id": "2908c943",
   "metadata": {
    "id": "2908c943"
   },
   "source": [
    "## histogram\n",
    "\n",
    "* histogram은 연속값에 대한 구간별 도수 분포를 시각화\n"
   ]
  },
  {
   "cell_type": "code",
   "execution_count": null,
   "id": "7a68dc76",
   "metadata": {
    "id": "7a68dc76"
   },
   "outputs": [],
   "source": [
    "# matplotlib histogram, matplotlib는 x,y축 이름 지정 필요\n"
   ]
  },
  {
   "cell_type": "code",
   "execution_count": null,
   "id": "aea9cf9b",
   "metadata": {
    "colab": {
     "base_uri": "https://localhost:8080/",
     "height": 297
    },
    "executionInfo": {
     "elapsed": 23,
     "status": "ok",
     "timestamp": 1670736058671,
     "user": {
      "displayName": "jinyang park",
      "userId": "06576046992691541404"
     },
     "user_tz": -540
    },
    "id": "aea9cf9b",
    "outputId": "1e7d14f2-6640-42e6-ddde-d65a3d9d5e1c"
   },
   "outputs": [],
   "source": [
    "# Pandas 에서도 hist 함수를 바로 호출할 수 있음. \n"
   ]
  },
  {
   "cell_type": "markdown",
   "id": "39c61dbf",
   "metadata": {
    "id": "39c61dbf"
   },
   "source": [
    "\n",
    "* seaborn의 histogram은 histplot과 displot이 대표적이며 histplot은 axes레벨, displot은 figure레벨임\n"
   ]
  },
  {
   "cell_type": "code",
   "execution_count": null,
   "id": "a4cd62c8",
   "metadata": {
    "colab": {
     "base_uri": "https://localhost:8080/",
     "height": 297
    },
    "executionInfo": {
     "elapsed": 528,
     "status": "ok",
     "timestamp": 1670736059181,
     "user": {
      "displayName": "jinyang park",
      "userId": "06576046992691541404"
     },
     "user_tz": -540
    },
    "id": "a4cd62c8",
    "outputId": "0891afdb-efe6-4667-a288-2f96767e7844"
   },
   "outputs": [],
   "source": [
    "# seaborn histogram histplot\n"
   ]
  },
  {
   "cell_type": "code",
   "execution_count": null,
   "id": "uqmCwEvkGIf1",
   "metadata": {
    "colab": {
     "base_uri": "https://localhost:8080/",
     "height": 297
    },
    "executionInfo": {
     "elapsed": 28,
     "status": "ok",
     "timestamp": 1670736059181,
     "user": {
      "displayName": "jinyang park",
      "userId": "06576046992691541404"
     },
     "user_tz": -540
    },
    "id": "uqmCwEvkGIf1",
    "outputId": "d898404d-abf1-43df-cd54-45c143e534b8"
   },
   "outputs": [],
   "source": [
    "# seaborn histogram distplot\n"
   ]
  },
  {
   "cell_type": "code",
   "execution_count": null,
   "id": "33abc861",
   "metadata": {
    "colab": {
     "base_uri": "https://localhost:8080/",
     "height": 406
    },
    "executionInfo": {
     "elapsed": 655,
     "status": "ok",
     "timestamp": 1670736059813,
     "user": {
      "displayName": "jinyang park",
      "userId": "06576046992691541404"
     },
     "user_tz": -540
    },
    "id": "33abc861",
    "outputId": "3dfde154-7b30-401b-bfa5-616d36a4f7c2"
   },
   "outputs": [],
   "source": [
    "# seaborn histogram canvas의 사이즈 지정\n",
    "\n",
    "plt.figure(figsize=(8, 4))\n",
    "sns.histplot(df_hk['age'], kde=True)\n",
    "# plt.show()"
   ]
  },
  {
   "cell_type": "code",
   "execution_count": null,
   "id": "cfeea870",
   "metadata": {
    "colab": {
     "base_uri": "https://localhost:8080/",
     "height": 406
    },
    "executionInfo": {
     "elapsed": 24,
     "status": "ok",
     "timestamp": 1670736059814,
     "user": {
      "displayName": "jinyang park",
      "userId": "06576046992691541404"
     },
     "user_tz": -540
    },
    "id": "cfeea870",
    "outputId": "7aa55e48-dd5b-4f86-d6a7-5aeefa1aeea3"
   },
   "outputs": [],
   "source": [
    "# seaborn histogram bins로 x구간 조정\n",
    "\n",
    "plt.figure(figsize=(12, 4))\n",
    "sns.histplot(x='age', data=df_hk, kde=True, bins=30)"
   ]
  },
  {
   "cell_type": "markdown",
   "id": "396f3ed9",
   "metadata": {
    "id": "396f3ed9"
   },
   "source": [
    "## countplot \n",
    "* countplot은 범주형에 대한 count 시각화"
   ]
  },
  {
   "cell_type": "code",
   "execution_count": null,
   "id": "6a35e56b",
   "metadata": {
    "id": "6a35e56b"
   },
   "outputs": [],
   "source": [
    "# 파일 로딩"
   ]
  },
  {
   "cell_type": "code",
   "execution_count": null,
   "id": "1b0a85c4",
   "metadata": {
    "id": "1b0a85c4"
   },
   "outputs": [],
   "source": [
    "# countplot\n"
   ]
  },
  {
   "cell_type": "markdown",
   "id": "3a5cedbc",
   "metadata": {
    "id": "3a5cedbc"
   },
   "source": [
    "## barplot"
   ]
  },
  {
   "cell_type": "code",
   "execution_count": null,
   "id": "Ka7-tE2ZHPeB",
   "metadata": {
    "colab": {
     "base_uri": "https://localhost:8080/",
     "height": 265
    },
    "executionInfo": {
     "elapsed": 37,
     "status": "ok",
     "timestamp": 1670736060286,
     "user": {
      "displayName": "jinyang park",
      "userId": "06576046992691541404"
     },
     "user_tz": -540
    },
    "id": "Ka7-tE2ZHPeB",
    "outputId": "5f7cc5e5-58ae-4783-f7e5-c51c237331fe"
   },
   "outputs": [],
   "source": [
    "# matplotlib barplot\n",
    "# bar 값을 만들어야 함\n",
    "\n",
    "a_mean = df_hk[df_hk['company'] == 'A'].salary.mean()\n",
    "b_mean = df_hk[df_hk['company'] == 'B'].salary.mean()\n",
    "c_mean = df_hk[df_hk['company'] == 'C'].salary.mean()\n",
    "X = df_hk['company'].unique()\n",
    "\n",
    "plt.bar(x=X, height=[a_mean,b_mean,c_mean])\n",
    "plt.xticks([0,1,2],['company A','company B','company C']) # plt.xticks([0,1,2] 눈금간격\n",
    "plt.show()"
   ]
  },
  {
   "cell_type": "code",
   "execution_count": null,
   "id": "eYExnL63J5aL",
   "metadata": {
    "colab": {
     "base_uri": "https://localhost:8080/",
     "height": 265
    },
    "executionInfo": {
     "elapsed": 36,
     "status": "ok",
     "timestamp": 1670736060287,
     "user": {
      "displayName": "jinyang park",
      "userId": "06576046992691541404"
     },
     "user_tz": -540
    },
    "id": "eYExnL63J5aL",
    "outputId": "27254180-32b7-4997-bef8-9eac9e2002f1"
   },
   "outputs": [],
   "source": [
    "# 개별값 계산\n",
    "\n",
    "a_count = (df_hk['company'] == 'A').sum()\n",
    "b_count = (df_hk['company'] == 'B').sum()\n",
    "c_count = (df_hk['company'] == 'C').sum()\n",
    "\n",
    "X = df_hk['company'].unique()\n",
    "\n",
    "plt.bar(x=X, height=[a_count,b_count,c_count])\n",
    "plt.xticks([0,1,2],['company A','company B','company C'])\n",
    "plt.show()"
   ]
  },
  {
   "cell_type": "code",
   "execution_count": null,
   "id": "9b69192a",
   "metadata": {},
   "outputs": [],
   "source": [
    "# count_values 사용\n",
    "count = df_hk['company'].value_counts().tolist()\n",
    "\n",
    "X = df_hk['company'].unique()\n",
    "plt.bar(x=X, height=count)\n",
    "plt.xticks([0,1,2],['company A','company B','company C'])\n",
    "plt.show()"
   ]
  },
  {
   "cell_type": "markdown",
   "id": "eRxsXG0OKXPs",
   "metadata": {
    "id": "eRxsXG0OKXPs"
   },
   "source": [
    "* seaborn barplot은 범주형에 대한 mean, sum, median 시각화"
   ]
  },
  {
   "cell_type": "code",
   "execution_count": null,
   "id": "ca785ed5",
   "metadata": {
    "colab": {
     "base_uri": "https://localhost:8080/",
     "height": 297
    },
    "executionInfo": {
     "elapsed": 554,
     "status": "ok",
     "timestamp": 1670736060806,
     "user": {
      "displayName": "jinyang park",
      "userId": "06576046992691541404"
     },
     "user_tz": -540
    },
    "id": "ca785ed5",
    "outputId": "cb0128a7-102b-4c59-e963-da0b3705382c"
   },
   "outputs": [],
   "source": [
    "# seaborn barplot y값 default mean으로 계산 (sum, median 변경 가능)\n"
   ]
  },
  {
   "cell_type": "code",
   "execution_count": null,
   "id": "9b9c1c2b",
   "metadata": {
    "colab": {
     "base_uri": "https://localhost:8080/",
     "height": 297
    },
    "executionInfo": {
     "elapsed": 30,
     "status": "ok",
     "timestamp": 1670736060807,
     "user": {
      "displayName": "jinyang park",
      "userId": "06576046992691541404"
     },
     "user_tz": -540
    },
    "id": "9b9c1c2b",
    "outputId": "827fb26a-5bc2-4a31-d12c-f249291c984d"
   },
   "outputs": [],
   "source": [
    "# x, y 변경시 가로형으로 인식하고 출력\n"
   ]
  },
  {
   "cell_type": "code",
   "execution_count": null,
   "id": "9c30d80c",
   "metadata": {
    "colab": {
     "base_uri": "https://localhost:8080/",
     "height": 297
    },
    "executionInfo": {
     "elapsed": 27,
     "status": "ok",
     "timestamp": 1670736060808,
     "user": {
      "displayName": "jinyang park",
      "userId": "06576046992691541404"
     },
     "user_tz": -540
    },
    "id": "9c30d80c",
    "outputId": "7cfbd951-929e-481d-bbd6-9cb5ba31cfa8"
   },
   "outputs": [],
   "source": [
    "# confidence interval을 없애고, color를 통일.\n"
   ]
  },
  {
   "cell_type": "code",
   "execution_count": null,
   "id": "6a013057",
   "metadata": {
    "colab": {
     "base_uri": "https://localhost:8080/",
     "height": 297
    },
    "executionInfo": {
     "elapsed": 31,
     "status": "ok",
     "timestamp": 1670737232210,
     "user": {
      "displayName": "jinyang park",
      "userId": "06576046992691541404"
     },
     "user_tz": -540
    },
    "id": "6a013057",
    "outputId": "4b40aa18-d4e3-4e3e-a3d3-938bdfc1f2aa"
   },
   "outputs": [],
   "source": [
    "# 평균외에 총합, 중압값으로 표현. estimator= np.median, np.sum\n"
   ]
  },
  {
   "cell_type": "code",
   "execution_count": null,
   "id": "jASA_pqtrylp",
   "metadata": {
    "colab": {
     "base_uri": "https://localhost:8080/",
     "height": 297
    },
    "executionInfo": {
     "elapsed": 638,
     "status": "ok",
     "timestamp": 1670737274801,
     "user": {
      "displayName": "jinyang park",
      "userId": "06576046992691541404"
     },
     "user_tz": -540
    },
    "id": "jASA_pqtrylp",
    "outputId": "f0a97a94-4fad-47b2-c66c-7ce1e350b537"
   },
   "outputs": [],
   "source": [
    "# hue 인자를 사용하여 x값 세분화\n"
   ]
  },
  {
   "cell_type": "markdown",
   "id": "c6dee0ec",
   "metadata": {
    "id": "c6dee0ec"
   },
   "source": [
    "## box plot\n",
    "* 4분위를 박스 형태로 **표현**"
   ]
  },
  {
   "cell_type": "code",
   "execution_count": null,
   "id": "4TEIDNeyNzrK",
   "metadata": {
    "colab": {
     "base_uri": "https://localhost:8080/",
     "height": 265
    },
    "executionInfo": {
     "elapsed": 34,
     "status": "ok",
     "timestamp": 1670736061327,
     "user": {
      "displayName": "jinyang park",
      "userId": "06576046992691541404"
     },
     "user_tz": -540
    },
    "id": "4TEIDNeyNzrK",
    "outputId": "55fe4393-859b-4879-ce0b-dac5ec17b05d"
   },
   "outputs": [],
   "source": [
    "# matplotlib barplot, x(범주형), y(연속형)\n"
   ]
  },
  {
   "cell_type": "code",
   "execution_count": null,
   "id": "e64397bc",
   "metadata": {
    "colab": {
     "base_uri": "https://localhost:8080/",
     "height": 269
    },
    "executionInfo": {
     "elapsed": 486,
     "status": "ok",
     "timestamp": 1670736061780,
     "user": {
      "displayName": "jinyang park",
      "userId": "06576046992691541404"
     },
     "user_tz": -540
    },
    "id": "e64397bc",
    "outputId": "aa6bb665-158f-410f-a0ae-636aab7f0e8a"
   },
   "outputs": [],
   "source": [
    "# matplotlib barplot, x(범주형), y(연속형)\n"
   ]
  },
  {
   "cell_type": "code",
   "execution_count": null,
   "id": "vS23il3pEe-T",
   "metadata": {
    "colab": {
     "base_uri": "https://localhost:8080/",
     "height": 265
    },
    "executionInfo": {
     "elapsed": 42,
     "status": "ok",
     "timestamp": 1670736061784,
     "user": {
      "displayName": "jinyang park",
      "userId": "06576046992691541404"
     },
     "user_tz": -540
    },
    "id": "vS23il3pEe-T",
    "outputId": "92f44961-b62b-4c92-b5ef-af7e6a25e911",
    "scrolled": false
   },
   "outputs": [],
   "source": [
    "# matplotlib barplot, x(범주형), y(연속형)\n"
   ]
  },
  {
   "cell_type": "code",
   "execution_count": null,
   "id": "3d804382",
   "metadata": {
    "colab": {
     "base_uri": "https://localhost:8080/",
     "height": 270
    },
    "executionInfo": {
     "elapsed": 41,
     "status": "ok",
     "timestamp": 1670736061785,
     "user": {
      "displayName": "jinyang park",
      "userId": "06576046992691541404"
     },
     "user_tz": -540
    },
    "id": "3d804382",
    "outputId": "5f1c91ca-35a0-4b95-80da-dcf132277eca"
   },
   "outputs": [],
   "source": [
    "# seaborn barplot, x(범주형), y(연속형)에 대한 4분위값을 표현\n"
   ]
  },
  {
   "cell_type": "code",
   "execution_count": null,
   "id": "217e57da",
   "metadata": {
    "colab": {
     "base_uri": "https://localhost:8080/",
     "height": 297
    },
    "executionInfo": {
     "elapsed": 462,
     "status": "ok",
     "timestamp": 1670736062209,
     "user": {
      "displayName": "jinyang park",
      "userId": "06576046992691541404"
     },
     "user_tz": -540
    },
    "id": "217e57da",
    "outputId": "a9623de0-6e05-4c6c-fe2c-1db4cca1379b"
   },
   "outputs": [],
   "source": [
    "# seaborn barplot, x(범주형), y(연속형)에 대한 4분위값을 표현\n"
   ]
  },
  {
   "cell_type": "code",
   "execution_count": null,
   "id": "iFZV-cEjuXKM",
   "metadata": {
    "colab": {
     "base_uri": "https://localhost:8080/",
     "height": 297
    },
    "executionInfo": {
     "elapsed": 16,
     "status": "ok",
     "timestamp": 1670736062214,
     "user": {
      "displayName": "jinyang park",
      "userId": "06576046992691541404"
     },
     "user_tz": -540
    },
    "id": "iFZV-cEjuXKM",
    "outputId": "9ace2df7-130a-4421-cd7a-81c71170ef9c"
   },
   "outputs": [],
   "source": [
    "# x(연속형), y(범주형) 입력 data 변경시 가로형으로 인식하고 출력\n"
   ]
  },
  {
   "cell_type": "code",
   "execution_count": null,
   "id": "14f84e21",
   "metadata": {
    "colab": {
     "base_uri": "https://localhost:8080/",
     "height": 297
    },
    "executionInfo": {
     "elapsed": 705,
     "status": "ok",
     "timestamp": 1670736062906,
     "user": {
      "displayName": "jinyang park",
      "userId": "06576046992691541404"
     },
     "user_tz": -540
    },
    "id": "14f84e21",
    "outputId": "5b697313-eb64-4847-bbbe-05f50fae4787"
   },
   "outputs": [],
   "source": [
    "# hue 인자를 사용하여 x값 세분화\n"
   ]
  },
  {
   "cell_type": "markdown",
   "id": "NGQs8XSfy3Z-",
   "metadata": {
    "id": "NGQs8XSfy3Z-"
   },
   "source": [
    "## pie chart\n",
    "* X(범주형)값을 시각화"
   ]
  },
  {
   "cell_type": "code",
   "execution_count": null,
   "id": "gKAwIpHVU1vG",
   "metadata": {
    "colab": {
     "base_uri": "https://localhost:8080/",
     "height": 248
    },
    "executionInfo": {
     "elapsed": 60,
     "status": "ok",
     "timestamp": 1670736062906,
     "user": {
      "displayName": "jinyang park",
      "userId": "06576046992691541404"
     },
     "user_tz": -540
    },
    "id": "gKAwIpHVU1vG",
    "outputId": "d2b24e12-d390-4375-a62a-6e293e8c34d2"
   },
   "outputs": [],
   "source": [
    "a_count = df_hk[df_hk['company'] == 'A'].company.count()\n",
    "b_count = df_hk[df_hk['company'] == 'B'].company.count()\n",
    "c_count = df_hk[df_hk['company'] == 'C'].company.count()\n",
    "\n",
    "plt.pie(x = ([a_count,b_count,c_count]), \n",
    "        labels=(['company A','company B','company C']), autopct='%.1f%%') # autopct 전체 백분율, ' %.2f '는 소숫점 2자리\n",
    "\n",
    "plt.show()"
   ]
  },
  {
   "cell_type": "markdown",
   "id": "9fb89646",
   "metadata": {
    "id": "9fb89646"
   },
   "source": [
    "## scatter plot (산점도)\n",
    "* 산점도로서 X(연속형), Y(연속형) 값을 시각화"
   ]
  },
  {
   "cell_type": "code",
   "execution_count": null,
   "id": "6ef0378f",
   "metadata": {
    "colab": {
     "base_uri": "https://localhost:8080/",
     "height": 297
    },
    "executionInfo": {
     "elapsed": 58,
     "status": "ok",
     "timestamp": 1670736062907,
     "user": {
      "displayName": "jinyang park",
      "userId": "06576046992691541404"
     },
     "user_tz": -540
    },
    "id": "6ef0378f",
    "outputId": "d80c989e-0137-47cc-b053-c8d339dad3e9"
   },
   "outputs": [],
   "source": [
    "# scatterplot, <AxesSubplot:xlabel='age', ylabel='height'>\n"
   ]
  },
  {
   "cell_type": "code",
   "execution_count": null,
   "id": "9D8xichuw67g",
   "metadata": {
    "colab": {
     "base_uri": "https://localhost:8080/",
     "height": 297
    },
    "executionInfo": {
     "elapsed": 907,
     "status": "ok",
     "timestamp": 1670736063758,
     "user": {
      "displayName": "jinyang park",
      "userId": "06576046992691541404"
     },
     "user_tz": -540
    },
    "id": "9D8xichuw67g",
    "outputId": "9c6b0595-12af-4436-bc9f-a58575743fba"
   },
   "outputs": [],
   "source": [
    "# scatterplot, <AxesSubplot:xlabel='age', ylabel='salary'>\n"
   ]
  },
  {
   "cell_type": "code",
   "execution_count": null,
   "id": "5f41565f",
   "metadata": {
    "colab": {
     "base_uri": "https://localhost:8080/",
     "height": 297
    },
    "executionInfo": {
     "elapsed": 37,
     "status": "ok",
     "timestamp": 1670736063762,
     "user": {
      "displayName": "jinyang park",
      "userId": "06576046992691541404"
     },
     "user_tz": -540
    },
    "id": "5f41565f",
    "outputId": "9a08bbb3-202a-402f-ee05-bd18c9def498"
   },
   "outputs": [],
   "source": [
    "# hue 인자를 사용하여 x값 세분화\n"
   ]
  },
  {
   "cell_type": "markdown",
   "id": "9ed1430b",
   "metadata": {
    "id": "9ed1430b"
   },
   "source": [
    "## 상관 Heatmap\n",
    "* 컬럼간의 상관도를 Heatmap형태로 표현"
   ]
  },
  {
   "cell_type": "code",
   "execution_count": null,
   "id": "44b94e60",
   "metadata": {
    "colab": {
     "base_uri": "https://localhost:8080/",
     "height": 175
    },
    "executionInfo": {
     "elapsed": 34,
     "status": "ok",
     "timestamp": 1670736063763,
     "user": {
      "displayName": "jinyang park",
      "userId": "06576046992691541404"
     },
     "user_tz": -540
    },
    "id": "44b94e60",
    "outputId": "ac45288f-7ffc-415f-897e-84b5b02ba60d"
   },
   "outputs": [],
   "source": [
    "# corr()\n"
   ]
  },
  {
   "cell_type": "code",
   "execution_count": null,
   "id": "dfe8902e",
   "metadata": {
    "colab": {
     "base_uri": "https://localhost:8080/",
     "height": 505
    },
    "executionInfo": {
     "elapsed": 34,
     "status": "ok",
     "timestamp": 1670736063764,
     "user": {
      "displayName": "jinyang park",
      "userId": "06576046992691541404"
     },
     "user_tz": -540
    },
    "id": "dfe8902e",
    "outputId": "4318a316-b98b-4c6d-e364-498ebd320d37"
   },
   "outputs": [],
   "source": [
    "# 상관 Heatmap\n",
    "\n",
    "plt.figure(figsize=(8, 8))\n",
    "\n",
    "# DataFrame의 corr()은 숫자형 값만 상관도를 구함. \n"
   ]
  },
  {
   "cell_type": "code",
   "execution_count": null,
   "id": "LZoib7Rn5KzA",
   "metadata": {
    "colab": {
     "base_uri": "https://localhost:8080/",
     "height": 505
    },
    "executionInfo": {
     "elapsed": 439,
     "status": "ok",
     "timestamp": 1670736064171,
     "user": {
      "displayName": "jinyang park",
      "userId": "06576046992691541404"
     },
     "user_tz": -540
    },
    "id": "LZoib7Rn5KzA",
    "outputId": "20668074-0d5e-4850-955f-c4483993a57d"
   },
   "outputs": [],
   "source": [
    "# annotation(주석) 인자로 상관계수 표시\n"
   ]
  },
  {
   "cell_type": "markdown",
   "id": "zuIplK3R9ebO",
   "metadata": {
    "id": "zuIplK3R9ebO"
   },
   "source": [
    "## Quiz\n",
    "\n",
    "1) bike temp에 대한 histogram을 그리시오\n",
    "\n",
    "2) iris species별 sepal_length 평균의 bar chart를 그리시오\n",
    "\n",
    "3) diamond cut별 price에 대한 boxplot을 그리시오\n",
    "\n",
    "4) diamond cut별 price에 대한 scatter plot을 그리시오 (hue = 'color' or 'cut' 적용)"
   ]
  },
  {
   "cell_type": "code",
   "execution_count": null,
   "id": "I_PvmvKW9pQU",
   "metadata": {
    "id": "I_PvmvKW9pQU"
   },
   "outputs": [],
   "source": []
  }
 ],
 "metadata": {
  "colab": {
   "provenance": [
    {
     "file_id": "1LbXss42fKDGV8B9THlHFSRNd6zVrhlCM",
     "timestamp": 1670683712264
    }
   ],
   "toc_visible": true
  },
  "kernelspec": {
   "display_name": "Python 3 (ipykernel)",
   "language": "python",
   "name": "python3"
  },
  "language_info": {
   "codemirror_mode": {
    "name": "ipython",
    "version": 3
   },
   "file_extension": ".py",
   "mimetype": "text/x-python",
   "name": "python",
   "nbconvert_exporter": "python",
   "pygments_lexer": "ipython3",
   "version": "3.9.12"
  }
 },
 "nbformat": 4,
 "nbformat_minor": 5
}
