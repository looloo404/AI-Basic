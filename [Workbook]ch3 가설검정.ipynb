{
 "cells": [
  {
   "cell_type": "markdown",
   "id": "452979f2",
   "metadata": {
    "id": "157b171f"
   },
   "source": [
    "# [KDT] ch3 가설 검정"
   ]
  },
  {
   "cell_type": "code",
   "execution_count": 2,
   "id": "e1e6bb56",
   "metadata": {
    "colab": {
     "base_uri": "https://localhost:8080/",
     "height": 206
    },
    "executionInfo": {
     "elapsed": 2854,
     "status": "ok",
     "timestamp": 1671083794235,
     "user": {
      "displayName": "jinyang park",
      "userId": "06576046992691541404"
     },
     "user_tz": -540
    },
    "id": "e1e6bb56",
    "outputId": "8d285338-3a1a-45ab-91eb-5b7787fad5cb",
    "scrolled": false
   },
   "outputs": [],
   "source": [
    "import pandas as pd\n",
    "import numpy as np\n",
    "\n",
    "import matplotlib.pyplot as plt\n",
    "import seaborn as sns\n",
    "import warnings\n",
    "warnings.filterwarnings('ignore')"
   ]
  },
  {
   "cell_type": "code",
   "execution_count": 3,
   "id": "f6a2fd92",
   "metadata": {
    "colab": {
     "base_uri": "https://localhost:8080/",
     "height": 206
    },
    "executionInfo": {
     "elapsed": 2854,
     "status": "ok",
     "timestamp": 1671083794235,
     "user": {
      "displayName": "jinyang park",
      "userId": "06576046992691541404"
     },
     "user_tz": -540
    },
    "id": "e1e6bb56",
    "outputId": "8d285338-3a1a-45ab-91eb-5b7787fad5cb",
    "scrolled": false
   },
   "outputs": [
    {
     "data": {
      "text/html": [
       "<div>\n",
       "<style scoped>\n",
       "    .dataframe tbody tr th:only-of-type {\n",
       "        vertical-align: middle;\n",
       "    }\n",
       "\n",
       "    .dataframe tbody tr th {\n",
       "        vertical-align: top;\n",
       "    }\n",
       "\n",
       "    .dataframe thead th {\n",
       "        text-align: right;\n",
       "    }\n",
       "</style>\n",
       "<table border=\"1\" class=\"dataframe\">\n",
       "  <thead>\n",
       "    <tr style=\"text-align: right;\">\n",
       "      <th></th>\n",
       "      <th>name</th>\n",
       "      <th>social_security_number</th>\n",
       "      <th>gender</th>\n",
       "      <th>height</th>\n",
       "      <th>age</th>\n",
       "      <th>blood_type</th>\n",
       "      <th>company</th>\n",
       "      <th>grades</th>\n",
       "      <th>salary</th>\n",
       "      <th>expenditure</th>\n",
       "      <th>car_type</th>\n",
       "    </tr>\n",
       "  </thead>\n",
       "  <tbody>\n",
       "    <tr>\n",
       "      <th>0</th>\n",
       "      <td>hkd1</td>\n",
       "      <td>990623-2</td>\n",
       "      <td>F</td>\n",
       "      <td>161.9</td>\n",
       "      <td>22</td>\n",
       "      <td>A</td>\n",
       "      <td>A</td>\n",
       "      <td>A</td>\n",
       "      <td>4100</td>\n",
       "      <td>1975</td>\n",
       "      <td>L</td>\n",
       "    </tr>\n",
       "    <tr>\n",
       "      <th>1</th>\n",
       "      <td>hkd10</td>\n",
       "      <td>900303-2</td>\n",
       "      <td>F</td>\n",
       "      <td>169.4</td>\n",
       "      <td>31</td>\n",
       "      <td>A</td>\n",
       "      <td>A</td>\n",
       "      <td>B</td>\n",
       "      <td>4720</td>\n",
       "      <td>2970</td>\n",
       "      <td>m</td>\n",
       "    </tr>\n",
       "    <tr>\n",
       "      <th>2</th>\n",
       "      <td>hkd100</td>\n",
       "      <td>681205-2</td>\n",
       "      <td>F</td>\n",
       "      <td>168.3</td>\n",
       "      <td>55</td>\n",
       "      <td>A</td>\n",
       "      <td>A</td>\n",
       "      <td>B</td>\n",
       "      <td>7280</td>\n",
       "      <td>5905</td>\n",
       "      <td>m</td>\n",
       "    </tr>\n",
       "    <tr>\n",
       "      <th>3</th>\n",
       "      <td>hkd101</td>\n",
       "      <td>931226-2</td>\n",
       "      <td>F</td>\n",
       "      <td>155.3</td>\n",
       "      <td>28</td>\n",
       "      <td>AB</td>\n",
       "      <td>B</td>\n",
       "      <td>B</td>\n",
       "      <td>4060</td>\n",
       "      <td>2935</td>\n",
       "      <td>m</td>\n",
       "    </tr>\n",
       "    <tr>\n",
       "      <th>4</th>\n",
       "      <td>hkd102</td>\n",
       "      <td>920123-1</td>\n",
       "      <td>M</td>\n",
       "      <td>188.6</td>\n",
       "      <td>29</td>\n",
       "      <td>O</td>\n",
       "      <td>B</td>\n",
       "      <td>F</td>\n",
       "      <td>4390</td>\n",
       "      <td>4015</td>\n",
       "      <td>SS</td>\n",
       "    </tr>\n",
       "  </tbody>\n",
       "</table>\n",
       "</div>"
      ],
      "text/plain": [
       "     name social_security_number gender  height  age blood_type company  \\\n",
       "0    hkd1               990623-2      F   161.9   22          A       A   \n",
       "1   hkd10               900303-2      F   169.4   31          A       A   \n",
       "2  hkd100               681205-2      F   168.3   55          A       A   \n",
       "3  hkd101               931226-2      F   155.3   28         AB       B   \n",
       "4  hkd102               920123-1      M   188.6   29          O       B   \n",
       "\n",
       "  grades  salary  expenditure car_type  \n",
       "0      A    4100         1975        L  \n",
       "1      B    4720         2970        m  \n",
       "2      B    7280         5905        m  \n",
       "3      B    4060         2935        m  \n",
       "4      F    4390         4015       SS  "
      ]
     },
     "execution_count": 3,
     "metadata": {},
     "output_type": "execute_result"
    }
   ],
   "source": [
    "# 파일 로딩 \n",
    "\n",
    "df_hk = pd.read_csv('./data/hk_221015.csv')\n",
    "df_hk.head(5)\n",
    "\n"
   ]
  },
  {
   "cell_type": "code",
   "execution_count": 4,
   "id": "yvXLZvub_PBT",
   "metadata": {
    "colab": {
     "base_uri": "https://localhost:8080/"
    },
    "executionInfo": {
     "elapsed": 8,
     "status": "ok",
     "timestamp": 1670758863969,
     "user": {
      "displayName": "jinyang park",
      "userId": "06576046992691541404"
     },
     "user_tz": -540
    },
    "id": "yvXLZvub_PBT",
    "outputId": "6c8272bd-ec9a-4ce3-d2b3-11a82da8f9e2",
    "scrolled": true
   },
   "outputs": [
    {
     "data": {
      "text/html": [
       "<div>\n",
       "<style scoped>\n",
       "    .dataframe tbody tr th:only-of-type {\n",
       "        vertical-align: middle;\n",
       "    }\n",
       "\n",
       "    .dataframe tbody tr th {\n",
       "        vertical-align: top;\n",
       "    }\n",
       "\n",
       "    .dataframe thead th {\n",
       "        text-align: right;\n",
       "    }\n",
       "</style>\n",
       "<table border=\"1\" class=\"dataframe\">\n",
       "  <thead>\n",
       "    <tr style=\"text-align: right;\">\n",
       "      <th></th>\n",
       "      <th>height</th>\n",
       "      <th>age</th>\n",
       "      <th>salary</th>\n",
       "      <th>expenditure</th>\n",
       "    </tr>\n",
       "  </thead>\n",
       "  <tbody>\n",
       "    <tr>\n",
       "      <th>count</th>\n",
       "      <td>250.000000</td>\n",
       "      <td>250.000000</td>\n",
       "      <td>250.000000</td>\n",
       "      <td>250.000000</td>\n",
       "    </tr>\n",
       "    <tr>\n",
       "      <th>mean</th>\n",
       "      <td>169.569200</td>\n",
       "      <td>39.240000</td>\n",
       "      <td>6357.480000</td>\n",
       "      <td>4971.480000</td>\n",
       "    </tr>\n",
       "    <tr>\n",
       "      <th>std</th>\n",
       "      <td>12.283857</td>\n",
       "      <td>8.653899</td>\n",
       "      <td>1849.791383</td>\n",
       "      <td>1861.112508</td>\n",
       "    </tr>\n",
       "    <tr>\n",
       "      <th>min</th>\n",
       "      <td>148.100000</td>\n",
       "      <td>20.000000</td>\n",
       "      <td>3080.000000</td>\n",
       "      <td>1330.000000</td>\n",
       "    </tr>\n",
       "    <tr>\n",
       "      <th>25%</th>\n",
       "      <td>159.300000</td>\n",
       "      <td>33.000000</td>\n",
       "      <td>5002.500000</td>\n",
       "      <td>3593.750000</td>\n",
       "    </tr>\n",
       "    <tr>\n",
       "      <th>50%</th>\n",
       "      <td>168.750000</td>\n",
       "      <td>39.000000</td>\n",
       "      <td>6100.000000</td>\n",
       "      <td>4762.500000</td>\n",
       "    </tr>\n",
       "    <tr>\n",
       "      <th>75%</th>\n",
       "      <td>180.375000</td>\n",
       "      <td>46.000000</td>\n",
       "      <td>7427.500000</td>\n",
       "      <td>6272.500000</td>\n",
       "    </tr>\n",
       "    <tr>\n",
       "      <th>max</th>\n",
       "      <td>191.800000</td>\n",
       "      <td>55.000000</td>\n",
       "      <td>11990.000000</td>\n",
       "      <td>10865.000000</td>\n",
       "    </tr>\n",
       "  </tbody>\n",
       "</table>\n",
       "</div>"
      ],
      "text/plain": [
       "           height         age        salary   expenditure\n",
       "count  250.000000  250.000000    250.000000    250.000000\n",
       "mean   169.569200   39.240000   6357.480000   4971.480000\n",
       "std     12.283857    8.653899   1849.791383   1861.112508\n",
       "min    148.100000   20.000000   3080.000000   1330.000000\n",
       "25%    159.300000   33.000000   5002.500000   3593.750000\n",
       "50%    168.750000   39.000000   6100.000000   4762.500000\n",
       "75%    180.375000   46.000000   7427.500000   6272.500000\n",
       "max    191.800000   55.000000  11990.000000  10865.000000"
      ]
     },
     "execution_count": 4,
     "metadata": {},
     "output_type": "execute_result"
    }
   ],
   "source": [
    "# Data type을 살펴보고 EDA를 수행 \n",
    "df_hk.describe()\n"
   ]
  },
  {
   "cell_type": "markdown",
   "id": "2908c943",
   "metadata": {
    "id": "2908c943"
   },
   "source": [
    "## 1 sample t-test\n",
    "\n",
    "$ H_0 : \\mu = \\mu_0$\n",
    "\n",
    "$ H_1 : \\mu \\neq \\mu_0$"
   ]
  },
  {
   "cell_type": "code",
   "execution_count": 5,
   "id": "ljuFZhXpbmby",
   "metadata": {
    "colab": {
     "base_uri": "https://localhost:8080/"
    },
    "executionInfo": {
     "elapsed": 4,
     "status": "ok",
     "timestamp": 1671085494957,
     "user": {
      "displayName": "jinyang park",
      "userId": "06576046992691541404"
     },
     "user_tz": -540
    },
    "id": "ljuFZhXpbmby",
    "outputId": "83bc7c58-e86a-4ceb-da90-2c8bdb39baaf",
    "scrolled": true
   },
   "outputs": [
    {
     "data": {
      "text/plain": [
       "0      22\n",
       "1      31\n",
       "2      55\n",
       "3      28\n",
       "4      29\n",
       "       ..\n",
       "245    50\n",
       "246    51\n",
       "247    52\n",
       "248    53\n",
       "249    54\n",
       "Name: age, Length: 250, dtype: int64"
      ]
     },
     "execution_count": 5,
     "metadata": {},
     "output_type": "execute_result"
    }
   ],
   "source": [
    "# 1 sample t-test\n",
    "df_hk['age']"
   ]
  },
  {
   "cell_type": "code",
   "execution_count": 6,
   "id": "QfXxTzTEbquj",
   "metadata": {
    "colab": {
     "base_uri": "https://localhost:8080/"
    },
    "executionInfo": {
     "elapsed": 3,
     "status": "ok",
     "timestamp": 1671085082243,
     "user": {
      "displayName": "jinyang park",
      "userId": "06576046992691541404"
     },
     "user_tz": -540
    },
    "id": "QfXxTzTEbquj",
    "outputId": "0b1990ce-9408-46e6-aef4-7fe5393ea5c9"
   },
   "outputs": [
    {
     "data": {
      "text/plain": [
       "39.24"
      ]
     },
     "execution_count": 6,
     "metadata": {},
     "output_type": "execute_result"
    }
   ],
   "source": [
    "# t-test를 할 data의 mean\n",
    "df_hk['age'].mean()"
   ]
  },
  {
   "cell_type": "code",
   "execution_count": 7,
   "id": "QorxgXtpfBc3",
   "metadata": {
    "colab": {
     "base_uri": "https://localhost:8080/"
    },
    "executionInfo": {
     "elapsed": 3,
     "status": "ok",
     "timestamp": 1671085968148,
     "user": {
      "displayName": "jinyang park",
      "userId": "06576046992691541404"
     },
     "user_tz": -540
    },
    "id": "QorxgXtpfBc3",
    "outputId": "f036b761-9fec-4f05-f1e2-23393be88013"
   },
   "outputs": [],
   "source": [
    "# describe\n"
   ]
  },
  {
   "cell_type": "code",
   "execution_count": 8,
   "id": "mGD-P4u6c1I_",
   "metadata": {
    "colab": {
     "base_uri": "https://localhost:8080/",
     "height": 283
    },
    "executionInfo": {
     "elapsed": 637,
     "status": "ok",
     "timestamp": 1671085535288,
     "user": {
      "displayName": "jinyang park",
      "userId": "06576046992691541404"
     },
     "user_tz": -540
    },
    "id": "mGD-P4u6c1I_",
    "outputId": "a11a48a7-ec1f-4814-d055-96509a0c003a"
   },
   "outputs": [
    {
     "data": {
      "text/plain": [
       "<AxesSubplot:ylabel='Frequency'>"
      ]
     },
     "execution_count": 8,
     "metadata": {},
     "output_type": "execute_result"
    },
    {
     "data": {
      "image/png": "[encoded data removed]",
      "text/plain": [
       "<Figure size 640x480 with 1 Axes>"
      ]
     },
     "metadata": {},
     "output_type": "display_data"
    }
   ],
   "source": [
    "# age의 histogram\n",
    "df_hk['age'].plot.hist(bins = 20)\n"
   ]
  },
  {
   "cell_type": "code",
   "execution_count": 9,
   "id": "7a68dc76",
   "metadata": {
    "colab": {
     "base_uri": "https://localhost:8080/"
    },
    "executionInfo": {
     "elapsed": 528,
     "status": "ok",
     "timestamp": 1671085425030,
     "user": {
      "displayName": "jinyang park",
      "userId": "06576046992691541404"
     },
     "user_tz": -540
    },
    "id": "7a68dc76",
    "outputId": "9b153cbb-43a2-415b-b740-308a44adf9a2"
   },
   "outputs": [
    {
     "data": {
      "text/plain": [
       "Ttest_1sampResult(statistic=2.265582548220913, pvalue=0.024336341875188777)"
      ]
     },
     "execution_count": 9,
     "metadata": {},
     "output_type": "execute_result"
    }
   ],
   "source": [
    "# t-test를 할 data의 mean 근처의 값으로 t-test후 t통계량과 p_value 관찰\n",
    "from scipy.stats import ttest_1samp\n",
    "ttest_1samp(df_hk['age'],popmean = 38)\n",
    "#popmean 모집단의 평균"
   ]
  },
  {
   "cell_type": "code",
   "execution_count": 10,
   "id": "20g2Zex5djCH",
   "metadata": {
    "colab": {
     "base_uri": "https://localhost:8080/"
    },
    "executionInfo": {
     "elapsed": 4,
     "status": "ok",
     "timestamp": 1671085579617,
     "user": {
      "displayName": "jinyang park",
      "userId": "06576046992691541404"
     },
     "user_tz": -540
    },
    "id": "20g2Zex5djCH",
    "outputId": "7b0a0e22-bc78-4fe5-b128-e1bd9656c6ad"
   },
   "outputs": [
    {
     "data": {
      "text/plain": [
       "True"
      ]
     },
     "execution_count": 10,
     "metadata": {},
     "output_type": "execute_result"
    }
   ],
   "source": [
    "# t-test를 할 data의 mean 근처의 값으로 t-test후 t통계량과 p_value 관찰\n",
    "ttest_1samp(df_hk['age'],popmean = 30)[1] <0.05 #귀무가설 채택 95% 신뢰수준에서\n",
    "#귀무가설은 popeman과 같다"
   ]
  },
  {
   "cell_type": "code",
   "execution_count": 11,
   "id": "ca30a621",
   "metadata": {},
   "outputs": [
    {
     "data": {
      "text/plain": [
       "False"
      ]
     },
     "execution_count": 11,
     "metadata": {},
     "output_type": "execute_result"
    }
   ],
   "source": [
    "# t-test를 할 data의 mean 근처의 값으로 t-test후 t통계량과 p_value 관찰\n",
    "ttest_1samp(df_hk['age'],popmean = 39)[1] <0.05 #귀무가설 채택 95% 신뢰수준에서\n",
    "#귀무가설은 popeman과 같다"
   ]
  },
  {
   "cell_type": "code",
   "execution_count": 33,
   "id": "5NCUC_EmdpTO",
   "metadata": {
    "colab": {
     "base_uri": "https://localhost:8080/"
    },
    "executionInfo": {
     "elapsed": 407,
     "status": "ok",
     "timestamp": 1671085605001,
     "user": {
      "displayName": "jinyang park",
      "userId": "06576046992691541404"
     },
     "user_tz": -540
    },
    "id": "5NCUC_EmdpTO",
    "outputId": "a169dad7-09fe-44ab-e709-c1eb8f64ad2a"
   },
   "outputs": [
    {
     "name": "stdout",
     "output_type": "stream",
     "text": [
      "Ttest_1sampResult(statistic=0.0, pvalue=1.0)\n"
     ]
    },
    {
     "data": {
      "text/plain": [
       "False"
      ]
     },
     "execution_count": 33,
     "metadata": {},
     "output_type": "execute_result"
    }
   ],
   "source": [
    "# t-test를 할 data의 mean 근처의 값으로 t-test후 t통계량과 p_value 관찰\n",
    "print(ttest_1samp(df_hk['age'],popmean = 39.24))\n",
    "ttest_1samp(df_hk['age'],popmean = 39.24)[1] <0.05 #귀무가설 채택 95% 신뢰수준에서\n",
    "#귀무가설은 popeman과 같다"
   ]
  },
  {
   "cell_type": "markdown",
   "id": "7873d50c",
   "metadata": {},
   "source": [
    "### 2 sample t-test\n",
    "\n",
    "\n",
    "$ H_0 : \\mu_0 = \\mu_1$\n",
    "\n",
    "$ H_1 : \\mu_0 \\neq \\mu_1$"
   ]
  },
  {
   "cell_type": "code",
   "execution_count": 12,
   "id": "aea9cf9b",
   "metadata": {
    "colab": {
     "base_uri": "https://localhost:8080/"
    },
    "executionInfo": {
     "elapsed": 329,
     "status": "ok",
     "timestamp": 1671086612546,
     "user": {
      "displayName": "jinyang park",
      "userId": "06576046992691541404"
     },
     "user_tz": -540
    },
    "id": "aea9cf9b",
    "outputId": "1233b53d-a0ae-4431-ba46-ebe0adbeb477"
   },
   "outputs": [
    {
     "name": "stdout",
     "output_type": "stream",
     "text": [
      "6522.5 5364.4 8013.6\n"
     ]
    }
   ],
   "source": [
    "# A,B,C회사 연봉 평균\n",
    "salary_a = df_hk[df_hk['company'] == 'A'].salary.mean()\n",
    "salary_b = df_hk[df_hk['company'] == 'B'].salary.mean()\n",
    "salary_c = df_hk[df_hk['company'] == 'C'].salary.mean()\n",
    "\n",
    "print(salary_a,salary_b,salary_c)"
   ]
  },
  {
   "cell_type": "code",
   "execution_count": 14,
   "id": "417a29c1",
   "metadata": {
    "colab": {
     "base_uri": "https://localhost:8080/"
    },
    "executionInfo": {
     "elapsed": 329,
     "status": "ok",
     "timestamp": 1671086612546,
     "user": {
      "displayName": "jinyang park",
      "userId": "06576046992691541404"
     },
     "user_tz": -540
    },
    "id": "aea9cf9b",
    "outputId": "1233b53d-a0ae-4431-ba46-ebe0adbeb477"
   },
   "outputs": [
    {
     "data": {
      "text/plain": [
       "Ttest_indResult(statistic=5.941362455469809, pvalue=1.2532322871358408e-08)"
      ]
     },
     "execution_count": 14,
     "metadata": {},
     "output_type": "execute_result"
    }
   ],
   "source": [
    "# 2 sample t-test (A=B)\n",
    "from scipy.stats import ttest_ind\n",
    "\n",
    "salary_a = df_hk[df_hk['company'] == 'A'].salary\n",
    "salary_b = df_hk[df_hk['company'] == 'B'].salary\n",
    "\n",
    "ttest_ind(salary_a,salary_b)\n",
    "#귀무가설 -> 같다 대립가설 -> 같지않다\n"
   ]
  },
  {
   "cell_type": "code",
   "execution_count": 41,
   "id": "31134640",
   "metadata": {
    "colab": {
     "base_uri": "https://localhost:8080/"
    },
    "executionInfo": {
     "elapsed": 329,
     "status": "ok",
     "timestamp": 1671086612546,
     "user": {
      "displayName": "jinyang park",
      "userId": "06576046992691541404"
     },
     "user_tz": -540
    },
    "id": "aea9cf9b",
    "outputId": "1233b53d-a0ae-4431-ba46-ebe0adbeb477"
   },
   "outputs": [
    {
     "data": {
      "text/plain": [
       "Ttest_indResult(statistic=5.941362455469809, pvalue=0.9999999937338386)"
      ]
     },
     "execution_count": 41,
     "metadata": {},
     "output_type": "execute_result"
    }
   ],
   "source": [
    "# 2 sample t-test (A>=B) less\n",
    "#귀무가설은 같다\n",
    "ttest_ind(salary_a,salary_b,alternative='less')"
   ]
  },
  {
   "cell_type": "code",
   "execution_count": 42,
   "id": "efbcc98b",
   "metadata": {
    "colab": {
     "base_uri": "https://localhost:8080/"
    },
    "executionInfo": {
     "elapsed": 329,
     "status": "ok",
     "timestamp": 1671086612546,
     "user": {
      "displayName": "jinyang park",
      "userId": "06576046992691541404"
     },
     "user_tz": -540
    },
    "id": "aea9cf9b",
    "outputId": "1233b53d-a0ae-4431-ba46-ebe0adbeb477"
   },
   "outputs": [
    {
     "data": {
      "text/plain": [
       "Ttest_indResult(statistic=5.941362455469809, pvalue=6.266161435679204e-09)"
      ]
     },
     "execution_count": 42,
     "metadata": {},
     "output_type": "execute_result"
    }
   ],
   "source": [
    "# 2 sample t-test (A<=B) greater\n",
    "ttest_ind(salary_a,salary_b,alternative='greater')"
   ]
  },
  {
   "cell_type": "markdown",
   "id": "e88c2765",
   "metadata": {},
   "source": [
    "-----------------------------------------------------------------------"
   ]
  },
  {
   "cell_type": "markdown",
   "id": "a05a6876",
   "metadata": {},
   "source": [
    "## Quiz 1\n",
    "\n",
    "1) iris 데이터를 사용하여('iris.csv') species column 'virginica'의 'sepal_width' 모평균이 3.14와 같은지 가설을 수립하고 \n",
    "   유의수준 0.05에서 검정하시오\n",
    "\n",
    "2) 'setosa'와 'versicolor'의 sepal_length 평균이 같은지 가설을 수립하고 유의수준 0.05에서 검정하시오"
   ]
  },
  {
   "cell_type": "code",
   "execution_count": 19,
   "id": "d95d2336",
   "metadata": {},
   "outputs": [
    {
     "data": {
      "text/plain": [
       "Ttest_1sampResult(statistic=-3.6397193577606113, pvalue=0.000656333824892921)"
      ]
     },
     "execution_count": 19,
     "metadata": {},
     "output_type": "execute_result"
    }
   ],
   "source": [
    "# 파일 로딩 \n",
    "df_ir = pd.read_csv('./data/iris.csv')\n",
    "df_ir[df_ir['species']=='virginica'].sepal_width\n",
    "ttest_1samp(df_ir[df_ir['species']=='virginica'].sepal_width, popmean = 3.14) #ho 기각"
   ]
  },
  {
   "cell_type": "code",
   "execution_count": 20,
   "id": "ba4955bf",
   "metadata": {},
   "outputs": [
    {
     "data": {
      "text/plain": [
       "Ttest_1sampResult(statistic=-3.6397193577606113, pvalue=0.000656333824892921)"
      ]
     },
     "execution_count": 20,
     "metadata": {},
     "output_type": "execute_result"
    }
   ],
   "source": [
    "# 가설검정\n",
    "# H0 : 'virginica'의 'sepal_width' 모평균이 3.14 와 같다고 볼 수 있다 (유의수준 0.05)\n",
    "# H1 : 'virginica'의 'sepal_width' 모평균이 3.14 와 같다고 볼 수 없다 (유의수준 0.05)\n",
    "\n",
    "ttest_1samp(df_ir[df_ir['species']=='virginica'].sepal_width, popmean = 3.14) #ho 기각\n"
   ]
  },
  {
   "cell_type": "code",
   "execution_count": 21,
   "id": "c98d4ef2",
   "metadata": {},
   "outputs": [],
   "source": [
    "from scipy.stats import ttest_1samp, ttest_ind\n"
   ]
  },
  {
   "cell_type": "code",
   "execution_count": 22,
   "id": "627d7a4c",
   "metadata": {},
   "outputs": [
    {
     "data": {
      "text/plain": [
       "0     5.1\n",
       "1     4.9\n",
       "2     4.7\n",
       "3     4.6\n",
       "4     5.0\n",
       "5     5.4\n",
       "6     4.6\n",
       "7     5.0\n",
       "8     4.4\n",
       "9     4.9\n",
       "10    5.4\n",
       "11    4.8\n",
       "12    4.8\n",
       "13    4.3\n",
       "14    5.8\n",
       "15    5.7\n",
       "16    5.4\n",
       "17    5.1\n",
       "18    5.7\n",
       "19    5.1\n",
       "20    5.4\n",
       "21    5.1\n",
       "22    4.6\n",
       "23    5.1\n",
       "24    4.8\n",
       "25    5.0\n",
       "26    5.0\n",
       "27    5.2\n",
       "28    5.2\n",
       "29    4.7\n",
       "30    4.8\n",
       "31    5.4\n",
       "32    5.2\n",
       "33    5.5\n",
       "34    4.9\n",
       "35    5.0\n",
       "36    5.5\n",
       "37    4.9\n",
       "38    4.4\n",
       "39    5.1\n",
       "40    5.0\n",
       "41    4.5\n",
       "42    4.4\n",
       "43    5.0\n",
       "44    5.1\n",
       "45    4.8\n",
       "46    5.1\n",
       "47    4.6\n",
       "48    5.3\n",
       "49    5.0\n",
       "Name: sepal_length, dtype: float64"
      ]
     },
     "execution_count": 22,
     "metadata": {},
     "output_type": "execute_result"
    }
   ],
   "source": [
    "# 가설검정\n",
    "# H0 : 'setosa'와 'versicolor' 의 sepal_length 평균이 같다고 볼 수 있다 (유의수준 0.05)\n",
    "# H1 : 'setosa'와 'versicolor' 의 sepal_length 평균이 같다고 볼 수 없다 (유의수준 0.05)\n",
    "df_ir[df_ir['species'] == 'setosa'].sepal_length"
   ]
  },
  {
   "cell_type": "code",
   "execution_count": 23,
   "id": "249f3045",
   "metadata": {},
   "outputs": [],
   "source": [
    "from scipy.stats import ttest_1samp, ttest_ind\n"
   ]
  },
  {
   "cell_type": "markdown",
   "id": "64d757dd",
   "metadata": {},
   "source": [
    "-----------------------------------------------------------------------"
   ]
  },
  {
   "cell_type": "markdown",
   "id": "396f3ed9",
   "metadata": {
    "id": "396f3ed9"
   },
   "source": [
    "## ANOVA\n",
    "\n",
    "$ H_0 : \\mu_1 = \\mu_2 = \\mu_3$\n",
    "\n",
    "$ H_1 : \\mu_1 \\neq \\mu_2  \\quad or  \\quad  \\mu_2 \\neq \\mu_3  \\quad   or  \\quad  \\mu_1 \\neq \\mu_3$"
   ]
  },
  {
   "cell_type": "code",
   "execution_count": 25,
   "id": "3ab4ed45",
   "metadata": {
    "colab": {
     "base_uri": "https://localhost:8080/"
    },
    "executionInfo": {
     "elapsed": 329,
     "status": "ok",
     "timestamp": 1671086612546,
     "user": {
      "displayName": "jinyang park",
      "userId": "06576046992691541404"
     },
     "user_tz": -540
    },
    "id": "aea9cf9b",
    "outputId": "1233b53d-a0ae-4431-ba46-ebe0adbeb477"
   },
   "outputs": [],
   "source": [
    "# A,B,C회사 연봉 평균이 같은지 검정\n",
    "\n",
    "#Anova\n",
    "from statsmodels.stats.multicomp import pairwise_tukeyhsd\n",
    "#사후 검정\n",
    "from scipy.stats import ttest_ind\n",
    "from scipy.stats import pearsonr\n",
    "from scipy.stats import chi2_contingency\n",
    "\n"
   ]
  },
  {
   "cell_type": "code",
   "execution_count": 33,
   "id": "6a35e56b",
   "metadata": {
    "colab": {
     "base_uri": "https://localhost:8080/"
    },
    "executionInfo": {
     "elapsed": 9,
     "status": "ok",
     "timestamp": 1671087313671,
     "user": {
      "displayName": "jinyang park",
      "userId": "06576046992691541404"
     },
     "user_tz": -540
    },
    "id": "6a35e56b",
    "outputId": "ca5ea3e9-66f4-405f-9b4e-5094b24f7b86"
   },
   "outputs": [
    {
     "name": "stdout",
     "output_type": "stream",
     "text": [
      "6522.5 5364.4 8013.6\n"
     ]
    },
    {
     "data": {
      "text/plain": [
       "F_onewayResult(statistic=48.004778211948, pvalue=2.44205573896896e-18)"
      ]
     },
     "execution_count": 33,
     "metadata": {},
     "output_type": "execute_result"
    }
   ],
   "source": [
    "# ANOVA scipy.stats 사용\n",
    "\n",
    "salary_a = df_hk[df_hk['company']=='A']['salary'].mean()\n",
    "salary_b = df_hk[df_hk['company']=='B']['salary'].mean()\n",
    "salary_c = df_hk[df_hk['company']=='C']['salary'].mean()\n",
    "\n",
    "print(salary_a,salary_b,salary_c)\n",
    "\n",
    "# ANOVA statsmodels 사용\n",
    "from scipy.stats import f_oneway\n",
    "\n",
    "a = df_hk[df_hk['company']=='A']['salary']\n",
    "b = df_hk[df_hk['company']=='B']['salary']\n",
    "c = df_hk[df_hk['company']=='C']['salary']\n",
    "\n",
    "\n",
    "f_oneway(a,b,c)\n",
    "#기각 같지않다\n"
   ]
  },
  {
   "cell_type": "code",
   "execution_count": 35,
   "id": "JW_GAZaNkou3",
   "metadata": {
    "colab": {
     "base_uri": "https://localhost:8080/",
     "height": 112
    },
    "executionInfo": {
     "elapsed": 5,
     "status": "ok",
     "timestamp": 1671087950020,
     "user": {
      "displayName": "jinyang park",
      "userId": "06576046992691541404"
     },
     "user_tz": -540
    },
    "id": "JW_GAZaNkou3",
    "outputId": "d704ddb7-455f-4adc-9241-2acc459786c6"
   },
   "outputs": [
    {
     "data": {
      "text/html": [
       "<div>\n",
       "<style scoped>\n",
       "    .dataframe tbody tr th:only-of-type {\n",
       "        vertical-align: middle;\n",
       "    }\n",
       "\n",
       "    .dataframe tbody tr th {\n",
       "        vertical-align: top;\n",
       "    }\n",
       "\n",
       "    .dataframe thead th {\n",
       "        text-align: right;\n",
       "    }\n",
       "</style>\n",
       "<table border=\"1\" class=\"dataframe\">\n",
       "  <thead>\n",
       "    <tr style=\"text-align: right;\">\n",
       "      <th></th>\n",
       "      <th>df</th>\n",
       "      <th>sum_sq</th>\n",
       "      <th>mean_sq</th>\n",
       "      <th>F</th>\n",
       "      <th>PR(&gt;F)</th>\n",
       "    </tr>\n",
       "  </thead>\n",
       "  <tbody>\n",
       "    <tr>\n",
       "      <th>company</th>\n",
       "      <td>2.0</td>\n",
       "      <td>2.384806e+08</td>\n",
       "      <td>1.192403e+08</td>\n",
       "      <td>48.004778</td>\n",
       "      <td>2.442056e-18</td>\n",
       "    </tr>\n",
       "    <tr>\n",
       "      <th>Residual</th>\n",
       "      <td>247.0</td>\n",
       "      <td>6.135297e+08</td>\n",
       "      <td>2.483926e+06</td>\n",
       "      <td>NaN</td>\n",
       "      <td>NaN</td>\n",
       "    </tr>\n",
       "  </tbody>\n",
       "</table>\n",
       "</div>"
      ],
      "text/plain": [
       "             df        sum_sq       mean_sq          F        PR(>F)\n",
       "company     2.0  2.384806e+08  1.192403e+08  48.004778  2.442056e-18\n",
       "Residual  247.0  6.135297e+08  2.483926e+06        NaN           NaN"
      ]
     },
     "execution_count": 35,
     "metadata": {},
     "output_type": "execute_result"
    }
   ],
   "source": [
    "from statsmodels.formula.api import ols\n",
    "from statsmodels.stats.anova import anova_lm\n",
    "\n",
    "model = ols(formula = 'salary ~ company', data = df_hk).fit()\n",
    "#formula 의미 :\n",
    "#회귀함수가 만들어졌다.\n",
    "anova_lm(model)"
   ]
  },
  {
   "cell_type": "code",
   "execution_count": 37,
   "id": "iQHJgTk1nQ7P",
   "metadata": {
    "colab": {
     "base_uri": "https://localhost:8080/",
     "height": 265
    },
    "executionInfo": {
     "elapsed": 434,
     "status": "ok",
     "timestamp": 1671088149023,
     "user": {
      "displayName": "jinyang park",
      "userId": "06576046992691541404"
     },
     "user_tz": -540
    },
    "id": "iQHJgTk1nQ7P",
    "outputId": "48332a23-f390-443c-ae0f-91422606be1a"
   },
   "outputs": [
    {
     "data": {
      "text/plain": [
       "<AxesSubplot:xlabel='company', ylabel='salary'>"
      ]
     },
     "execution_count": 37,
     "metadata": {},
     "output_type": "execute_result"
    },
    {
     "data": {
      "image/png": "[encoded data removed]",
      "text/plain": [
       "<Figure size 640x480 with 1 Axes>"
      ]
     },
     "metadata": {},
     "output_type": "display_data"
    }
   ],
   "source": [
    "# 시각화 box plot\n",
    "sns.boxplot(x= 'company', y= 'salary',data =  df_hk)"
   ]
  },
  {
   "cell_type": "code",
   "execution_count": 42,
   "id": "5HqJKr3pnRgN",
   "metadata": {
    "colab": {
     "base_uri": "https://localhost:8080/"
    },
    "executionInfo": {
     "elapsed": 404,
     "status": "ok",
     "timestamp": 1671088534684,
     "user": {
      "displayName": "jinyang park",
      "userId": "06576046992691541404"
     },
     "user_tz": -540
    },
    "id": "5HqJKr3pnRgN",
    "outputId": "eaecddfe-2709-4913-934b-eae1f6e28770"
   },
   "outputs": [
    {
     "name": "stdout",
     "output_type": "stream",
     "text": [
      "  Multiple Comparison of Means - Tukey HSD, FWER=0.05   \n",
      "========================================================\n",
      "group1 group2 meandiff p-adj   lower      upper   reject\n",
      "--------------------------------------------------------\n",
      "     A      B  -1158.1   0.0 -1683.6515 -632.5485   True\n",
      "     A      C   1491.1   0.0   847.4334 2134.7666   True\n",
      "     B      C   2649.2   0.0  2005.5334 3292.8666   True\n",
      "--------------------------------------------------------\n"
     ]
    }
   ],
   "source": [
    "# ANOVA 사후검정\n",
    "\n",
    "from statsmodels.stats.multicomp import pairwise_tukeyhsd\n",
    "posthoc = pairwise_tukeyhsd(df_hk['salary'],df_hk['company'],alpha=0.05)\n",
    "#endog => y에 관련된 것\n",
    "print(posthoc)"
   ]
  },
  {
   "cell_type": "code",
   "execution_count": 51,
   "id": "876b6733",
   "metadata": {},
   "outputs": [
    {
     "data": {
      "text/html": [
       "<div>\n",
       "<style scoped>\n",
       "    .dataframe tbody tr th:only-of-type {\n",
       "        vertical-align: middle;\n",
       "    }\n",
       "\n",
       "    .dataframe tbody tr th {\n",
       "        vertical-align: top;\n",
       "    }\n",
       "\n",
       "    .dataframe thead th {\n",
       "        text-align: right;\n",
       "    }\n",
       "</style>\n",
       "<table border=\"1\" class=\"dataframe\">\n",
       "  <thead>\n",
       "    <tr style=\"text-align: right;\">\n",
       "      <th></th>\n",
       "      <th>df</th>\n",
       "      <th>sum_sq</th>\n",
       "      <th>mean_sq</th>\n",
       "      <th>F</th>\n",
       "      <th>PR(&gt;F)</th>\n",
       "    </tr>\n",
       "  </thead>\n",
       "  <tbody>\n",
       "    <tr>\n",
       "      <th>grades</th>\n",
       "      <td>4.0</td>\n",
       "      <td>1.130554e+07</td>\n",
       "      <td>2.826385e+06</td>\n",
       "      <td>0.823671</td>\n",
       "      <td>0.511146</td>\n",
       "    </tr>\n",
       "    <tr>\n",
       "      <th>Residual</th>\n",
       "      <td>245.0</td>\n",
       "      <td>8.407048e+08</td>\n",
       "      <td>3.431448e+06</td>\n",
       "      <td>NaN</td>\n",
       "      <td>NaN</td>\n",
       "    </tr>\n",
       "  </tbody>\n",
       "</table>\n",
       "</div>"
      ],
      "text/plain": [
       "             df        sum_sq       mean_sq         F    PR(>F)\n",
       "grades      4.0  1.130554e+07  2.826385e+06  0.823671  0.511146\n",
       "Residual  245.0  8.407048e+08  3.431448e+06       NaN       NaN"
      ]
     },
     "execution_count": 51,
     "metadata": {},
     "output_type": "execute_result"
    }
   ],
   "source": [
    "# ANOVA statsmodels 사용\n",
    "model = ols(formula='salary~grades',data = df_hk).fit()\n",
    "#formula 구하고자하는값~그룹\n",
    "anova_lm(model)"
   ]
  },
  {
   "cell_type": "code",
   "execution_count": 48,
   "id": "560779dd",
   "metadata": {},
   "outputs": [
    {
     "name": "stdout",
     "output_type": "stream",
     "text": [
      "    Multiple Comparison of Means - Tukey HSD, FWER=0.05    \n",
      "===========================================================\n",
      "group1 group2  meandiff  p-adj    lower      upper   reject\n",
      "-----------------------------------------------------------\n",
      "     A      B   296.6117 0.8076  -446.0004 1039.2238  False\n",
      "     A      C   240.0277 0.9721  -826.7163 1306.7717  False\n",
      "     A      D   151.5902 0.9983 -1244.0566  1547.237  False\n",
      "     A      F  -834.2134  0.784 -2841.7982 1173.3715  False\n",
      "     B      C   -56.5841 0.9999 -1073.0998  959.9317  False\n",
      "     B      D  -145.0216 0.9984 -1502.6635 1212.6203  False\n",
      "     B      F -1130.8251 0.5191 -3112.1778  850.5276  False\n",
      "     C      D   -88.4375 0.9999 -1647.1747 1470.2997  False\n",
      "     C      F -1074.2411 0.6348 -3198.4418 1049.9596  False\n",
      "     D      F  -985.8036  0.766 -3292.7747 1321.1676  False\n",
      "-----------------------------------------------------------\n"
     ]
    }
   ],
   "source": [
    "# pairwise_tukeyhsd 확인\n",
    "posthoc = pairwise_tukeyhsd(df_hk['salary'],df_hk['grades'],alpha = 0.05)\n",
    "print(posthoc)"
   ]
  },
  {
   "cell_type": "code",
   "execution_count": 50,
   "id": "ee05748a",
   "metadata": {
    "scrolled": false
   },
   "outputs": [
    {
     "data": {
      "text/plain": [
       "F_onewayResult(statistic=0.8236712902602736, pvalue=0.5111463584243117)"
      ]
     },
     "execution_count": 50,
     "metadata": {},
     "output_type": "execute_result"
    }
   ],
   "source": [
    "# grade별 연봉 평균\n",
    "# ANOVA scipy.stats 사용\n",
    "a1 = df_hk[df_hk['grades']=='A'].salary\n",
    "b1 = df_hk[df_hk['grades']=='B'].salary\n",
    "c1 = df_hk[df_hk['grades']=='C'].salary\n",
    "d1 = df_hk[df_hk['grades']=='D'].salary\n",
    "f1 = df_hk[df_hk['grades']=='F'].salary\n",
    "\n",
    "f_oneway(a1,b1,c1,d1,f1)"
   ]
  },
  {
   "cell_type": "markdown",
   "id": "b2e68b3a",
   "metadata": {},
   "source": [
    "## Quiz 2\n",
    "\n",
    "1) 'setosa' , 'versicolor', 'virginica'의 sepal_length 평균이 같은지 가설을 수립하고 유의수준 0.05에서 검정하시오\n",
    "\n",
    "2) bike 데이터(bike.cvs)를 사용하여, 요일별 registered 평균이 같은지 가설을 수립하고 유의수준 0.05에서 검정하시오\n",
    "\n",
    "3) 평균이 같지 않을때, 평균이 유의수준 0.05에서 차이나지 않는 조합(False)은 몇 개인가 ? "
   ]
  },
  {
   "cell_type": "code",
   "execution_count": null,
   "id": "f33d097a",
   "metadata": {},
   "outputs": [],
   "source": [
    "# 파일 로딩 \n"
   ]
  },
  {
   "cell_type": "code",
   "execution_count": null,
   "id": "317b83a5",
   "metadata": {},
   "outputs": [],
   "source": [
    "# 가설검정\n",
    "# H0 :  'setosa' , 'versicolor', 'virginica'의 'sepal_length' 평균이 같다고 볼 수 있다 (유의수준 0.05)\n",
    "# H1 :  'setosa' , 'versicolor', 'virginica'의 'sepal_length' 평균이 셋 중 어느 하나는 다르다고 볼 수 있다 (유의수준 0.05)"
   ]
  },
  {
   "cell_type": "code",
   "execution_count": null,
   "id": "09722c67",
   "metadata": {},
   "outputs": [],
   "source": [
    "# ANOVA scipy.stats 사용\n"
   ]
  },
  {
   "cell_type": "code",
   "execution_count": null,
   "id": "9078dcd8",
   "metadata": {},
   "outputs": [],
   "source": [
    "# ANOVA statsmodels 사용\n"
   ]
  },
  {
   "cell_type": "code",
   "execution_count": null,
   "id": "a48b99ac",
   "metadata": {
    "scrolled": false
   },
   "outputs": [],
   "source": [
    "# ANOVA 사후검정\n"
   ]
  },
  {
   "cell_type": "markdown",
   "id": "baadac5b",
   "metadata": {},
   "source": [
    "## Quiz 3\n",
    "\n",
    "1) bike 데이터(bike.cvs)를 사용하여, 요일별 registered 평균이 같은지 가설을 수립하고 유의수준 0.05에서 검정하시오\n",
    "\n",
    "2) 평균이 같지 않을때, 평균이 유의수준 0.05에서 차이나지 않는 조합(False)은 몇 개인가 ? "
   ]
  },
  {
   "cell_type": "code",
   "execution_count": null,
   "id": "4a6abebf",
   "metadata": {},
   "outputs": [],
   "source": [
    "# 파일 로딩 \n"
   ]
  },
  {
   "cell_type": "code",
   "execution_count": null,
   "id": "7a4636e7",
   "metadata": {},
   "outputs": [],
   "source": [
    "# 요일변수 생성\n"
   ]
  },
  {
   "cell_type": "code",
   "execution_count": null,
   "id": "aba96acc",
   "metadata": {},
   "outputs": [],
   "source": [
    "# ANOVA statsmodels 사용\n",
    "\n",
    "from statsmodels.formula.api import ols\n",
    "from statsmodels.stats.anova import anova_lm\n"
   ]
  },
  {
   "cell_type": "code",
   "execution_count": null,
   "id": "190fbd2a",
   "metadata": {},
   "outputs": [],
   "source": [
    "# ANOVA 사후검정\n",
    "\n",
    "from statsmodels.stats.multicomp import pairwise_tukeyhsd\n"
   ]
  },
  {
   "cell_type": "markdown",
   "id": "3a5cedbc",
   "metadata": {
    "id": "3a5cedbc"
   },
   "source": [
    "## 상관분석"
   ]
  },
  {
   "cell_type": "code",
   "execution_count": 52,
   "id": "f39d8781",
   "metadata": {
    "scrolled": true
   },
   "outputs": [
    {
     "data": {
      "text/html": [
       "<div>\n",
       "<style scoped>\n",
       "    .dataframe tbody tr th:only-of-type {\n",
       "        vertical-align: middle;\n",
       "    }\n",
       "\n",
       "    .dataframe tbody tr th {\n",
       "        vertical-align: top;\n",
       "    }\n",
       "\n",
       "    .dataframe thead th {\n",
       "        text-align: right;\n",
       "    }\n",
       "</style>\n",
       "<table border=\"1\" class=\"dataframe\">\n",
       "  <thead>\n",
       "    <tr style=\"text-align: right;\">\n",
       "      <th></th>\n",
       "      <th>name</th>\n",
       "      <th>social_security_number</th>\n",
       "      <th>gender</th>\n",
       "      <th>height</th>\n",
       "      <th>age</th>\n",
       "      <th>blood_type</th>\n",
       "      <th>company</th>\n",
       "      <th>grades</th>\n",
       "      <th>salary</th>\n",
       "      <th>expenditure</th>\n",
       "      <th>car_type</th>\n",
       "    </tr>\n",
       "  </thead>\n",
       "  <tbody>\n",
       "    <tr>\n",
       "      <th>0</th>\n",
       "      <td>hkd1</td>\n",
       "      <td>990623-2</td>\n",
       "      <td>F</td>\n",
       "      <td>161.9</td>\n",
       "      <td>22</td>\n",
       "      <td>A</td>\n",
       "      <td>A</td>\n",
       "      <td>A</td>\n",
       "      <td>4100</td>\n",
       "      <td>1975</td>\n",
       "      <td>L</td>\n",
       "    </tr>\n",
       "    <tr>\n",
       "      <th>1</th>\n",
       "      <td>hkd10</td>\n",
       "      <td>900303-2</td>\n",
       "      <td>F</td>\n",
       "      <td>169.4</td>\n",
       "      <td>31</td>\n",
       "      <td>A</td>\n",
       "      <td>A</td>\n",
       "      <td>B</td>\n",
       "      <td>4720</td>\n",
       "      <td>2970</td>\n",
       "      <td>m</td>\n",
       "    </tr>\n",
       "    <tr>\n",
       "      <th>2</th>\n",
       "      <td>hkd100</td>\n",
       "      <td>681205-2</td>\n",
       "      <td>F</td>\n",
       "      <td>168.3</td>\n",
       "      <td>55</td>\n",
       "      <td>A</td>\n",
       "      <td>A</td>\n",
       "      <td>B</td>\n",
       "      <td>7280</td>\n",
       "      <td>5905</td>\n",
       "      <td>m</td>\n",
       "    </tr>\n",
       "    <tr>\n",
       "      <th>3</th>\n",
       "      <td>hkd101</td>\n",
       "      <td>931226-2</td>\n",
       "      <td>F</td>\n",
       "      <td>155.3</td>\n",
       "      <td>28</td>\n",
       "      <td>AB</td>\n",
       "      <td>B</td>\n",
       "      <td>B</td>\n",
       "      <td>4060</td>\n",
       "      <td>2935</td>\n",
       "      <td>m</td>\n",
       "    </tr>\n",
       "    <tr>\n",
       "      <th>4</th>\n",
       "      <td>hkd102</td>\n",
       "      <td>920123-1</td>\n",
       "      <td>M</td>\n",
       "      <td>188.6</td>\n",
       "      <td>29</td>\n",
       "      <td>O</td>\n",
       "      <td>B</td>\n",
       "      <td>F</td>\n",
       "      <td>4390</td>\n",
       "      <td>4015</td>\n",
       "      <td>SS</td>\n",
       "    </tr>\n",
       "  </tbody>\n",
       "</table>\n",
       "</div>"
      ],
      "text/plain": [
       "     name social_security_number gender  height  age blood_type company  \\\n",
       "0    hkd1               990623-2      F   161.9   22          A       A   \n",
       "1   hkd10               900303-2      F   169.4   31          A       A   \n",
       "2  hkd100               681205-2      F   168.3   55          A       A   \n",
       "3  hkd101               931226-2      F   155.3   28         AB       B   \n",
       "4  hkd102               920123-1      M   188.6   29          O       B   \n",
       "\n",
       "  grades  salary  expenditure car_type  \n",
       "0      A    4100         1975        L  \n",
       "1      B    4720         2970        m  \n",
       "2      B    7280         5905        m  \n",
       "3      B    4060         2935        m  \n",
       "4      F    4390         4015       SS  "
      ]
     },
     "execution_count": 52,
     "metadata": {},
     "output_type": "execute_result"
    }
   ],
   "source": [
    "# 파일 로딩\n",
    "df_hk[:5]"
   ]
  },
  {
   "cell_type": "code",
   "execution_count": 53,
   "id": "d7c00fe1",
   "metadata": {},
   "outputs": [
    {
     "data": {
      "text/html": [
       "<div>\n",
       "<style scoped>\n",
       "    .dataframe tbody tr th:only-of-type {\n",
       "        vertical-align: middle;\n",
       "    }\n",
       "\n",
       "    .dataframe tbody tr th {\n",
       "        vertical-align: top;\n",
       "    }\n",
       "\n",
       "    .dataframe thead th {\n",
       "        text-align: right;\n",
       "    }\n",
       "</style>\n",
       "<table border=\"1\" class=\"dataframe\">\n",
       "  <thead>\n",
       "    <tr style=\"text-align: right;\">\n",
       "      <th></th>\n",
       "      <th>height</th>\n",
       "      <th>age</th>\n",
       "      <th>salary</th>\n",
       "      <th>expenditure</th>\n",
       "    </tr>\n",
       "  </thead>\n",
       "  <tbody>\n",
       "    <tr>\n",
       "      <th>height</th>\n",
       "      <td>1.000000</td>\n",
       "      <td>0.040403</td>\n",
       "      <td>0.048673</td>\n",
       "      <td>0.048044</td>\n",
       "    </tr>\n",
       "    <tr>\n",
       "      <th>age</th>\n",
       "      <td>0.040403</td>\n",
       "      <td>1.000000</td>\n",
       "      <td>0.525035</td>\n",
       "      <td>0.552832</td>\n",
       "    </tr>\n",
       "    <tr>\n",
       "      <th>salary</th>\n",
       "      <td>0.048673</td>\n",
       "      <td>0.525035</td>\n",
       "      <td>1.000000</td>\n",
       "      <td>0.972185</td>\n",
       "    </tr>\n",
       "    <tr>\n",
       "      <th>expenditure</th>\n",
       "      <td>0.048044</td>\n",
       "      <td>0.552832</td>\n",
       "      <td>0.972185</td>\n",
       "      <td>1.000000</td>\n",
       "    </tr>\n",
       "  </tbody>\n",
       "</table>\n",
       "</div>"
      ],
      "text/plain": [
       "               height       age    salary  expenditure\n",
       "height       1.000000  0.040403  0.048673     0.048044\n",
       "age          0.040403  1.000000  0.525035     0.552832\n",
       "salary       0.048673  0.525035  1.000000     0.972185\n",
       "expenditure  0.048044  0.552832  0.972185     1.000000"
      ]
     },
     "execution_count": 53,
     "metadata": {},
     "output_type": "execute_result"
    }
   ],
   "source": [
    "# Correlation analysis\n",
    "df_hk.corr()\n",
    "#상관분석은 수치형 데이터 끼리만 가능하다"
   ]
  },
  {
   "cell_type": "code",
   "execution_count": 59,
   "id": "wno51XISqbYh",
   "metadata": {
    "id": "wno51XISqbYh"
   },
   "outputs": [
    {
     "data": {
      "text/html": [
       "<div>\n",
       "<style scoped>\n",
       "    .dataframe tbody tr th:only-of-type {\n",
       "        vertical-align: middle;\n",
       "    }\n",
       "\n",
       "    .dataframe tbody tr th {\n",
       "        vertical-align: top;\n",
       "    }\n",
       "\n",
       "    .dataframe thead th {\n",
       "        text-align: right;\n",
       "    }\n",
       "</style>\n",
       "<table border=\"1\" class=\"dataframe\">\n",
       "  <thead>\n",
       "    <tr style=\"text-align: right;\">\n",
       "      <th></th>\n",
       "      <th>height</th>\n",
       "      <th>age</th>\n",
       "      <th>salary</th>\n",
       "      <th>expenditure</th>\n",
       "    </tr>\n",
       "  </thead>\n",
       "  <tbody>\n",
       "    <tr>\n",
       "      <th>height</th>\n",
       "      <td>1.000000</td>\n",
       "      <td>0.039065</td>\n",
       "      <td>0.060429</td>\n",
       "      <td>0.064053</td>\n",
       "    </tr>\n",
       "    <tr>\n",
       "      <th>age</th>\n",
       "      <td>0.039065</td>\n",
       "      <td>1.000000</td>\n",
       "      <td>0.616263</td>\n",
       "      <td>0.622084</td>\n",
       "    </tr>\n",
       "    <tr>\n",
       "      <th>salary</th>\n",
       "      <td>0.060429</td>\n",
       "      <td>0.616263</td>\n",
       "      <td>1.000000</td>\n",
       "      <td>0.966877</td>\n",
       "    </tr>\n",
       "    <tr>\n",
       "      <th>expenditure</th>\n",
       "      <td>0.064053</td>\n",
       "      <td>0.622084</td>\n",
       "      <td>0.966877</td>\n",
       "      <td>1.000000</td>\n",
       "    </tr>\n",
       "  </tbody>\n",
       "</table>\n",
       "</div>"
      ],
      "text/plain": [
       "               height       age    salary  expenditure\n",
       "height       1.000000  0.039065  0.060429     0.064053\n",
       "age          0.039065  1.000000  0.616263     0.622084\n",
       "salary       0.060429  0.616263  1.000000     0.966877\n",
       "expenditure  0.064053  0.622084  0.966877     1.000000"
      ]
     },
     "execution_count": 59,
     "metadata": {},
     "output_type": "execute_result"
    }
   ],
   "source": [
    "# pearsonr, spearmanr, kendalltau\n",
    "df_hk.corr(method='spearman')\n"
   ]
  },
  {
   "cell_type": "code",
   "execution_count": 62,
   "id": "Y7if1mGIr2CY",
   "metadata": {
    "colab": {
     "base_uri": "https://localhost:8080/"
    },
    "executionInfo": {
     "elapsed": 447,
     "status": "ok",
     "timestamp": 1671089321395,
     "user": {
      "displayName": "jinyang park",
      "userId": "06576046992691541404"
     },
     "user_tz": -540
    },
    "id": "Y7if1mGIr2CY",
    "outputId": "05bc7d4a-2758-419e-8404-a7cedcf0ee45"
   },
   "outputs": [
    {
     "data": {
      "text/plain": [
       "SpearmanrResult(correlation=0.616262693087095, pvalue=1.539637811022021e-27)"
      ]
     },
     "execution_count": 62,
     "metadata": {},
     "output_type": "execute_result"
    }
   ],
   "source": [
    "# pearsonr\n",
    "from scipy.stats import spearmanr,pearsonr,kendalltau\n",
    "\n"
   ]
  },
  {
   "cell_type": "code",
   "execution_count": null,
   "id": "m30J32eiq3dH",
   "metadata": {
    "colab": {
     "base_uri": "https://localhost:8080/"
    },
    "executionInfo": {
     "elapsed": 814,
     "status": "ok",
     "timestamp": 1671089078501,
     "user": {
      "displayName": "jinyang park",
      "userId": "06576046992691541404"
     },
     "user_tz": -540
    },
    "id": "m30J32eiq3dH",
    "outputId": "626ee05b-832e-4a36-aed8-67fbabe9bd8c"
   },
   "outputs": [],
   "source": [
    "# spearmanr\n",
    "spearmanr(df_hk['age'],df_hk['salary'])"
   ]
  },
  {
   "cell_type": "code",
   "execution_count": 65,
   "id": "0aLhk1hdq3ne",
   "metadata": {
    "colab": {
     "base_uri": "https://localhost:8080/"
    },
    "executionInfo": {
     "elapsed": 361,
     "status": "ok",
     "timestamp": 1671089074933,
     "user": {
      "displayName": "jinyang park",
      "userId": "06576046992691541404"
     },
     "user_tz": -540
    },
    "id": "0aLhk1hdq3ne",
    "outputId": "6a245f80-2cbc-4bee-9e6a-1297ac1dd0e5"
   },
   "outputs": [
    {
     "data": {
      "text/plain": [
       "KendalltauResult(correlation=0.4873172555182334, pvalue=1.1307798230320081e-29)"
      ]
     },
     "execution_count": 65,
     "metadata": {},
     "output_type": "execute_result"
    }
   ],
   "source": [
    "# kendalltau\n",
    "kendalltau(df_hk['age'],df_hk['salary'])"
   ]
  },
  {
   "cell_type": "code",
   "execution_count": 67,
   "id": "6ef0378f",
   "metadata": {
    "colab": {
     "base_uri": "https://localhost:8080/",
     "height": 297
    },
    "executionInfo": {
     "elapsed": 581,
     "status": "ok",
     "timestamp": 1671089135366,
     "user": {
      "displayName": "jinyang park",
      "userId": "06576046992691541404"
     },
     "user_tz": -540
    },
    "id": "6ef0378f",
    "outputId": "b3b500e6-a54e-4552-8f10-2fd5a68d922e",
    "scrolled": false
   },
   "outputs": [
    {
     "data": {
      "text/plain": [
       "<AxesSubplot:xlabel='age', ylabel='salary'>"
      ]
     },
     "execution_count": 67,
     "metadata": {},
     "output_type": "execute_result"
    },
    {
     "data": {
      "image/png": "[encoded data removed]",
      "text/plain": [
       "<Figure size 640x480 with 1 Axes>"
      ]
     },
     "metadata": {},
     "output_type": "display_data"
    }
   ],
   "source": [
    "# scatterplot 시각화\n",
    "import seaborn as sns\n",
    "\n",
    "sns.scatterplot('age','salary',data =df_hk)\n",
    "\n"
   ]
  },
  {
   "cell_type": "markdown",
   "id": "2277ce51",
   "metadata": {},
   "source": [
    "## Quiz 4\n",
    "\n",
    "bike 데이터(bike.cvs)를 사용하여\n",
    "\n",
    "1) temp, atemp, humidity, registered의 상관 계수중 가장 높은것은 ?\n",
    "\n",
    "2) season별로 자전거 총 대여 숫자(count)와의 상관분석을 실시하고 상관 계수가 가장 높은 계절을 구하시오 \n",
    "\n",
    "3) 날씨가 맑은날(weather = 1) 과 그렇지 않은날 온도(temp)와 자전거 대여 숫자(casual)의 상관계수의 절대값은 얼마인가 ?"
   ]
  },
  {
   "cell_type": "code",
   "execution_count": 68,
   "id": "4fb455d3",
   "metadata": {
    "scrolled": true
   },
   "outputs": [],
   "source": [
    "# 파일 로딩 \n",
    "df_bike = pd.read_csv('./data/bike.csv')"
   ]
  },
  {
   "cell_type": "code",
   "execution_count": 76,
   "id": "b1dc41a9",
   "metadata": {},
   "outputs": [
    {
     "data": {
      "text/html": [
       "<div>\n",
       "<style scoped>\n",
       "    .dataframe tbody tr th:only-of-type {\n",
       "        vertical-align: middle;\n",
       "    }\n",
       "\n",
       "    .dataframe tbody tr th {\n",
       "        vertical-align: top;\n",
       "    }\n",
       "\n",
       "    .dataframe thead th {\n",
       "        text-align: right;\n",
       "    }\n",
       "</style>\n",
       "<table border=\"1\" class=\"dataframe\">\n",
       "  <thead>\n",
       "    <tr style=\"text-align: right;\">\n",
       "      <th></th>\n",
       "      <th>temp</th>\n",
       "      <th>atemp</th>\n",
       "      <th>humidity</th>\n",
       "      <th>registered</th>\n",
       "    </tr>\n",
       "  </thead>\n",
       "  <tbody>\n",
       "    <tr>\n",
       "      <th>temp</th>\n",
       "      <td>1.000000</td>\n",
       "      <td>0.984948</td>\n",
       "      <td>-0.064949</td>\n",
       "      <td>0.318571</td>\n",
       "    </tr>\n",
       "    <tr>\n",
       "      <th>atemp</th>\n",
       "      <td>0.984948</td>\n",
       "      <td>1.000000</td>\n",
       "      <td>-0.043536</td>\n",
       "      <td>0.314635</td>\n",
       "    </tr>\n",
       "    <tr>\n",
       "      <th>humidity</th>\n",
       "      <td>-0.064949</td>\n",
       "      <td>-0.043536</td>\n",
       "      <td>1.000000</td>\n",
       "      <td>-0.265458</td>\n",
       "    </tr>\n",
       "    <tr>\n",
       "      <th>registered</th>\n",
       "      <td>0.318571</td>\n",
       "      <td>0.314635</td>\n",
       "      <td>-0.265458</td>\n",
       "      <td>1.000000</td>\n",
       "    </tr>\n",
       "  </tbody>\n",
       "</table>\n",
       "</div>"
      ],
      "text/plain": [
       "                temp     atemp  humidity  registered\n",
       "temp        1.000000  0.984948 -0.064949    0.318571\n",
       "atemp       0.984948  1.000000 -0.043536    0.314635\n",
       "humidity   -0.064949 -0.043536  1.000000   -0.265458\n",
       "registered  0.318571  0.314635 -0.265458    1.000000"
      ]
     },
     "execution_count": 76,
     "metadata": {},
     "output_type": "execute_result"
    }
   ],
   "source": [
    "# 1) temp, atemp, humidity, registered의 상관 계수중 가장 높은것은 ?\n",
    "df_bike[['temp','atemp','humidity','registered']].corr()"
   ]
  },
  {
   "cell_type": "code",
   "execution_count": 87,
   "id": "5dd402cb",
   "metadata": {},
   "outputs": [
    {
     "data": {
      "text/html": [
       "<div>\n",
       "<style scoped>\n",
       "    .dataframe tbody tr th:only-of-type {\n",
       "        vertical-align: middle;\n",
       "    }\n",
       "\n",
       "    .dataframe tbody tr th {\n",
       "        vertical-align: top;\n",
       "    }\n",
       "\n",
       "    .dataframe thead th {\n",
       "        text-align: right;\n",
       "    }\n",
       "</style>\n",
       "<table border=\"1\" class=\"dataframe\">\n",
       "  <thead>\n",
       "    <tr style=\"text-align: right;\">\n",
       "      <th></th>\n",
       "      <th></th>\n",
       "      <th>atemp</th>\n",
       "      <th>casual</th>\n",
       "    </tr>\n",
       "    <tr>\n",
       "      <th>season</th>\n",
       "      <th></th>\n",
       "      <th></th>\n",
       "      <th></th>\n",
       "    </tr>\n",
       "  </thead>\n",
       "  <tbody>\n",
       "    <tr>\n",
       "      <th rowspan=\"2\" valign=\"top\">1</th>\n",
       "      <th>atemp</th>\n",
       "      <td>1.000000</td>\n",
       "      <td>0.478312</td>\n",
       "    </tr>\n",
       "    <tr>\n",
       "      <th>casual</th>\n",
       "      <td>0.478312</td>\n",
       "      <td>1.000000</td>\n",
       "    </tr>\n",
       "    <tr>\n",
       "      <th rowspan=\"2\" valign=\"top\">2</th>\n",
       "      <th>atemp</th>\n",
       "      <td>1.000000</td>\n",
       "      <td>0.378122</td>\n",
       "    </tr>\n",
       "    <tr>\n",
       "      <th>casual</th>\n",
       "      <td>0.378122</td>\n",
       "      <td>1.000000</td>\n",
       "    </tr>\n",
       "    <tr>\n",
       "      <th rowspan=\"2\" valign=\"top\">3</th>\n",
       "      <th>atemp</th>\n",
       "      <td>1.000000</td>\n",
       "      <td>0.381423</td>\n",
       "    </tr>\n",
       "    <tr>\n",
       "      <th>casual</th>\n",
       "      <td>0.381423</td>\n",
       "      <td>1.000000</td>\n",
       "    </tr>\n",
       "    <tr>\n",
       "      <th rowspan=\"2\" valign=\"top\">4</th>\n",
       "      <th>atemp</th>\n",
       "      <td>1.000000</td>\n",
       "      <td>0.443751</td>\n",
       "    </tr>\n",
       "    <tr>\n",
       "      <th>casual</th>\n",
       "      <td>0.443751</td>\n",
       "      <td>1.000000</td>\n",
       "    </tr>\n",
       "  </tbody>\n",
       "</table>\n",
       "</div>"
      ],
      "text/plain": [
       "                  atemp    casual\n",
       "season                           \n",
       "1      atemp   1.000000  0.478312\n",
       "       casual  0.478312  1.000000\n",
       "2      atemp   1.000000  0.378122\n",
       "       casual  0.378122  1.000000\n",
       "3      atemp   1.000000  0.381423\n",
       "       casual  0.381423  1.000000\n",
       "4      atemp   1.000000  0.443751\n",
       "       casual  0.443751  1.000000"
      ]
     },
     "execution_count": 87,
     "metadata": {},
     "output_type": "execute_result"
    }
   ],
   "source": [
    "# 2) season별로 atemp와 자전거 대여 숫자(casual)와의 상관분석을 실시하고 상관 계수가 가장 높은 계절을 구하시오\n",
    "df_bike.groupby('season')[['atemp','casual']].corr()"
   ]
  },
  {
   "cell_type": "code",
   "execution_count": null,
   "id": "aa3267c1",
   "metadata": {},
   "outputs": [],
   "source": [
    "# 3) 날씨가 맑은날(weather = 1) 과 그렇지 않은날 온도(temp)와 자전거 대여 숫자(casual)의 상관계수의 절대값은 얼마인가 ?\n",
    "\n"
   ]
  },
  {
   "cell_type": "markdown",
   "id": "9ed1430b",
   "metadata": {
    "id": "9ed1430b"
   },
   "source": [
    "## 카이스퀘어 검정\n",
    "\n",
    "$H_0:$ 두 변수는 서로 독립임 (연관이 없음)\n",
    "\n",
    "$H_1:$ 두 변수는 서로 독립이 아님 (연관이 있음)"
   ]
  },
  {
   "cell_type": "code",
   "execution_count": 88,
   "id": "beb3b9e3",
   "metadata": {},
   "outputs": [
    {
     "data": {
      "text/html": [
       "<div>\n",
       "<style scoped>\n",
       "    .dataframe tbody tr th:only-of-type {\n",
       "        vertical-align: middle;\n",
       "    }\n",
       "\n",
       "    .dataframe tbody tr th {\n",
       "        vertical-align: top;\n",
       "    }\n",
       "\n",
       "    .dataframe thead th {\n",
       "        text-align: right;\n",
       "    }\n",
       "</style>\n",
       "<table border=\"1\" class=\"dataframe\">\n",
       "  <thead>\n",
       "    <tr style=\"text-align: right;\">\n",
       "      <th></th>\n",
       "      <th>name</th>\n",
       "      <th>social_security_number</th>\n",
       "      <th>gender</th>\n",
       "      <th>height</th>\n",
       "      <th>age</th>\n",
       "      <th>blood_type</th>\n",
       "      <th>company</th>\n",
       "      <th>grades</th>\n",
       "      <th>salary</th>\n",
       "      <th>expenditure</th>\n",
       "      <th>car_type</th>\n",
       "    </tr>\n",
       "  </thead>\n",
       "  <tbody>\n",
       "    <tr>\n",
       "      <th>0</th>\n",
       "      <td>hkd1</td>\n",
       "      <td>990623-2</td>\n",
       "      <td>F</td>\n",
       "      <td>161.9</td>\n",
       "      <td>22</td>\n",
       "      <td>A</td>\n",
       "      <td>A</td>\n",
       "      <td>A</td>\n",
       "      <td>4100</td>\n",
       "      <td>1975</td>\n",
       "      <td>L</td>\n",
       "    </tr>\n",
       "    <tr>\n",
       "      <th>1</th>\n",
       "      <td>hkd10</td>\n",
       "      <td>900303-2</td>\n",
       "      <td>F</td>\n",
       "      <td>169.4</td>\n",
       "      <td>31</td>\n",
       "      <td>A</td>\n",
       "      <td>A</td>\n",
       "      <td>B</td>\n",
       "      <td>4720</td>\n",
       "      <td>2970</td>\n",
       "      <td>m</td>\n",
       "    </tr>\n",
       "    <tr>\n",
       "      <th>2</th>\n",
       "      <td>hkd100</td>\n",
       "      <td>681205-2</td>\n",
       "      <td>F</td>\n",
       "      <td>168.3</td>\n",
       "      <td>55</td>\n",
       "      <td>A</td>\n",
       "      <td>A</td>\n",
       "      <td>B</td>\n",
       "      <td>7280</td>\n",
       "      <td>5905</td>\n",
       "      <td>m</td>\n",
       "    </tr>\n",
       "    <tr>\n",
       "      <th>3</th>\n",
       "      <td>hkd101</td>\n",
       "      <td>931226-2</td>\n",
       "      <td>F</td>\n",
       "      <td>155.3</td>\n",
       "      <td>28</td>\n",
       "      <td>AB</td>\n",
       "      <td>B</td>\n",
       "      <td>B</td>\n",
       "      <td>4060</td>\n",
       "      <td>2935</td>\n",
       "      <td>m</td>\n",
       "    </tr>\n",
       "    <tr>\n",
       "      <th>4</th>\n",
       "      <td>hkd102</td>\n",
       "      <td>920123-1</td>\n",
       "      <td>M</td>\n",
       "      <td>188.6</td>\n",
       "      <td>29</td>\n",
       "      <td>O</td>\n",
       "      <td>B</td>\n",
       "      <td>F</td>\n",
       "      <td>4390</td>\n",
       "      <td>4015</td>\n",
       "      <td>SS</td>\n",
       "    </tr>\n",
       "  </tbody>\n",
       "</table>\n",
       "</div>"
      ],
      "text/plain": [
       "     name social_security_number gender  height  age blood_type company  \\\n",
       "0    hkd1               990623-2      F   161.9   22          A       A   \n",
       "1   hkd10               900303-2      F   169.4   31          A       A   \n",
       "2  hkd100               681205-2      F   168.3   55          A       A   \n",
       "3  hkd101               931226-2      F   155.3   28         AB       B   \n",
       "4  hkd102               920123-1      M   188.6   29          O       B   \n",
       "\n",
       "  grades  salary  expenditure car_type  \n",
       "0      A    4100         1975        L  \n",
       "1      B    4720         2970        m  \n",
       "2      B    7280         5905        m  \n",
       "3      B    4060         2935        m  \n",
       "4      F    4390         4015       SS  "
      ]
     },
     "execution_count": 88,
     "metadata": {},
     "output_type": "execute_result"
    }
   ],
   "source": [
    "# 파일 로딩\n",
    "df_hk[:5]"
   ]
  },
  {
   "cell_type": "code",
   "execution_count": 106,
   "id": "d4f1ac91",
   "metadata": {},
   "outputs": [
    {
     "data": {
      "text/html": [
       "<div>\n",
       "<style scoped>\n",
       "    .dataframe tbody tr th:only-of-type {\n",
       "        vertical-align: middle;\n",
       "    }\n",
       "\n",
       "    .dataframe tbody tr th {\n",
       "        vertical-align: top;\n",
       "    }\n",
       "\n",
       "    .dataframe thead th {\n",
       "        text-align: right;\n",
       "    }\n",
       "</style>\n",
       "<table border=\"1\" class=\"dataframe\">\n",
       "  <thead>\n",
       "    <tr style=\"text-align: right;\">\n",
       "      <th>company</th>\n",
       "      <th>A</th>\n",
       "      <th>B</th>\n",
       "      <th>C</th>\n",
       "    </tr>\n",
       "    <tr>\n",
       "      <th>gender</th>\n",
       "      <th></th>\n",
       "      <th></th>\n",
       "      <th></th>\n",
       "    </tr>\n",
       "  </thead>\n",
       "  <tbody>\n",
       "    <tr>\n",
       "      <th>F</th>\n",
       "      <td>40</td>\n",
       "      <td>47</td>\n",
       "      <td>25</td>\n",
       "    </tr>\n",
       "    <tr>\n",
       "      <th>M</th>\n",
       "      <td>60</td>\n",
       "      <td>53</td>\n",
       "      <td>25</td>\n",
       "    </tr>\n",
       "  </tbody>\n",
       "</table>\n",
       "</div>"
      ],
      "text/plain": [
       "company   A   B   C\n",
       "gender             \n",
       "F        40  47  25\n",
       "M        60  53  25"
      ]
     },
     "execution_count": 106,
     "metadata": {},
     "output_type": "execute_result"
    }
   ],
   "source": [
    "cross"
   ]
  },
  {
   "cell_type": "code",
   "execution_count": 105,
   "id": "44b94e60",
   "metadata": {
    "colab": {
     "base_uri": "https://localhost:8080/",
     "height": 143
    },
    "executionInfo": {
     "elapsed": 322,
     "status": "ok",
     "timestamp": 1671090083141,
     "user": {
      "displayName": "jinyang park",
      "userId": "06576046992691541404"
     },
     "user_tz": -540
    },
    "id": "44b94e60",
    "outputId": "13aad208-2d02-4aca-e8c9-69dcf80a0586",
    "scrolled": true
   },
   "outputs": [
    {
     "data": {
      "text/plain": [
       "(1.674107142857143,\n",
       " 0.43298440342651534,\n",
       " 2,\n",
       " array([[44.8, 44.8, 22.4],\n",
       "        [55.2, 55.2, 27.6]]))"
      ]
     },
     "execution_count": 105,
     "metadata": {},
     "output_type": "execute_result"
    }
   ],
   "source": [
    "# chi-squared test 1, gender company의 상관관계에 대하여\n",
    "from scipy.stats import chi2_contingency\n",
    "#독립성검정 테스트\n",
    "\n",
    "cross = pd.crosstab(df_hk['gender'],df_hk['company'])\n"
   ]
  },
  {
   "cell_type": "code",
   "execution_count": 107,
   "id": "cVQWOBgLuX9u",
   "metadata": {
    "colab": {
     "base_uri": "https://localhost:8080/"
    },
    "executionInfo": {
     "elapsed": 555,
     "status": "ok",
     "timestamp": 1671090133555,
     "user": {
      "displayName": "jinyang park",
      "userId": "06576046992691541404"
     },
     "user_tz": -540
    },
    "id": "cVQWOBgLuX9u",
    "outputId": "4bc3dba6-740e-4291-a108-a8e2ea564825",
    "scrolled": true
   },
   "outputs": [
    {
     "data": {
      "text/plain": [
       "(1.674107142857143,\n",
       " 0.43298440342651534,\n",
       " 2,\n",
       " array([[44.8, 44.8, 22.4],\n",
       "        [55.2, 55.2, 27.6]]))"
      ]
     },
     "execution_count": 107,
     "metadata": {},
     "output_type": "execute_result"
    }
   ],
   "source": [
    "# chi2_contingency\n",
    "chi2_contingency(cross)"
   ]
  },
  {
   "cell_type": "code",
   "execution_count": 110,
   "id": "b74c541f",
   "metadata": {
    "colab": {
     "base_uri": "https://localhost:8080/",
     "height": 143
    },
    "executionInfo": {
     "elapsed": 322,
     "status": "ok",
     "timestamp": 1671090083141,
     "user": {
      "displayName": "jinyang park",
      "userId": "06576046992691541404"
     },
     "user_tz": -540
    },
    "id": "44b94e60",
    "outputId": "13aad208-2d02-4aca-e8c9-69dcf80a0586",
    "scrolled": true
   },
   "outputs": [
    {
     "data": {
      "text/plain": [
       "(4.3831600833689315,\n",
       " 0.35662732977015354,\n",
       " 4,\n",
       " array([[35.392, 51.968, 14.336,  7.168,  3.136],\n",
       "        [43.608, 64.032, 17.664,  8.832,  3.864]]))"
      ]
     },
     "execution_count": 110,
     "metadata": {},
     "output_type": "execute_result"
    }
   ],
   "source": [
    "# chi-squared test 2\n",
    "cross2 = pd.crosstab(df_hk['gender'],df_hk['grades'])\n",
    "chi2_contingency(cross2)\n",
    "# p value 0.05 보다 크므로 독립이다."
   ]
  },
  {
   "cell_type": "markdown",
   "id": "52d9d524",
   "metadata": {},
   "source": [
    "## Quiz 5\n",
    "\n",
    "bike 데이터(bike.cvs)를 사용하여\n",
    "\n",
    "1) season과 weather dtype을 문자형으로 변환하고 \n",
    "\n",
    "   두 변수가 관련있는지 적절한 검정을 하고 검정통계량과 p-value를 구하시오  \n",
    "\n",
    "2) 자전거 총 대여수(count)가 상위 30%일때 'high', 그 미만 일때 'low' 인 파생변수(count_high)를 생성하고\n",
    "   count_high와 workingday의 독립성 여부를 검정하고 검정 통계량을 구하시오 (소숫점 넷째자리 반올림하여 표기)"
   ]
  },
  {
   "cell_type": "code",
   "execution_count": 214,
   "id": "189afad7",
   "metadata": {
    "scrolled": true
   },
   "outputs": [],
   "source": [
    "# 파일 로딩 \n",
    "df_bike = pd.read_csv('./data/bike.csv')\n"
   ]
  },
  {
   "cell_type": "code",
   "execution_count": 215,
   "id": "2d4428d0",
   "metadata": {
    "scrolled": false
   },
   "outputs": [
    {
     "data": {
      "text/plain": [
       "(49.158655596893624,\n",
       " 1.549925073686492e-07,\n",
       " 9,\n",
       " array([[1.77454639e+03, 6.99258130e+02, 2.11948742e+02, 2.46738931e-01],\n",
       "        [1.80559765e+03, 7.11493845e+02, 2.15657450e+02, 2.51056403e-01],\n",
       "        [1.80559765e+03, 7.11493845e+02, 2.15657450e+02, 2.51056403e-01],\n",
       "        [1.80625831e+03, 7.11754180e+02, 2.15736359e+02, 2.51148264e-01]]))"
      ]
     },
     "execution_count": 215,
     "metadata": {},
     "output_type": "execute_result"
    }
   ],
   "source": [
    "# 1) season과 weather dtype을 문자형으로 변환하고\n",
    "#    두 변수가 관련있는지 적절한 검정을 하고 검정통계량과 p-value를 구하시오\n",
    "df_bike = df_bike.astype({'season':'str','weather':'str'})\n",
    "cross3 = pd.crosstab(df_bike['season'],df_bike['weather'])\n",
    "chi2_contingency(cross3)"
   ]
  },
  {
   "cell_type": "code",
   "execution_count": 216,
   "id": "9f49f628",
   "metadata": {
    "scrolled": true
   },
   "outputs": [],
   "source": [
    "# 2) 자전거 총 대여수(count)가 상위 30%일때 'high', 그 미만 일때 'low' 인 파생변수(count_high)를 생성하고\n",
    "#    count_high와 workingday의 연관성 여부를 검정하고 검정 통계량을 구하시오 (소숫점 넷째자리 반올림하여 표기)\n",
    "\n",
    "df_bike['count']\n",
    "level = df_bike['count'].quantile(q=0.3,interpolation='higher')\n",
    "df_bike['count_high'] = 'high'\n"
   ]
  },
  {
   "cell_type": "code",
   "execution_count": 219,
   "id": "5ecb6cf0",
   "metadata": {},
   "outputs": [],
   "source": [
    "df_bike.loc[df_bike['count']<level, 'count_high'] = 'low'"
   ]
  },
  {
   "cell_type": "code",
   "execution_count": 220,
   "id": "8372f6c5",
   "metadata": {},
   "outputs": [
    {
     "data": {
      "text/html": [
       "<div>\n",
       "<style scoped>\n",
       "    .dataframe tbody tr th:only-of-type {\n",
       "        vertical-align: middle;\n",
       "    }\n",
       "\n",
       "    .dataframe tbody tr th {\n",
       "        vertical-align: top;\n",
       "    }\n",
       "\n",
       "    .dataframe thead th {\n",
       "        text-align: right;\n",
       "    }\n",
       "</style>\n",
       "<table border=\"1\" class=\"dataframe\">\n",
       "  <thead>\n",
       "    <tr style=\"text-align: right;\">\n",
       "      <th></th>\n",
       "      <th>datetime</th>\n",
       "      <th>season</th>\n",
       "      <th>holiday</th>\n",
       "      <th>workingday</th>\n",
       "      <th>weather</th>\n",
       "      <th>temp</th>\n",
       "      <th>atemp</th>\n",
       "      <th>humidity</th>\n",
       "      <th>windspeed</th>\n",
       "      <th>casual</th>\n",
       "      <th>registered</th>\n",
       "      <th>count</th>\n",
       "      <th>count_high</th>\n",
       "    </tr>\n",
       "  </thead>\n",
       "  <tbody>\n",
       "    <tr>\n",
       "      <th>0</th>\n",
       "      <td>2011-01-01 00:00:00</td>\n",
       "      <td>1</td>\n",
       "      <td>0</td>\n",
       "      <td>0</td>\n",
       "      <td>1</td>\n",
       "      <td>9.84</td>\n",
       "      <td>14.395</td>\n",
       "      <td>81</td>\n",
       "      <td>0.0000</td>\n",
       "      <td>3</td>\n",
       "      <td>13</td>\n",
       "      <td>16</td>\n",
       "      <td>low</td>\n",
       "    </tr>\n",
       "    <tr>\n",
       "      <th>1</th>\n",
       "      <td>2011-01-01 01:00:00</td>\n",
       "      <td>1</td>\n",
       "      <td>0</td>\n",
       "      <td>0</td>\n",
       "      <td>1</td>\n",
       "      <td>9.02</td>\n",
       "      <td>13.635</td>\n",
       "      <td>80</td>\n",
       "      <td>0.0000</td>\n",
       "      <td>8</td>\n",
       "      <td>32</td>\n",
       "      <td>40</td>\n",
       "      <td>low</td>\n",
       "    </tr>\n",
       "    <tr>\n",
       "      <th>2</th>\n",
       "      <td>2011-01-01 02:00:00</td>\n",
       "      <td>1</td>\n",
       "      <td>0</td>\n",
       "      <td>0</td>\n",
       "      <td>1</td>\n",
       "      <td>9.02</td>\n",
       "      <td>13.635</td>\n",
       "      <td>80</td>\n",
       "      <td>0.0000</td>\n",
       "      <td>5</td>\n",
       "      <td>27</td>\n",
       "      <td>32</td>\n",
       "      <td>low</td>\n",
       "    </tr>\n",
       "    <tr>\n",
       "      <th>3</th>\n",
       "      <td>2011-01-01 03:00:00</td>\n",
       "      <td>1</td>\n",
       "      <td>0</td>\n",
       "      <td>0</td>\n",
       "      <td>1</td>\n",
       "      <td>9.84</td>\n",
       "      <td>14.395</td>\n",
       "      <td>75</td>\n",
       "      <td>0.0000</td>\n",
       "      <td>3</td>\n",
       "      <td>10</td>\n",
       "      <td>13</td>\n",
       "      <td>low</td>\n",
       "    </tr>\n",
       "    <tr>\n",
       "      <th>4</th>\n",
       "      <td>2011-01-01 04:00:00</td>\n",
       "      <td>1</td>\n",
       "      <td>0</td>\n",
       "      <td>0</td>\n",
       "      <td>1</td>\n",
       "      <td>9.84</td>\n",
       "      <td>14.395</td>\n",
       "      <td>75</td>\n",
       "      <td>0.0000</td>\n",
       "      <td>0</td>\n",
       "      <td>1</td>\n",
       "      <td>1</td>\n",
       "      <td>low</td>\n",
       "    </tr>\n",
       "    <tr>\n",
       "      <th>...</th>\n",
       "      <td>...</td>\n",
       "      <td>...</td>\n",
       "      <td>...</td>\n",
       "      <td>...</td>\n",
       "      <td>...</td>\n",
       "      <td>...</td>\n",
       "      <td>...</td>\n",
       "      <td>...</td>\n",
       "      <td>...</td>\n",
       "      <td>...</td>\n",
       "      <td>...</td>\n",
       "      <td>...</td>\n",
       "      <td>...</td>\n",
       "    </tr>\n",
       "    <tr>\n",
       "      <th>10881</th>\n",
       "      <td>2012-12-19 19:00:00</td>\n",
       "      <td>4</td>\n",
       "      <td>0</td>\n",
       "      <td>1</td>\n",
       "      <td>1</td>\n",
       "      <td>15.58</td>\n",
       "      <td>19.695</td>\n",
       "      <td>50</td>\n",
       "      <td>26.0027</td>\n",
       "      <td>7</td>\n",
       "      <td>329</td>\n",
       "      <td>336</td>\n",
       "      <td>high</td>\n",
       "    </tr>\n",
       "    <tr>\n",
       "      <th>10882</th>\n",
       "      <td>2012-12-19 20:00:00</td>\n",
       "      <td>4</td>\n",
       "      <td>0</td>\n",
       "      <td>1</td>\n",
       "      <td>1</td>\n",
       "      <td>14.76</td>\n",
       "      <td>17.425</td>\n",
       "      <td>57</td>\n",
       "      <td>15.0013</td>\n",
       "      <td>10</td>\n",
       "      <td>231</td>\n",
       "      <td>241</td>\n",
       "      <td>high</td>\n",
       "    </tr>\n",
       "    <tr>\n",
       "      <th>10883</th>\n",
       "      <td>2012-12-19 21:00:00</td>\n",
       "      <td>4</td>\n",
       "      <td>0</td>\n",
       "      <td>1</td>\n",
       "      <td>1</td>\n",
       "      <td>13.94</td>\n",
       "      <td>15.910</td>\n",
       "      <td>61</td>\n",
       "      <td>15.0013</td>\n",
       "      <td>4</td>\n",
       "      <td>164</td>\n",
       "      <td>168</td>\n",
       "      <td>high</td>\n",
       "    </tr>\n",
       "    <tr>\n",
       "      <th>10884</th>\n",
       "      <td>2012-12-19 22:00:00</td>\n",
       "      <td>4</td>\n",
       "      <td>0</td>\n",
       "      <td>1</td>\n",
       "      <td>1</td>\n",
       "      <td>13.94</td>\n",
       "      <td>17.425</td>\n",
       "      <td>61</td>\n",
       "      <td>6.0032</td>\n",
       "      <td>12</td>\n",
       "      <td>117</td>\n",
       "      <td>129</td>\n",
       "      <td>high</td>\n",
       "    </tr>\n",
       "    <tr>\n",
       "      <th>10885</th>\n",
       "      <td>2012-12-19 23:00:00</td>\n",
       "      <td>4</td>\n",
       "      <td>0</td>\n",
       "      <td>1</td>\n",
       "      <td>1</td>\n",
       "      <td>13.12</td>\n",
       "      <td>16.665</td>\n",
       "      <td>66</td>\n",
       "      <td>8.9981</td>\n",
       "      <td>4</td>\n",
       "      <td>84</td>\n",
       "      <td>88</td>\n",
       "      <td>high</td>\n",
       "    </tr>\n",
       "  </tbody>\n",
       "</table>\n",
       "<p>10886 rows × 13 columns</p>\n",
       "</div>"
      ],
      "text/plain": [
       "                  datetime season  holiday  workingday weather   temp   atemp  \\\n",
       "0      2011-01-01 00:00:00      1        0           0       1   9.84  14.395   \n",
       "1      2011-01-01 01:00:00      1        0           0       1   9.02  13.635   \n",
       "2      2011-01-01 02:00:00      1        0           0       1   9.02  13.635   \n",
       "3      2011-01-01 03:00:00      1        0           0       1   9.84  14.395   \n",
       "4      2011-01-01 04:00:00      1        0           0       1   9.84  14.395   \n",
       "...                    ...    ...      ...         ...     ...    ...     ...   \n",
       "10881  2012-12-19 19:00:00      4        0           1       1  15.58  19.695   \n",
       "10882  2012-12-19 20:00:00      4        0           1       1  14.76  17.425   \n",
       "10883  2012-12-19 21:00:00      4        0           1       1  13.94  15.910   \n",
       "10884  2012-12-19 22:00:00      4        0           1       1  13.94  17.425   \n",
       "10885  2012-12-19 23:00:00      4        0           1       1  13.12  16.665   \n",
       "\n",
       "       humidity  windspeed  casual  registered  count count_high  \n",
       "0            81     0.0000       3          13     16        low  \n",
       "1            80     0.0000       8          32     40        low  \n",
       "2            80     0.0000       5          27     32        low  \n",
       "3            75     0.0000       3          10     13        low  \n",
       "4            75     0.0000       0           1      1        low  \n",
       "...         ...        ...     ...         ...    ...        ...  \n",
       "10881        50    26.0027       7         329    336       high  \n",
       "10882        57    15.0013      10         231    241       high  \n",
       "10883        61    15.0013       4         164    168       high  \n",
       "10884        61     6.0032      12         117    129       high  \n",
       "10885        66     8.9981       4          84     88       high  \n",
       "\n",
       "[10886 rows x 13 columns]"
      ]
     },
     "execution_count": 220,
     "metadata": {},
     "output_type": "execute_result"
    }
   ],
   "source": [
    "df_bike"
   ]
  },
  {
   "cell_type": "code",
   "execution_count": 226,
   "id": "d29be83f",
   "metadata": {},
   "outputs": [],
   "source": [
    "cross4 = pd.crosstab(df_bike['count_high'],df_bike['workingday'])"
   ]
  },
  {
   "cell_type": "code",
   "execution_count": 227,
   "id": "aee47727",
   "metadata": {},
   "outputs": [
    {
     "data": {
      "text/html": [
       "<div>\n",
       "<style scoped>\n",
       "    .dataframe tbody tr th:only-of-type {\n",
       "        vertical-align: middle;\n",
       "    }\n",
       "\n",
       "    .dataframe tbody tr th {\n",
       "        vertical-align: top;\n",
       "    }\n",
       "\n",
       "    .dataframe thead th {\n",
       "        text-align: right;\n",
       "    }\n",
       "</style>\n",
       "<table border=\"1\" class=\"dataframe\">\n",
       "  <thead>\n",
       "    <tr style=\"text-align: right;\">\n",
       "      <th>workingday</th>\n",
       "      <th>0</th>\n",
       "      <th>1</th>\n",
       "    </tr>\n",
       "    <tr>\n",
       "      <th>count_high</th>\n",
       "      <th></th>\n",
       "      <th></th>\n",
       "    </tr>\n",
       "  </thead>\n",
       "  <tbody>\n",
       "    <tr>\n",
       "      <th>high</th>\n",
       "      <td>2412</td>\n",
       "      <td>5222</td>\n",
       "    </tr>\n",
       "    <tr>\n",
       "      <th>low</th>\n",
       "      <td>1062</td>\n",
       "      <td>2190</td>\n",
       "    </tr>\n",
       "  </tbody>\n",
       "</table>\n",
       "</div>"
      ],
      "text/plain": [
       "workingday     0     1\n",
       "count_high            \n",
       "high        2412  5222\n",
       "low         1062  2190"
      ]
     },
     "execution_count": 227,
     "metadata": {},
     "output_type": "execute_result"
    }
   ],
   "source": [
    "cross4"
   ]
  },
  {
   "cell_type": "code",
   "execution_count": 228,
   "id": "4cc6e0eb",
   "metadata": {},
   "outputs": [
    {
     "data": {
      "text/plain": [
       "(1.1339080675378113,\n",
       " 0.2869432736291613,\n",
       " 1,\n",
       " array([[2436.20393166, 5197.79606834],\n",
       "        [1037.79606834, 2214.20393166]]))"
      ]
     },
     "execution_count": 228,
     "metadata": {},
     "output_type": "execute_result"
    }
   ],
   "source": [
    "chi2_contingency(cross4) #독립이다 라고 나온다\n"
   ]
  },
  {
   "cell_type": "markdown",
   "id": "526bd9d1",
   "metadata": {},
   "source": [
    "## Quiz 6\n",
    "\n",
    "<br>교육 전문기관 분석팀에서는 교육 수강자의 정보를 바탕으로 진로설계 프로그램을 운영하기 위해 다음 정보를 수집하였다.\n",
    "<br>DS_Sample_2.csv (구분자: comma(“,”), 19,158 Rows, 15 Columns, UTF-8 인코딩)\n",
    "\n",
    "<br>분석을 수행하기 전, 상기 데이터를 이용하여 아래의 전처리를 수행하시오.\n",
    "\n",
    "<br>단계 1: 분석에 사용하지 않을 city, company_size, company_type 컬럼을 제거하시오.\n",
    "<br>단계 2: 각 문자형(String Type) 컬럼에 결측치(null/empty space)가 하나라도 존재하는 행(row)은 모두 제거하시오.\n",
    "<br>단계 3: experience 컬럼의 값이 ‘>20’ 또는 ‘<1’인 값을 제거하고 experience 컬럼의 타입을 정수형(Integer)으로 변환하시오.\n",
    "<br>단계 4: last_new_job 컬럼의 값이 ‘>4’ 또는 ‘never’인 값을 제거하고 last_new_job컬럼의 타입을 정수형(Integer)으로 변환하시오.\n",
    "\n",
    "<br>상기 전처리를 완료한 데이터셋(데이터셋명: job2, 7,522 Rows)을 이용하여 다음 문제에 답하시오.\n",
    "\n",
    "<br>(job2를 이용하여) ‘관련 분야 경험 여부(relevant_experience)’에 따른 ‘이직 희망 여부(target)’를 기술통계량으로 확인하고자 한다.\n",
    "<br>관련 분야 경험이 없는(relevant_experience=‘No relevant experience’) 수료자 중 이직을 희망(target=’1’)하는 수료자의 비율을 A,\n",
    "<br>관련 분야 경험이 있는(relevant_experience=’Has relevant experience’) 수료자 중 이직을 희망(target=’1’)하는 수료자의 비율을 B라 할때, A/B를 구하시오.\n",
    "-\t소수점 셋째 자리에서 반올림하여 소수점 둘째 자리까지 기술하시오.\n",
    "<br>(답안예시) 12.34\n"
   ]
  },
  {
   "cell_type": "code",
   "execution_count": null,
   "id": "8582d71c",
   "metadata": {},
   "outputs": [],
   "source": [
    "# 파일 로딩\n"
   ]
  },
  {
   "cell_type": "code",
   "execution_count": null,
   "id": "28e4b7b3",
   "metadata": {},
   "outputs": [],
   "source": [
    "# 단계 1: 분석에 사용하지 않을 city, company_size, company_type 컬럼을 제거하시오\n"
   ]
  },
  {
   "cell_type": "code",
   "execution_count": null,
   "id": "69079f34",
   "metadata": {},
   "outputs": [],
   "source": [
    "# 단계 2: 각 문자형(String Type) 컬럼에 결측치(null/empty space)가 하나라도 존재하는 행(row)은 모두 제거하시오.\n"
   ]
  },
  {
   "cell_type": "code",
   "execution_count": null,
   "id": "4c02cc9b",
   "metadata": {},
   "outputs": [],
   "source": [
    "# 단계 3: experience 컬럼의 값이 ‘>20’ 또는 ‘<1’인 값을 제거하고 experience 컬럼의 타입을 정수형(Integer)으로 변환하시오.\n"
   ]
  },
  {
   "cell_type": "code",
   "execution_count": null,
   "id": "174f1134",
   "metadata": {},
   "outputs": [],
   "source": [
    "# 단계 4: last_new_job 컬럼의 값이 ‘>4’ 또는 ‘never’인 값을 제거하고 last_new_job컬럼의 타입을 정수형(Integer)으로 변환하시오.\n"
   ]
  },
  {
   "cell_type": "code",
   "execution_count": null,
   "id": "b41655b7",
   "metadata": {},
   "outputs": [],
   "source": [
    "# No relevant experience 중 target = 1 을 A,\n",
    "# Has relevant experience 중 target = 1 을 B라 할때, A/B를 구하시오\n"
   ]
  },
  {
   "cell_type": "code",
   "execution_count": null,
   "id": "63baa80c",
   "metadata": {},
   "outputs": [],
   "source": []
  }
 ],
 "metadata": {
  "colab": {
   "provenance": [
    {
     "file_id": "1JCIWRPQ6yvopC-0wzFMsykN_2iEQbRI8",
     "timestamp": 1671083690777
    },
    {
     "file_id": "18qobvw6GMkmHwAdy8Ih613266g0cGRiC",
     "timestamp": 1670384944774
    }
   ]
  },
  "kernelspec": {
   "display_name": "Python 3 (ipykernel)",
   "language": "python",
   "name": "python3"
  },
  "language_info": {
   "codemirror_mode": {
    "name": "ipython",
    "version": 3
   },
   "file_extension": ".py",
   "mimetype": "text/x-python",
   "name": "python",
   "nbconvert_exporter": "python",
   "pygments_lexer": "ipython3",
   "version": "3.9.13"
  }
 },
 "nbformat": 4,
 "nbformat_minor": 5
}
